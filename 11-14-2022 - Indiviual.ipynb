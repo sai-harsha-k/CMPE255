{
  "nbformat": 4,
  "nbformat_minor": 0,
  "metadata": {
    "colab": {
      "provenance": [],
      "collapsed_sections": []
    },
    "kernelspec": {
      "name": "python3",
      "display_name": "Python 3"
    },
    "language_info": {
      "name": "python"
    }
  },
  "cells": [
    {
      "cell_type": "code",
      "execution_count": 1,
      "metadata": {
        "id": "ZTARufyCuOHd"
      },
      "outputs": [],
      "source": [
        "import numpy as np\n",
        "import pandas as pd\n",
        "import matplotlib.pyplot as plt"
      ]
    },
    {
      "cell_type": "code",
      "source": [
        "df1=pd.read_csv('/content/US Police shootings in from 2015-22.csv')"
      ],
      "metadata": {
        "id": "OKofOfwZuXyR"
      },
      "execution_count": 2,
      "outputs": []
    },
    {
      "cell_type": "code",
      "source": [
        "df1.columns"
      ],
      "metadata": {
        "colab": {
          "base_uri": "https://localhost:8080/"
        },
        "id": "QUGwP3K4uZ3t",
        "outputId": "2010cb5f-5032-4bcc-dfc1-312f9649c387"
      },
      "execution_count": 3,
      "outputs": [
        {
          "output_type": "execute_result",
          "data": {
            "text/plain": [
              "Index(['id', 'name', 'date', 'manner_of_death', 'armed', 'age', 'gender',\n",
              "       'race', 'city', 'state', 'signs_of_mental_illness', 'threat_level',\n",
              "       'flee', 'body_camera', 'longitude', 'latitude', 'is_geocoding_exact'],\n",
              "      dtype='object')"
            ]
          },
          "metadata": {},
          "execution_count": 3
        }
      ]
    },
    {
      "cell_type": "code",
      "source": [
        "df1.head(10)"
      ],
      "metadata": {
        "colab": {
          "base_uri": "https://localhost:8080/",
          "height": 363
        },
        "id": "sJGzhcmgyAyh",
        "outputId": "4395b9ea-dcc1-444a-b6c5-516dffbdc8f2"
      },
      "execution_count": 4,
      "outputs": [
        {
          "output_type": "execute_result",
          "data": {
            "text/plain": [
              "   id                 name        date   manner_of_death       armed   age  \\\n",
              "0   1           Tim Elliot  2015-01-02              shot         gun  53.0   \n",
              "1   2     Lewis Lee Lembke  2015-01-02              shot         gun  47.0   \n",
              "2   3   John Paul Quintero  2015-01-03  shot and Tasered     unarmed  23.0   \n",
              "3   4      Matthew Hoffman  2015-01-04              shot  toy weapon  32.0   \n",
              "4   5    Michael Rodriguez  2015-01-04              shot    nail gun  39.0   \n",
              "5   6    Kenneth Joe Brown  2015-01-04              shot         gun  18.0   \n",
              "6   7  Kenneth Arnold Buck  2015-01-05              shot         gun  22.0   \n",
              "7   8        Brock Nichols  2015-01-06              shot         gun  35.0   \n",
              "8   9        Autumn Steele  2015-01-06              shot     unarmed  34.0   \n",
              "9  10      Leslie Sapp III  2015-01-06              shot  toy weapon  47.0   \n",
              "\n",
              "  gender race           city state  signs_of_mental_illness threat_level  \\\n",
              "0      M    A        Shelton    WA                     True       attack   \n",
              "1      M    W          Aloha    OR                    False       attack   \n",
              "2      M    H        Wichita    KS                    False        other   \n",
              "3      M    W  San Francisco    CA                     True       attack   \n",
              "4      M    H          Evans    CO                    False       attack   \n",
              "5      M    W        Guthrie    OK                    False       attack   \n",
              "6      M    H       Chandler    AZ                    False       attack   \n",
              "7      M    W        Assaria    KS                    False       attack   \n",
              "8      F    W     Burlington    IA                    False        other   \n",
              "9      M    B      Knoxville    PA                    False       attack   \n",
              "\n",
              "          flee  body_camera  longitude  latitude  is_geocoding_exact  \n",
              "0  Not fleeing        False   -123.122    47.247                True  \n",
              "1  Not fleeing        False   -122.892    45.487                True  \n",
              "2  Not fleeing        False    -97.281    37.695                True  \n",
              "3  Not fleeing        False   -122.422    37.763                True  \n",
              "4  Not fleeing        False   -104.692    40.384                True  \n",
              "5  Not fleeing        False    -97.423    35.877                True  \n",
              "6          Car        False   -111.841    33.328                True  \n",
              "7  Not fleeing        False    -97.564    38.704                True  \n",
              "8  Not fleeing         True    -91.119    40.809                True  \n",
              "9  Not fleeing        False    -79.991    40.413                True  "
            ],
            "text/html": [
              "\n",
              "  <div id=\"df-6105ddda-d804-48ac-9019-27e332d19aee\">\n",
              "    <div class=\"colab-df-container\">\n",
              "      <div>\n",
              "<style scoped>\n",
              "    .dataframe tbody tr th:only-of-type {\n",
              "        vertical-align: middle;\n",
              "    }\n",
              "\n",
              "    .dataframe tbody tr th {\n",
              "        vertical-align: top;\n",
              "    }\n",
              "\n",
              "    .dataframe thead th {\n",
              "        text-align: right;\n",
              "    }\n",
              "</style>\n",
              "<table border=\"1\" class=\"dataframe\">\n",
              "  <thead>\n",
              "    <tr style=\"text-align: right;\">\n",
              "      <th></th>\n",
              "      <th>id</th>\n",
              "      <th>name</th>\n",
              "      <th>date</th>\n",
              "      <th>manner_of_death</th>\n",
              "      <th>armed</th>\n",
              "      <th>age</th>\n",
              "      <th>gender</th>\n",
              "      <th>race</th>\n",
              "      <th>city</th>\n",
              "      <th>state</th>\n",
              "      <th>signs_of_mental_illness</th>\n",
              "      <th>threat_level</th>\n",
              "      <th>flee</th>\n",
              "      <th>body_camera</th>\n",
              "      <th>longitude</th>\n",
              "      <th>latitude</th>\n",
              "      <th>is_geocoding_exact</th>\n",
              "    </tr>\n",
              "  </thead>\n",
              "  <tbody>\n",
              "    <tr>\n",
              "      <th>0</th>\n",
              "      <td>1</td>\n",
              "      <td>Tim Elliot</td>\n",
              "      <td>2015-01-02</td>\n",
              "      <td>shot</td>\n",
              "      <td>gun</td>\n",
              "      <td>53.0</td>\n",
              "      <td>M</td>\n",
              "      <td>A</td>\n",
              "      <td>Shelton</td>\n",
              "      <td>WA</td>\n",
              "      <td>True</td>\n",
              "      <td>attack</td>\n",
              "      <td>Not fleeing</td>\n",
              "      <td>False</td>\n",
              "      <td>-123.122</td>\n",
              "      <td>47.247</td>\n",
              "      <td>True</td>\n",
              "    </tr>\n",
              "    <tr>\n",
              "      <th>1</th>\n",
              "      <td>2</td>\n",
              "      <td>Lewis Lee Lembke</td>\n",
              "      <td>2015-01-02</td>\n",
              "      <td>shot</td>\n",
              "      <td>gun</td>\n",
              "      <td>47.0</td>\n",
              "      <td>M</td>\n",
              "      <td>W</td>\n",
              "      <td>Aloha</td>\n",
              "      <td>OR</td>\n",
              "      <td>False</td>\n",
              "      <td>attack</td>\n",
              "      <td>Not fleeing</td>\n",
              "      <td>False</td>\n",
              "      <td>-122.892</td>\n",
              "      <td>45.487</td>\n",
              "      <td>True</td>\n",
              "    </tr>\n",
              "    <tr>\n",
              "      <th>2</th>\n",
              "      <td>3</td>\n",
              "      <td>John Paul Quintero</td>\n",
              "      <td>2015-01-03</td>\n",
              "      <td>shot and Tasered</td>\n",
              "      <td>unarmed</td>\n",
              "      <td>23.0</td>\n",
              "      <td>M</td>\n",
              "      <td>H</td>\n",
              "      <td>Wichita</td>\n",
              "      <td>KS</td>\n",
              "      <td>False</td>\n",
              "      <td>other</td>\n",
              "      <td>Not fleeing</td>\n",
              "      <td>False</td>\n",
              "      <td>-97.281</td>\n",
              "      <td>37.695</td>\n",
              "      <td>True</td>\n",
              "    </tr>\n",
              "    <tr>\n",
              "      <th>3</th>\n",
              "      <td>4</td>\n",
              "      <td>Matthew Hoffman</td>\n",
              "      <td>2015-01-04</td>\n",
              "      <td>shot</td>\n",
              "      <td>toy weapon</td>\n",
              "      <td>32.0</td>\n",
              "      <td>M</td>\n",
              "      <td>W</td>\n",
              "      <td>San Francisco</td>\n",
              "      <td>CA</td>\n",
              "      <td>True</td>\n",
              "      <td>attack</td>\n",
              "      <td>Not fleeing</td>\n",
              "      <td>False</td>\n",
              "      <td>-122.422</td>\n",
              "      <td>37.763</td>\n",
              "      <td>True</td>\n",
              "    </tr>\n",
              "    <tr>\n",
              "      <th>4</th>\n",
              "      <td>5</td>\n",
              "      <td>Michael Rodriguez</td>\n",
              "      <td>2015-01-04</td>\n",
              "      <td>shot</td>\n",
              "      <td>nail gun</td>\n",
              "      <td>39.0</td>\n",
              "      <td>M</td>\n",
              "      <td>H</td>\n",
              "      <td>Evans</td>\n",
              "      <td>CO</td>\n",
              "      <td>False</td>\n",
              "      <td>attack</td>\n",
              "      <td>Not fleeing</td>\n",
              "      <td>False</td>\n",
              "      <td>-104.692</td>\n",
              "      <td>40.384</td>\n",
              "      <td>True</td>\n",
              "    </tr>\n",
              "    <tr>\n",
              "      <th>5</th>\n",
              "      <td>6</td>\n",
              "      <td>Kenneth Joe Brown</td>\n",
              "      <td>2015-01-04</td>\n",
              "      <td>shot</td>\n",
              "      <td>gun</td>\n",
              "      <td>18.0</td>\n",
              "      <td>M</td>\n",
              "      <td>W</td>\n",
              "      <td>Guthrie</td>\n",
              "      <td>OK</td>\n",
              "      <td>False</td>\n",
              "      <td>attack</td>\n",
              "      <td>Not fleeing</td>\n",
              "      <td>False</td>\n",
              "      <td>-97.423</td>\n",
              "      <td>35.877</td>\n",
              "      <td>True</td>\n",
              "    </tr>\n",
              "    <tr>\n",
              "      <th>6</th>\n",
              "      <td>7</td>\n",
              "      <td>Kenneth Arnold Buck</td>\n",
              "      <td>2015-01-05</td>\n",
              "      <td>shot</td>\n",
              "      <td>gun</td>\n",
              "      <td>22.0</td>\n",
              "      <td>M</td>\n",
              "      <td>H</td>\n",
              "      <td>Chandler</td>\n",
              "      <td>AZ</td>\n",
              "      <td>False</td>\n",
              "      <td>attack</td>\n",
              "      <td>Car</td>\n",
              "      <td>False</td>\n",
              "      <td>-111.841</td>\n",
              "      <td>33.328</td>\n",
              "      <td>True</td>\n",
              "    </tr>\n",
              "    <tr>\n",
              "      <th>7</th>\n",
              "      <td>8</td>\n",
              "      <td>Brock Nichols</td>\n",
              "      <td>2015-01-06</td>\n",
              "      <td>shot</td>\n",
              "      <td>gun</td>\n",
              "      <td>35.0</td>\n",
              "      <td>M</td>\n",
              "      <td>W</td>\n",
              "      <td>Assaria</td>\n",
              "      <td>KS</td>\n",
              "      <td>False</td>\n",
              "      <td>attack</td>\n",
              "      <td>Not fleeing</td>\n",
              "      <td>False</td>\n",
              "      <td>-97.564</td>\n",
              "      <td>38.704</td>\n",
              "      <td>True</td>\n",
              "    </tr>\n",
              "    <tr>\n",
              "      <th>8</th>\n",
              "      <td>9</td>\n",
              "      <td>Autumn Steele</td>\n",
              "      <td>2015-01-06</td>\n",
              "      <td>shot</td>\n",
              "      <td>unarmed</td>\n",
              "      <td>34.0</td>\n",
              "      <td>F</td>\n",
              "      <td>W</td>\n",
              "      <td>Burlington</td>\n",
              "      <td>IA</td>\n",
              "      <td>False</td>\n",
              "      <td>other</td>\n",
              "      <td>Not fleeing</td>\n",
              "      <td>True</td>\n",
              "      <td>-91.119</td>\n",
              "      <td>40.809</td>\n",
              "      <td>True</td>\n",
              "    </tr>\n",
              "    <tr>\n",
              "      <th>9</th>\n",
              "      <td>10</td>\n",
              "      <td>Leslie Sapp III</td>\n",
              "      <td>2015-01-06</td>\n",
              "      <td>shot</td>\n",
              "      <td>toy weapon</td>\n",
              "      <td>47.0</td>\n",
              "      <td>M</td>\n",
              "      <td>B</td>\n",
              "      <td>Knoxville</td>\n",
              "      <td>PA</td>\n",
              "      <td>False</td>\n",
              "      <td>attack</td>\n",
              "      <td>Not fleeing</td>\n",
              "      <td>False</td>\n",
              "      <td>-79.991</td>\n",
              "      <td>40.413</td>\n",
              "      <td>True</td>\n",
              "    </tr>\n",
              "  </tbody>\n",
              "</table>\n",
              "</div>\n",
              "      <button class=\"colab-df-convert\" onclick=\"convertToInteractive('df-6105ddda-d804-48ac-9019-27e332d19aee')\"\n",
              "              title=\"Convert this dataframe to an interactive table.\"\n",
              "              style=\"display:none;\">\n",
              "        \n",
              "  <svg xmlns=\"http://www.w3.org/2000/svg\" height=\"24px\"viewBox=\"0 0 24 24\"\n",
              "       width=\"24px\">\n",
              "    <path d=\"M0 0h24v24H0V0z\" fill=\"none\"/>\n",
              "    <path d=\"M18.56 5.44l.94 2.06.94-2.06 2.06-.94-2.06-.94-.94-2.06-.94 2.06-2.06.94zm-11 1L8.5 8.5l.94-2.06 2.06-.94-2.06-.94L8.5 2.5l-.94 2.06-2.06.94zm10 10l.94 2.06.94-2.06 2.06-.94-2.06-.94-.94-2.06-.94 2.06-2.06.94z\"/><path d=\"M17.41 7.96l-1.37-1.37c-.4-.4-.92-.59-1.43-.59-.52 0-1.04.2-1.43.59L10.3 9.45l-7.72 7.72c-.78.78-.78 2.05 0 2.83L4 21.41c.39.39.9.59 1.41.59.51 0 1.02-.2 1.41-.59l7.78-7.78 2.81-2.81c.8-.78.8-2.07 0-2.86zM5.41 20L4 18.59l7.72-7.72 1.47 1.35L5.41 20z\"/>\n",
              "  </svg>\n",
              "      </button>\n",
              "      \n",
              "  <style>\n",
              "    .colab-df-container {\n",
              "      display:flex;\n",
              "      flex-wrap:wrap;\n",
              "      gap: 12px;\n",
              "    }\n",
              "\n",
              "    .colab-df-convert {\n",
              "      background-color: #E8F0FE;\n",
              "      border: none;\n",
              "      border-radius: 50%;\n",
              "      cursor: pointer;\n",
              "      display: none;\n",
              "      fill: #1967D2;\n",
              "      height: 32px;\n",
              "      padding: 0 0 0 0;\n",
              "      width: 32px;\n",
              "    }\n",
              "\n",
              "    .colab-df-convert:hover {\n",
              "      background-color: #E2EBFA;\n",
              "      box-shadow: 0px 1px 2px rgba(60, 64, 67, 0.3), 0px 1px 3px 1px rgba(60, 64, 67, 0.15);\n",
              "      fill: #174EA6;\n",
              "    }\n",
              "\n",
              "    [theme=dark] .colab-df-convert {\n",
              "      background-color: #3B4455;\n",
              "      fill: #D2E3FC;\n",
              "    }\n",
              "\n",
              "    [theme=dark] .colab-df-convert:hover {\n",
              "      background-color: #434B5C;\n",
              "      box-shadow: 0px 1px 3px 1px rgba(0, 0, 0, 0.15);\n",
              "      filter: drop-shadow(0px 1px 2px rgba(0, 0, 0, 0.3));\n",
              "      fill: #FFFFFF;\n",
              "    }\n",
              "  </style>\n",
              "\n",
              "      <script>\n",
              "        const buttonEl =\n",
              "          document.querySelector('#df-6105ddda-d804-48ac-9019-27e332d19aee button.colab-df-convert');\n",
              "        buttonEl.style.display =\n",
              "          google.colab.kernel.accessAllowed ? 'block' : 'none';\n",
              "\n",
              "        async function convertToInteractive(key) {\n",
              "          const element = document.querySelector('#df-6105ddda-d804-48ac-9019-27e332d19aee');\n",
              "          const dataTable =\n",
              "            await google.colab.kernel.invokeFunction('convertToInteractive',\n",
              "                                                     [key], {});\n",
              "          if (!dataTable) return;\n",
              "\n",
              "          const docLinkHtml = 'Like what you see? Visit the ' +\n",
              "            '<a target=\"_blank\" href=https://colab.research.google.com/notebooks/data_table.ipynb>data table notebook</a>'\n",
              "            + ' to learn more about interactive tables.';\n",
              "          element.innerHTML = '';\n",
              "          dataTable['output_type'] = 'display_data';\n",
              "          await google.colab.output.renderOutput(dataTable, element);\n",
              "          const docLink = document.createElement('div');\n",
              "          docLink.innerHTML = docLinkHtml;\n",
              "          element.appendChild(docLink);\n",
              "        }\n",
              "      </script>\n",
              "    </div>\n",
              "  </div>\n",
              "  "
            ]
          },
          "metadata": {},
          "execution_count": 4
        }
      ]
    },
    {
      "cell_type": "code",
      "source": [
        "df1.count()"
      ],
      "metadata": {
        "colab": {
          "base_uri": "https://localhost:8080/"
        },
        "id": "NjjVGN2EvycW",
        "outputId": "c3a549da-b207-4689-bb8f-e4c1b997ab33"
      },
      "execution_count": 5,
      "outputs": [
        {
          "output_type": "execute_result",
          "data": {
            "text/plain": [
              "id                         7682\n",
              "name                       7275\n",
              "date                       7682\n",
              "manner_of_death            7682\n",
              "armed                      7473\n",
              "age                        7210\n",
              "gender                     7663\n",
              "race                       6244\n",
              "city                       7682\n",
              "state                      7682\n",
              "signs_of_mental_illness    7682\n",
              "threat_level               7682\n",
              "flee                       6819\n",
              "body_camera                7682\n",
              "longitude                  6847\n",
              "latitude                   6847\n",
              "is_geocoding_exact         7682\n",
              "dtype: int64"
            ]
          },
          "metadata": {},
          "execution_count": 5
        }
      ]
    },
    {
      "cell_type": "code",
      "source": [
        "df1.isnull().sum()"
      ],
      "metadata": {
        "colab": {
          "base_uri": "https://localhost:8080/"
        },
        "id": "WYGQ3pUGv3Wx",
        "outputId": "e61c48a4-16a3-470b-e504-6ad53056297d"
      },
      "execution_count": 6,
      "outputs": [
        {
          "output_type": "execute_result",
          "data": {
            "text/plain": [
              "id                            0\n",
              "name                        407\n",
              "date                          0\n",
              "manner_of_death               0\n",
              "armed                       209\n",
              "age                         472\n",
              "gender                       19\n",
              "race                       1438\n",
              "city                          0\n",
              "state                         0\n",
              "signs_of_mental_illness       0\n",
              "threat_level                  0\n",
              "flee                        863\n",
              "body_camera                   0\n",
              "longitude                   835\n",
              "latitude                    835\n",
              "is_geocoding_exact            0\n",
              "dtype: int64"
            ]
          },
          "metadata": {},
          "execution_count": 6
        }
      ]
    },
    {
      "cell_type": "code",
      "source": [
        "#since the names are null and we just can't give some random values for unknown names, so I'll just assign Unknown name\n",
        "df1['name'] = df1['name'].fillna('Unknown')"
      ],
      "metadata": {
        "id": "cUEX3u6awGnb"
      },
      "execution_count": 7,
      "outputs": []
    },
    {
      "cell_type": "code",
      "source": [
        "df1['name'].isnull().sum()"
      ],
      "metadata": {
        "colab": {
          "base_uri": "https://localhost:8080/"
        },
        "id": "HYJY4QREwbx-",
        "outputId": "e7d2ae6d-e7e1-4335-f720-0f7584f92060"
      },
      "execution_count": 8,
      "outputs": [
        {
          "output_type": "execute_result",
          "data": {
            "text/plain": [
              "0"
            ]
          },
          "metadata": {},
          "execution_count": 8
        }
      ]
    },
    {
      "cell_type": "code",
      "source": [
        "df1['armed'].nunique()"
      ],
      "metadata": {
        "colab": {
          "base_uri": "https://localhost:8080/"
        },
        "id": "rBs3kde-wfsc",
        "outputId": "03c8213e-dd7e-4eb5-bc72-5e67c097e696"
      },
      "execution_count": 9,
      "outputs": [
        {
          "output_type": "execute_result",
          "data": {
            "text/plain": [
              "103"
            ]
          },
          "metadata": {},
          "execution_count": 9
        }
      ]
    },
    {
      "cell_type": "code",
      "source": [
        "nullPercentage = df1.isnull().sum()/df1.shape[0]*100\n",
        "nullPercentage.plot(kind='bar')\n",
        "plt.title(\"Null value percentage in each column\")\n",
        "plt.show()"
      ],
      "metadata": {
        "colab": {
          "base_uri": "https://localhost:8080/",
          "height": 389
        },
        "id": "18KVu9RFzDeC",
        "outputId": "146bbf4f-167c-4e58-d936-487ed1710265"
      },
      "execution_count": 10,
      "outputs": [
        {
          "output_type": "display_data",
          "data": {
            "text/plain": [
              "<Figure size 432x288 with 1 Axes>"
            ],
            "image/png": "[encoded data removed]"
          },
          "metadata": {
            "needs_background": "light"
          }
        }
      ]
    },
    {
      "cell_type": "code",
      "source": [
        "df1['race'].nunique()"
      ],
      "metadata": {
        "colab": {
          "base_uri": "https://localhost:8080/"
        },
        "id": "2fzsrS5mxC3K",
        "outputId": "436f65c6-d286-47f5-9c6e-455345d2f58e"
      },
      "execution_count": 11,
      "outputs": [
        {
          "output_type": "execute_result",
          "data": {
            "text/plain": [
              "6"
            ]
          },
          "metadata": {},
          "execution_count": 11
        }
      ]
    },
    {
      "cell_type": "code",
      "source": [
        "df1['race'].fillna('Other', inplace=True)"
      ],
      "metadata": {
        "id": "m_wLn0-exwkX"
      },
      "execution_count": 12,
      "outputs": []
    },
    {
      "cell_type": "code",
      "source": [
        "df1['race'].describe()"
      ],
      "metadata": {
        "colab": {
          "base_uri": "https://localhost:8080/"
        },
        "id": "md1rTNXAKbOA",
        "outputId": "121861e6-4c3b-488f-e041-8d8f270ef0d6"
      },
      "execution_count": 13,
      "outputs": [
        {
          "output_type": "execute_result",
          "data": {
            "text/plain": [
              "count     7682\n",
              "unique       7\n",
              "top          W\n",
              "freq      3183\n",
              "Name: race, dtype: object"
            ]
          },
          "metadata": {},
          "execution_count": 13
        }
      ]
    },
    {
      "cell_type": "code",
      "source": [
        "df1['city'].mode()"
      ],
      "metadata": {
        "colab": {
          "base_uri": "https://localhost:8080/"
        },
        "id": "FGPwy_vax7Mz",
        "outputId": "626b616f-c9cb-4bab-db8f-5ee5e253fb8f"
      },
      "execution_count": 14,
      "outputs": [
        {
          "output_type": "execute_result",
          "data": {
            "text/plain": [
              "0    Los Angeles\n",
              "dtype: object"
            ]
          },
          "metadata": {},
          "execution_count": 14
        }
      ]
    },
    {
      "cell_type": "code",
      "source": [
        "df1['city'].nunique()"
      ],
      "metadata": {
        "colab": {
          "base_uri": "https://localhost:8080/"
        },
        "id": "N3mEwV38zgvr",
        "outputId": "5c3f1775-e624-40ae-95a1-70cb35b9d1fe"
      },
      "execution_count": 15,
      "outputs": [
        {
          "output_type": "execute_result",
          "data": {
            "text/plain": [
              "3142"
            ]
          },
          "metadata": {},
          "execution_count": 15
        }
      ]
    },
    {
      "cell_type": "code",
      "source": [
        "df1.duplicated().sum()"
      ],
      "metadata": {
        "colab": {
          "base_uri": "https://localhost:8080/"
        },
        "id": "fWhVXMdQ0D6f",
        "outputId": "a37ad6b8-4bcd-4954-ad8a-fef6c077cf05"
      },
      "execution_count": 16,
      "outputs": [
        {
          "output_type": "execute_result",
          "data": {
            "text/plain": [
              "0"
            ]
          },
          "metadata": {},
          "execution_count": 16
        }
      ]
    },
    {
      "cell_type": "code",
      "source": [
        "df1['state'].nunique()"
      ],
      "metadata": {
        "colab": {
          "base_uri": "https://localhost:8080/"
        },
        "id": "DhVWXvoG0hlF",
        "outputId": "d0bd19cf-f6dc-4c9f-9078-e4cc572dd344"
      },
      "execution_count": 17,
      "outputs": [
        {
          "output_type": "execute_result",
          "data": {
            "text/plain": [
              "51"
            ]
          },
          "metadata": {},
          "execution_count": 17
        }
      ]
    },
    {
      "cell_type": "code",
      "source": [
        "#taking 2 fields so that I can use -count() on it\n",
        "stateAndDate = df1[['date','state']]\n",
        "stateList = [i for i in stateAndDate['state']]"
      ],
      "metadata": {
        "id": "CTkh2hZF4U7j"
      },
      "execution_count": 18,
      "outputs": []
    },
    {
      "cell_type": "code",
      "source": [
        "stateCounts = []\n",
        "for state in df1['state'].unique():\n",
        "    stateCounts.append([stateList.count(state),state])\n",
        "print(stateCounts)"
      ],
      "metadata": {
        "colab": {
          "base_uri": "https://localhost:8080/"
        },
        "id": "zT5vKNKo5IKQ",
        "outputId": "b15b5c37-ef30-4f85-e04b-ad5ff309e040"
      },
      "execution_count": 19,
      "outputs": [
        {
          "output_type": "stream",
          "name": "stdout",
          "text": [
            "[[208, 'WA'], [125, 'OR'], [71, 'KS'], [1110, 'CA'], [278, 'CO'], [211, 'OK'], [349, 'AZ'], [47, 'IA'], [159, 'PA'], [690, 'TX'], [219, 'OH'], [154, 'LA'], [48, 'MT'], [88, 'UT'], [109, 'AR'], [155, 'IL'], [124, 'NV'], [165, 'NM'], [86, 'MN'], [198, 'MO'], [134, 'VA'], [87, 'NJ'], [140, 'IN'], [141, 'KY'], [54, 'MA'], [22, 'NH'], [493, 'FL'], [62, 'ID'], [107, 'MD'], [38, 'NE'], [129, 'MI'], [289, 'GA'], [208, 'TN'], [218, 'NC'], [52, 'AK'], [140, 'NY'], [33, 'ME'], [145, 'AL'], [98, 'MS'], [115, 'WI'], [124, 'SC'], [17, 'DE'], [24, 'DC'], [71, 'WV'], [37, 'HI'], [25, 'WY'], [18, 'ND'], [22, 'CT'], [27, 'SD'], [12, 'VT'], [6, 'RI']]\n"
          ]
        }
      ]
    },
    {
      "cell_type": "code",
      "source": [
        "stateCounts.sort(reverse=True)"
      ],
      "metadata": {
        "id": "nY1LQRBz5aJX"
      },
      "execution_count": 20,
      "outputs": []
    },
    {
      "cell_type": "code",
      "source": [
        "print(stateCounts)"
      ],
      "metadata": {
        "colab": {
          "base_uri": "https://localhost:8080/"
        },
        "id": "YobeOukH5pRW",
        "outputId": "5595566e-6413-41a2-e2d3-6996f19e4132"
      },
      "execution_count": 21,
      "outputs": [
        {
          "output_type": "stream",
          "name": "stdout",
          "text": [
            "[[1110, 'CA'], [690, 'TX'], [493, 'FL'], [349, 'AZ'], [289, 'GA'], [278, 'CO'], [219, 'OH'], [218, 'NC'], [211, 'OK'], [208, 'WA'], [208, 'TN'], [198, 'MO'], [165, 'NM'], [159, 'PA'], [155, 'IL'], [154, 'LA'], [145, 'AL'], [141, 'KY'], [140, 'NY'], [140, 'IN'], [134, 'VA'], [129, 'MI'], [125, 'OR'], [124, 'SC'], [124, 'NV'], [115, 'WI'], [109, 'AR'], [107, 'MD'], [98, 'MS'], [88, 'UT'], [87, 'NJ'], [86, 'MN'], [71, 'WV'], [71, 'KS'], [62, 'ID'], [54, 'MA'], [52, 'AK'], [48, 'MT'], [47, 'IA'], [38, 'NE'], [37, 'HI'], [33, 'ME'], [27, 'SD'], [25, 'WY'], [24, 'DC'], [22, 'NH'], [22, 'CT'], [18, 'ND'], [17, 'DE'], [12, 'VT'], [6, 'RI']]\n"
          ]
        }
      ]
    },
    {
      "cell_type": "markdown",
      "source": [
        "**It can be noted that more number of incidents happen in California.**"
      ],
      "metadata": {
        "id": "pSRSyvQ56pzp"
      }
    },
    {
      "cell_type": "code",
      "source": [
        "# a plot for states vs number of incidents is plotted here\n",
        "import seaborn as sns\n",
        "x = [i[1] for i in stateCounts]\n",
        "y = [i[0] for i in stateCounts]\n",
        "\n",
        "plt.figure(figsize=(18,6))\n",
        "sns.barplot(x=x,y=y,palette='summer')\n",
        "plt.xlabel(xlabel = 'State')\n",
        "plt.ylabel(ylabel = 'Number Of Shootings')\n",
        "plt.title(label = 'Shootings by State')\n",
        "plt.show()"
      ],
      "metadata": {
        "id": "SEfR9h4O5t0n",
        "colab": {
          "base_uri": "https://localhost:8080/",
          "height": 404
        },
        "outputId": "22323222-0b99-43c8-e244-2c53d0332e76"
      },
      "execution_count": 22,
      "outputs": [
        {
          "output_type": "display_data",
          "data": {
            "text/plain": [
              "<Figure size 1296x432 with 1 Axes>"
            ],
            "image/png": "[encoded data removed]"
          },
          "metadata": {
            "needs_background": "light"
          }
        }
      ]
    },
    {
      "cell_type": "markdown",
      "source": [
        "## From the above plot it is very clear that, California has the highest incidents happening and is followed by Texas."
      ],
      "metadata": {
        "id": "yLI37VoLF5rY"
      }
    },
    {
      "cell_type": "markdown",
      "source": [
        "### Distribution of Age"
      ],
      "metadata": {
        "id": "-HbRbVLLUSyk"
      }
    },
    {
      "cell_type": "code",
      "source": [
        "import plotly.graph_objects as pgo\n",
        "fig = pgo.Figure(pgo.Box(y=df1['age'],name=\"Age\"))\n",
        "fig.update_layout(title=\"Distribution of Age\")\n",
        "fig.show()"
      ],
      "metadata": {
        "colab": {
          "base_uri": "https://localhost:8080/",
          "height": 542
        },
        "id": "usLt9hm8UOMb",
        "outputId": "441c9a80-e03a-409c-c2a6-9c63f243f310"
      },
      "execution_count": 23,
      "outputs": [
        {
          "output_type": "display_data",
          "data": {
            "text/html": [
              "<html>\n",
              "<head><meta charset=\"utf-8\" /></head>\n",
              "<body>\n",
              "    <div>            <script src=\"https://cdnjs.cloudflare.com/ajax/libs/mathjax/2.7.5/MathJax.js?config=TeX-AMS-MML_SVG\"></script><script type=\"text/javascript\">if (window.MathJax) {MathJax.Hub.Config({SVG: {font: \"STIX-Web\"}});}</script>                <script type=\"text/javascript\">window.PlotlyConfig = {MathJaxConfig: 'local'};</script>\n",
              "        <script src=\"https://cdn.plot.ly/plotly-2.8.3.min.js\"></script>                <div id=\"2e627112-7a04-483a-a967-b763310ede59\" class=\"plotly-graph-div\" style=\"height:525px; width:100%;\"></div>            <script type=\"text/javascript\">                                    window.PLOTLYENV=window.PLOTLYENV || {};                                    if (document.getElementById(\"2e627112-7a04-483a-a967-b763310ede59\")) {                    Plotly.newPlot(                        \"2e627112-7a04-483a-a967-b763310ede59\",                        [{\"name\":\"Age\",\"y\":[53.0,47.0,23.0,32.0,39.0,18.0,22.0,35.0,34.0,47.0,25.0,31.0,41.0,30.0,37.0,28.0,42.0,36.0,49.0,71.0,33.0,39.0,23.0,29.0,34.0,43.0,24.0,29.0,34.0,75.0,68.0,34.0,27.0,39.0,24.0,36.0,33.0,41.0,48.0,21.0,24.0,27.0,32.0,67.0,49.0,42.0,36.0,36.0,19.0,54.0,25.0,17.0,29.0,56.0,61.0,45.0,26.0,40.0,26.0,59.0,17.0,68.0,24.0,34.0,39.0,26.0,29.0,33.0,45.0,26.0,35.0,31.0,42.0,48.0,31.0,54.0,42.0,17.0,59.0,23.0,38.0,29.0,45.0,28.0,37.0,28.0,28.0,51.0,36.0,59.0,25.0,26.0,74.0,33.0,27.0,57.0,46.0,41.0,61.0,45.0,49.0,45.0,35.0,23.0,46.0,23.0,21.0,35.0,27.0,37.0,16.0,51.0,34.0,34.0,25.0,56.0,26.0,24.0,43.0,31.0,32.0,30.0,50.0,20.0,31.0,38.0,77.0,null,41.0,51.0,50.0,47.0,37.0,41.0,16.0,42.0,39.0,30.0,27.0,43.0,42.0,21.0,49.0,34.0,31.0,27.0,24.0,34.0,28.0,28.0,40.0,37.0,17.0,35.0,49.0,43.0,20.0,25.0,25.0,26.0,28.0,45.0,36.0,34.0,19.0,37.0,48.0,29.0,43.0,40.0,35.0,27.0,58.0,46.0,30.0,64.0,31.0,23.0,37.0,37.0,31.0,39.0,31.0,54.0,53.0,25.0,35.0,41.0,59.0,36.0,32.0,53.0,26.0,29.0,27.0,28.0,52.0,49.0,24.0,24.0,20.0,22.0,49.0,64.0,47.0,39.0,18.0,31.0,16.0,20.0,36.0,63.0,34.0,24.0,21.0,44.0,60.0,42.0,37.0,36.0,21.0,24.0,29.0,57.0,38.0,23.0,27.0,28.0,63.0,53.0,35.0,26.0,42.0,41.0,56.0,39.0,23.0,40.0,29.0,26.0,54.0,49.0,36.0,21.0,27.0,37.0,36.0,32.0,44.0,27.0,63.0,38.0,17.0,31.0,34.0,50.0,51.0,56.0,23.0,25.0,31.0,32.0,60.0,42.0,39.0,28.0,22.0,29.0,31.0,28.0,54.0,21.0,38.0,66.0,36.0,83.0,32.0,27.0,26.0,31.0,22.0,41.0,41.0,51.0,72.0,52.0,47.0,18.0,29.0,23.0,43.0,45.0,40.0,44.0,25.0,37.0,59.0,35.0,35.0,18.0,51.0,30.0,31.0,39.0,26.0,51.0,19.0,46.0,49.0,63.0,20.0,25.0,24.0,58.0,29.0,76.0,45.0,20.0,58.0,21.0,27.0,26.0,33.0,27.0,25.0,53.0,53.0,42.0,22.0,52.0,36.0,30.0,34.0,44.0,53.0,36.0,29.0,32.0,46.0,18.0,72.0,38.0,21.0,35.0,58.0,48.0,31.0,47.0,34.0,30.0,28.0,28.0,40.0,46.0,37.0,53.0,41.0,42.0,45.0,34.0,18.0,27.0,54.0,35.0,17.0,29.0,38.0,26.0,52.0,39.0,22.0,29.0,43.0,24.0,32.0,40.0,47.0,40.0,25.0,31.0,36.0,51.0,24.0,62.0,39.0,24.0,57.0,20.0,33.0,60.0,32.0,40.0,18.0,36.0,35.0,55.0,19.0,39.0,40.0,47.0,23.0,26.0,26.0,18.0,33.0,56.0,46.0,36.0,50.0,45.0,53.0,45.0,42.0,27.0,30.0,36.0,58.0,54.0,30.0,69.0,30.0,45.0,22.0,28.0,19.0,40.0,86.0,46.0,28.0,22.0,17.0,46.0,35.0,35.0,28.0,15.0,22.0,28.0,31.0,40.0,48.0,58.0,44.0,21.0,50.0,23.0,24.0,49.0,60.0,35.0,29.0,20.0,34.0,22.0,49.0,32.0,26.0,41.0,61.0,49.0,28.0,35.0,29.0,51.0,52.0,24.0,32.0,45.0,60.0,23.0,59.0,46.0,33.0,39.0,27.0,42.0,37.0,23.0,36.0,19.0,35.0,43.0,25.0,20.0,42.0,29.0,42.0,31.0,18.0,33.0,59.0,47.0,39.0,37.0,35.0,28.0,59.0,62.0,50.0,68.0,27.0,17.0,21.0,38.0,54.0,20.0,25.0,31.0,35.0,60.0,24.0,27.0,36.0,20.0,24.0,23.0,41.0,20.0,76.0,43.0,29.0,35.0,30.0,24.0,23.0,29.0,25.0,27.0,50.0,19.0,24.0,23.0,22.0,46.0,65.0,43.0,35.0,54.0,47.0,24.0,35.0,25.0,27.0,26.0,34.0,32.0,47.0,44.0,31.0,44.0,30.0,60.0,50.0,36.0,59.0,33.0,19.0,56.0,45.0,22.0,41.0,34.0,53.0,48.0,25.0,30.0,47.0,33.0,34.0,52.0,29.0,63.0,49.0,18.0,71.0,35.0,55.0,31.0,18.0,51.0,39.0,20.0,29.0,40.0,42.0,22.0,19.0,24.0,30.0,53.0,25.0,28.0,33.0,24.0,59.0,46.0,15.0,41.0,77.0,22.0,24.0,34.0,48.0,24.0,27.0,27.0,27.0,49.0,30.0,38.0,26.0,30.0,53.0,23.0,34.0,30.0,43.0,29.0,47.0,35.0,40.0,18.0,24.0,29.0,44.0,17.0,19.0,50.0,57.0,30.0,38.0,31.0,29.0,26.0,64.0,39.0,57.0,36.0,36.0,21.0,53.0,30.0,34.0,53.0,45.0,22.0,22.0,46.0,27.0,30.0,54.0,29.0,42.0,41.0,28.0,61.0,23.0,25.0,43.0,29.0,20.0,40.0,45.0,33.0,76.0,47.0,45.0,40.0,37.0,27.0,36.0,23.0,49.0,21.0,32.0,35.0,27.0,59.0,28.0,45.0,45.0,19.0,25.0,37.0,33.0,59.0,31.0,35.0,29.0,32.0,41.0,31.0,44.0,23.0,45.0,39.0,67.0,29.0,25.0,28.0,21.0,32.0,51.0,39.0,27.0,31.0,50.0,61.0,32.0,47.0,46.0,57.0,23.0,56.0,24.0,27.0,23.0,26.0,34.0,21.0,32.0,33.0,55.0,26.0,48.0,35.0,19.0,45.0,28.0,42.0,17.0,30.0,21.0,45.0,33.0,46.0,23.0,37.0,43.0,40.0,59.0,31.0,46.0,37.0,28.0,28.0,55.0,29.0,26.0,45.0,27.0,31.0,51.0,49.0,27.0,18.0,39.0,46.0,19.0,62.0,49.0,31.0,38.0,40.0,35.0,34.0,44.0,23.0,43.0,null,31.0,27.0,46.0,18.0,59.0,57.0,15.0,25.0,50.0,31.0,35.0,27.0,20.0,27.0,45.0,33.0,27.0,22.0,28.0,31.0,28.0,53.0,30.0,39.0,40.0,30.0,21.0,35.0,21.0,47.0,38.0,36.0,53.0,34.0,34.0,30.0,28.0,47.0,49.0,null,36.0,45.0,21.0,18.0,25.0,29.0,57.0,34.0,35.0,null,18.0,62.0,29.0,25.0,30.0,24.0,52.0,33.0,56.0,49.0,20.0,62.0,62.0,6.0,30.0,57.0,18.0,47.0,48.0,20.0,30.0,36.0,51.0,55.0,48.0,20.0,25.0,26.0,45.0,35.0,34.0,36.0,22.0,63.0,31.0,25.0,57.0,32.0,42.0,52.0,25.0,25.0,31.0,39.0,16.0,24.0,32.0,25.0,28.0,28.0,21.0,30.0,58.0,47.0,41.0,25.0,44.0,34.0,27.0,34.0,29.0,39.0,50.0,24.0,47.0,45.0,28.0,50.0,49.0,45.0,24.0,32.0,23.0,52.0,37.0,26.0,58.0,50.0,22.0,53.0,69.0,23.0,29.0,25.0,18.0,31.0,23.0,18.0,35.0,27.0,28.0,26.0,32.0,36.0,66.0,21.0,47.0,24.0,60.0,61.0,38.0,51.0,35.0,46.0,48.0,36.0,33.0,66.0,51.0,34.0,55.0,54.0,null,36.0,25.0,24.0,28.0,36.0,20.0,49.0,null,51.0,21.0,30.0,32.0,33.0,56.0,48.0,39.0,19.0,45.0,33.0,52.0,51.0,23.0,25.0,24.0,22.0,32.0,58.0,26.0,30.0,31.0,34.0,48.0,null,21.0,39.0,25.0,30.0,61.0,56.0,29.0,19.0,35.0,36.0,54.0,24.0,23.0,18.0,31.0,41.0,55.0,19.0,38.0,36.0,34.0,52.0,28.0,50.0,null,55.0,39.0,23.0,30.0,54.0,37.0,37.0,30.0,27.0,22.0,29.0,39.0,33.0,52.0,28.0,54.0,38.0,32.0,34.0,26.0,50.0,37.0,45.0,56.0,45.0,32.0,12.0,49.0,58.0,29.0,60.0,40.0,39.0,26.0,24.0,34.0,27.0,44.0,25.0,55.0,19.0,52.0,31.0,26.0,24.0,38.0,33.0,28.0,27.0,39.0,29.0,36.0,55.0,28.0,40.0,33.0,37.0,39.0,43.0,38.0,55.0,52.0,32.0,31.0,27.0,40.0,31.0,30.0,26.0,32.0,33.0,19.0,33.0,29.0,41.0,29.0,38.0,64.0,42.0,46.0,62.0,42.0,37.0,25.0,36.0,21.0,30.0,53.0,31.0,22.0,24.0,36.0,47.0,54.0,43.0,38.0,30.0,51.0,55.0,16.0,23.0,36.0,27.0,33.0,17.0,22.0,22.0,29.0,41.0,67.0,36.0,52.0,56.0,35.0,45.0,30.0,24.0,29.0,53.0,32.0,22.0,24.0,19.0,29.0,50.0,29.0,26.0,39.0,52.0,51.0,48.0,30.0,37.0,30.0,35.0,32.0,25.0,35.0,31.0,30.0,23.0,41.0,45.0,46.0,36.0,31.0,32.0,38.0,33.0,45.0,38.0,22.0,48.0,36.0,26.0,39.0,16.0,58.0,27.0,26.0,21.0,37.0,56.0,38.0,18.0,35.0,23.0,41.0,44.0,24.0,39.0,22.0,37.0,36.0,41.0,27.0,66.0,30.0,34.0,22.0,51.0,42.0,41.0,49.0,45.0,45.0,42.0,41.0,27.0,37.0,22.0,21.0,50.0,23.0,25.0,51.0,46.0,23.0,43.0,37.0,20.0,45.0,16.0,30.0,26.0,24.0,38.0,28.0,29.0,34.0,38.0,43.0,23.0,33.0,40.0,38.0,53.0,29.0,30.0,49.0,60.0,25.0,24.0,21.0,23.0,61.0,54.0,62.0,16.0,25.0,28.0,76.0,25.0,33.0,51.0,34.0,30.0,44.0,24.0,29.0,48.0,19.0,22.0,39.0,36.0,55.0,46.0,34.0,27.0,33.0,18.0,33.0,51.0,50.0,46.0,33.0,25.0,52.0,18.0,43.0,34.0,31.0,65.0,37.0,30.0,36.0,25.0,69.0,48.0,50.0,52.0,44.0,60.0,40.0,20.0,45.0,44.0,40.0,25.0,43.0,27.0,19.0,39.0,30.0,28.0,22.0,16.0,40.0,38.0,20.0,35.0,52.0,26.0,54.0,38.0,52.0,26.0,53.0,35.0,22.0,31.0,32.0,37.0,28.0,18.0,41.0,15.0,38.0,41.0,52.0,48.0,29.0,51.0,21.0,24.0,18.0,30.0,33.0,60.0,28.0,26.0,24.0,44.0,34.0,21.0,36.0,37.0,53.0,24.0,45.0,48.0,42.0,33.0,55.0,28.0,25.0,28.0,52.0,59.0,52.0,39.0,18.0,40.0,36.0,38.0,26.0,null,29.0,37.0,29.0,21.0,33.0,23.0,26.0,59.0,29.0,33.0,28.0,35.0,33.0,24.0,null,28.0,19.0,43.0,59.0,34.0,35.0,23.0,36.0,46.0,44.0,20.0,30.0,29.0,35.0,36.0,22.0,31.0,63.0,38.0,31.0,27.0,35.0,22.0,28.0,26.0,22.0,57.0,31.0,43.0,24.0,29.0,43.0,null,21.0,19.0,48.0,25.0,59.0,50.0,58.0,25.0,32.0,53.0,38.0,70.0,33.0,36.0,null,21.0,51.0,43.0,18.0,33.0,34.0,31.0,35.0,31.0,31.0,23.0,25.0,25.0,21.0,49.0,63.0,43.0,34.0,38.0,52.0,68.0,null,29.0,32.0,50.0,31.0,27.0,31.0,29.0,23.0,61.0,33.0,18.0,80.0,43.0,50.0,47.0,54.0,22.0,43.0,38.0,36.0,30.0,59.0,21.0,34.0,17.0,37.0,25.0,30.0,23.0,20.0,19.0,50.0,24.0,25.0,20.0,37.0,44.0,22.0,31.0,25.0,null,29.0,36.0,50.0,42.0,42.0,26.0,19.0,59.0,36.0,51.0,27.0,22.0,30.0,28.0,63.0,32.0,26.0,25.0,27.0,61.0,30.0,null,37.0,41.0,25.0,24.0,44.0,63.0,58.0,30.0,35.0,50.0,40.0,24.0,19.0,34.0,18.0,21.0,null,29.0,49.0,24.0,37.0,32.0,65.0,37.0,33.0,63.0,30.0,40.0,38.0,50.0,41.0,41.0,39.0,44.0,23.0,32.0,56.0,33.0,63.0,31.0,57.0,26.0,39.0,42.0,29.0,43.0,56.0,31.0,50.0,36.0,50.0,49.0,31.0,34.0,36.0,29.0,32.0,18.0,50.0,36.0,17.0,19.0,24.0,24.0,20.0,33.0,41.0,47.0,18.0,31.0,27.0,36.0,40.0,59.0,32.0,38.0,18.0,23.0,43.0,67.0,32.0,22.0,31.0,43.0,34.0,51.0,31.0,54.0,69.0,58.0,26.0,31.0,59.0,25.0,20.0,57.0,56.0,64.0,34.0,69.0,45.0,14.0,44.0,59.0,33.0,54.0,22.0,49.0,23.0,38.0,53.0,36.0,29.0,42.0,36.0,32.0,53.0,30.0,25.0,18.0,55.0,27.0,37.0,29.0,40.0,36.0,38.0,29.0,59.0,47.0,22.0,31.0,29.0,54.0,71.0,36.0,34.0,49.0,36.0,43.0,53.0,31.0,32.0,63.0,41.0,26.0,82.0,49.0,37.0,24.0,35.0,56.0,28.0,22.0,59.0,36.0,36.0,21.0,38.0,60.0,18.0,23.0,null,38.0,40.0,22.0,38.0,25.0,25.0,36.0,null,null,44.0,36.0,35.0,25.0,65.0,31.0,70.0,25.0,55.0,35.0,25.0,32.0,38.0,32.0,64.0,55.0,69.0,37.0,31.0,86.0,25.0,25.0,13.0,32.0,69.0,34.0,46.0,29.0,29.0,40.0,42.0,25.0,45.0,55.0,22.0,61.0,46.0,30.0,56.0,35.0,22.0,43.0,43.0,49.0,23.0,41.0,33.0,30.0,25.0,52.0,32.0,46.0,48.0,38.0,26.0,32.0,28.0,53.0,38.0,18.0,32.0,37.0,18.0,20.0,28.0,18.0,16.0,36.0,57.0,49.0,31.0,26.0,51.0,28.0,35.0,57.0,36.0,42.0,null,49.0,21.0,39.0,53.0,62.0,41.0,40.0,50.0,27.0,19.0,26.0,44.0,30.0,31.0,33.0,22.0,50.0,38.0,46.0,23.0,24.0,26.0,38.0,26.0,32.0,50.0,17.0,39.0,28.0,66.0,42.0,34.0,38.0,24.0,28.0,29.0,23.0,58.0,21.0,31.0,45.0,38.0,40.0,19.0,46.0,25.0,25.0,37.0,25.0,36.0,32.0,33.0,24.0,37.0,38.0,45.0,31.0,34.0,23.0,38.0,39.0,55.0,31.0,76.0,59.0,40.0,23.0,64.0,56.0,26.0,35.0,49.0,36.0,56.0,59.0,34.0,43.0,31.0,17.0,32.0,33.0,43.0,31.0,23.0,26.0,45.0,19.0,36.0,41.0,53.0,24.0,null,47.0,null,40.0,29.0,22.0,21.0,38.0,48.0,25.0,37.0,37.0,56.0,25.0,26.0,35.0,25.0,48.0,29.0,55.0,21.0,15.0,24.0,18.0,19.0,27.0,45.0,36.0,34.0,23.0,43.0,19.0,45.0,37.0,23.0,26.0,20.0,59.0,33.0,48.0,50.0,18.0,23.0,41.0,41.0,55.0,29.0,31.0,25.0,38.0,null,83.0,22.0,33.0,36.0,38.0,26.0,29.0,55.0,47.0,52.0,49.0,37.0,36.0,20.0,31.0,null,30.0,null,35.0,35.0,36.0,39.0,30.0,44.0,24.0,53.0,73.0,31.0,28.0,18.0,32.0,60.0,36.0,48.0,33.0,44.0,20.0,37.0,72.0,52.0,31.0,46.0,null,31.0,25.0,46.0,38.0,25.0,null,24.0,19.0,55.0,null,31.0,53.0,null,48.0,29.0,30.0,33.0,61.0,35.0,71.0,41.0,36.0,28.0,52.0,21.0,null,31.0,46.0,32.0,33.0,42.0,17.0,35.0,23.0,21.0,44.0,53.0,63.0,18.0,51.0,64.0,45.0,20.0,41.0,23.0,25.0,42.0,41.0,31.0,50.0,38.0,44.0,38.0,21.0,32.0,23.0,41.0,41.0,38.0,54.0,20.0,26.0,29.0,47.0,28.0,48.0,34.0,37.0,33.0,36.0,43.0,32.0,29.0,39.0,40.0,21.0,50.0,19.0,28.0,16.0,49.0,44.0,25.0,39.0,44.0,50.0,57.0,57.0,33.0,21.0,52.0,27.0,60.0,25.0,34.0,22.0,26.0,27.0,29.0,30.0,32.0,18.0,37.0,54.0,50.0,28.0,59.0,24.0,34.0,25.0,25.0,17.0,48.0,45.0,53.0,18.0,50.0,36.0,45.0,42.0,null,23.0,31.0,26.0,57.0,18.0,27.0,41.0,33.0,22.0,38.0,26.0,45.0,68.0,56.0,23.0,45.0,41.0,33.0,22.0,50.0,52.0,35.0,18.0,34.0,51.0,18.0,29.0,34.0,25.0,17.0,null,26.0,33.0,25.0,31.0,25.0,18.0,45.0,25.0,23.0,55.0,37.0,33.0,27.0,32.0,null,31.0,26.0,32.0,53.0,19.0,53.0,35.0,64.0,24.0,33.0,55.0,17.0,48.0,21.0,22.0,30.0,34.0,35.0,32.0,22.0,46.0,27.0,18.0,33.0,26.0,27.0,26.0,51.0,63.0,38.0,25.0,39.0,41.0,26.0,30.0,33.0,54.0,38.0,24.0,47.0,62.0,30.0,33.0,23.0,39.0,41.0,46.0,36.0,66.0,27.0,40.0,25.0,20.0,43.0,40.0,33.0,34.0,27.0,25.0,37.0,32.0,25.0,38.0,50.0,26.0,70.0,38.0,41.0,91.0,null,25.0,29.0,24.0,40.0,51.0,30.0,28.0,33.0,23.0,23.0,20.0,56.0,36.0,18.0,43.0,16.0,29.0,25.0,34.0,32.0,58.0,36.0,32.0,25.0,59.0,25.0,25.0,42.0,36.0,59.0,21.0,19.0,45.0,null,42.0,27.0,45.0,51.0,42.0,24.0,39.0,18.0,26.0,35.0,53.0,54.0,36.0,56.0,51.0,45.0,28.0,36.0,73.0,26.0,41.0,59.0,28.0,45.0,27.0,46.0,34.0,30.0,46.0,47.0,32.0,65.0,19.0,22.0,39.0,38.0,68.0,49.0,37.0,33.0,25.0,36.0,36.0,30.0,39.0,28.0,28.0,25.0,57.0,33.0,24.0,null,33.0,56.0,56.0,16.0,47.0,33.0,32.0,21.0,64.0,19.0,26.0,25.0,17.0,55.0,25.0,43.0,39.0,24.0,70.0,79.0,16.0,35.0,15.0,23.0,53.0,20.0,27.0,53.0,32.0,57.0,26.0,53.0,32.0,25.0,15.0,59.0,35.0,33.0,32.0,49.0,46.0,25.0,20.0,48.0,null,24.0,18.0,67.0,26.0,54.0,15.0,27.0,26.0,62.0,24.0,32.0,29.0,15.0,25.0,40.0,39.0,34.0,36.0,24.0,50.0,50.0,null,30.0,35.0,46.0,51.0,37.0,41.0,41.0,48.0,27.0,29.0,47.0,null,34.0,48.0,41.0,25.0,24.0,38.0,28.0,47.0,65.0,58.0,33.0,43.0,24.0,37.0,31.0,65.0,59.0,74.0,21.0,24.0,null,23.0,59.0,33.0,34.0,30.0,30.0,null,22.0,35.0,37.0,20.0,62.0,24.0,17.0,27.0,51.0,29.0,34.0,18.0,17.0,55.0,44.0,27.0,66.0,45.0,47.0,34.0,37.0,54.0,50.0,21.0,21.0,35.0,75.0,33.0,45.0,48.0,58.0,30.0,44.0,82.0,29.0,25.0,53.0,60.0,19.0,63.0,50.0,35.0,45.0,24.0,36.0,35.0,33.0,66.0,54.0,20.0,40.0,41.0,30.0,32.0,24.0,37.0,28.0,48.0,30.0,64.0,21.0,28.0,36.0,40.0,32.0,50.0,28.0,33.0,37.0,17.0,20.0,34.0,37.0,24.0,47.0,20.0,56.0,24.0,47.0,56.0,36.0,35.0,null,37.0,45.0,41.0,23.0,37.0,32.0,23.0,33.0,23.0,37.0,19.0,39.0,53.0,51.0,25.0,45.0,null,28.0,36.0,32.0,39.0,46.0,53.0,42.0,34.0,29.0,53.0,45.0,24.0,51.0,35.0,27.0,33.0,15.0,30.0,22.0,23.0,50.0,28.0,34.0,24.0,54.0,26.0,39.0,34.0,27.0,48.0,47.0,54.0,33.0,40.0,58.0,55.0,47.0,42.0,29.0,40.0,23.0,23.0,25.0,52.0,43.0,37.0,32.0,70.0,36.0,24.0,24.0,38.0,52.0,27.0,22.0,42.0,70.0,49.0,59.0,41.0,34.0,31.0,23.0,28.0,33.0,16.0,35.0,26.0,62.0,25.0,25.0,31.0,35.0,46.0,39.0,26.0,37.0,32.0,31.0,48.0,29.0,32.0,28.0,43.0,39.0,37.0,39.0,42.0,33.0,25.0,29.0,45.0,27.0,28.0,57.0,15.0,33.0,35.0,47.0,31.0,36.0,54.0,24.0,35.0,32.0,28.0,45.0,29.0,36.0,23.0,17.0,20.0,33.0,49.0,null,31.0,35.0,24.0,54.0,41.0,50.0,46.0,45.0,20.0,37.0,34.0,54.0,65.0,28.0,60.0,26.0,25.0,32.0,44.0,32.0,null,42.0,66.0,22.0,51.0,64.0,30.0,71.0,30.0,48.0,56.0,26.0,28.0,19.0,24.0,44.0,28.0,47.0,18.0,26.0,33.0,34.0,62.0,24.0,55.0,68.0,22.0,46.0,27.0,32.0,22.0,54.0,32.0,45.0,36.0,null,37.0,47.0,30.0,31.0,44.0,52.0,null,67.0,16.0,29.0,42.0,31.0,41.0,45.0,50.0,26.0,22.0,76.0,58.0,32.0,19.0,25.0,48.0,39.0,31.0,50.0,15.0,48.0,32.0,21.0,37.0,21.0,40.0,33.0,25.0,55.0,53.0,null,27.0,35.0,25.0,31.0,70.0,40.0,25.0,38.0,26.0,27.0,null,28.0,40.0,44.0,39.0,24.0,32.0,31.0,50.0,31.0,50.0,45.0,44.0,48.0,39.0,30.0,44.0,28.0,24.0,27.0,34.0,41.0,26.0,38.0,33.0,22.0,40.0,34.0,48.0,37.0,67.0,35.0,29.0,28.0,40.0,31.0,51.0,47.0,52.0,28.0,35.0,25.0,null,34.0,58.0,24.0,22.0,46.0,55.0,61.0,43.0,44.0,35.0,29.0,57.0,42.0,44.0,25.0,20.0,32.0,34.0,18.0,31.0,24.0,35.0,34.0,26.0,55.0,38.0,23.0,54.0,30.0,44.0,37.0,27.0,43.0,25.0,30.0,35.0,31.0,35.0,37.0,34.0,33.0,33.0,32.0,46.0,34.0,46.0,40.0,27.0,17.0,46.0,50.0,41.0,23.0,33.0,25.0,27.0,39.0,22.0,37.0,27.0,28.0,56.0,71.0,null,53.0,43.0,44.0,39.0,56.0,24.0,35.0,30.0,31.0,20.0,35.0,31.0,49.0,54.0,48.0,32.0,35.0,30.0,32.0,31.0,14.0,25.0,32.0,35.0,27.0,23.0,55.0,43.0,62.0,25.0,null,50.0,19.0,41.0,55.0,19.0,67.0,24.0,23.0,51.0,29.0,48.0,22.0,null,59.0,68.0,25.0,23.0,46.0,25.0,30.0,56.0,24.0,18.0,34.0,27.0,26.0,15.0,26.0,32.0,17.0,32.0,43.0,26.0,51.0,39.0,43.0,31.0,22.0,26.0,40.0,64.0,30.0,59.0,null,24.0,32.0,37.0,33.0,42.0,37.0,33.0,62.0,46.0,69.0,24.0,42.0,71.0,49.0,35.0,19.0,40.0,34.0,22.0,16.0,69.0,24.0,28.0,26.0,48.0,null,51.0,50.0,null,null,20.0,34.0,57.0,null,30.0,null,52.0,52.0,48.0,56.0,24.0,null,33.0,56.0,35.0,null,6.0,30.0,26.0,51.0,40.0,62.0,32.0,26.0,46.0,20.0,25.0,null,28.0,44.0,31.0,40.0,46.0,28.0,30.0,38.0,34.0,36.0,25.0,28.0,38.0,20.0,37.0,30.0,35.0,31.0,36.0,39.0,37.0,32.0,65.0,42.0,65.0,30.0,49.0,66.0,28.0,27.0,31.0,46.0,28.0,35.0,24.0,17.0,39.0,21.0,21.0,57.0,27.0,62.0,40.0,38.0,27.0,54.0,27.0,51.0,null,25.0,46.0,20.0,32.0,27.0,21.0,60.0,44.0,23.0,31.0,43.0,39.0,54.0,22.0,36.0,37.0,42.0,22.0,null,42.0,32.0,30.0,53.0,27.0,72.0,29.0,34.0,26.0,22.0,16.0,31.0,58.0,23.0,44.0,46.0,61.0,17.0,46.0,35.0,36.0,28.0,37.0,47.0,35.0,40.0,38.0,24.0,18.0,38.0,54.0,27.0,62.0,66.0,47.0,19.0,27.0,42.0,43.0,42.0,45.0,21.0,43.0,45.0,33.0,38.0,33.0,52.0,46.0,40.0,20.0,39.0,35.0,31.0,32.0,56.0,37.0,32.0,28.0,26.0,38.0,27.0,null,null,43.0,49.0,16.0,35.0,19.0,59.0,29.0,65.0,37.0,22.0,40.0,35.0,39.0,36.0,78.0,25.0,41.0,63.0,48.0,42.0,39.0,null,84.0,33.0,52.0,48.0,null,30.0,29.0,27.0,41.0,57.0,27.0,58.0,59.0,39.0,28.0,28.0,23.0,55.0,33.0,41.0,23.0,45.0,37.0,21.0,27.0,37.0,22.0,26.0,27.0,37.0,58.0,62.0,25.0,36.0,null,27.0,37.0,25.0,40.0,22.0,29.0,20.0,33.0,48.0,47.0,40.0,29.0,29.0,44.0,36.0,31.0,48.0,null,38.0,70.0,41.0,null,28.0,33.0,44.0,65.0,null,35.0,25.0,40.0,36.0,55.0,19.0,70.0,37.0,53.0,84.0,46.0,29.0,null,27.0,32.0,32.0,27.0,38.0,20.0,45.0,32.0,48.0,57.0,34.0,47.0,61.0,32.0,31.0,46.0,27.0,31.0,26.0,31.0,null,27.0,49.0,26.0,28.0,62.0,34.0,50.0,null,23.0,40.0,50.0,50.0,27.0,35.0,32.0,56.0,20.0,56.0,39.0,47.0,25.0,21.0,18.0,36.0,35.0,29.0,32.0,20.0,30.0,40.0,48.0,null,23.0,42.0,20.0,25.0,28.0,34.0,41.0,24.0,29.0,33.0,44.0,31.0,26.0,51.0,64.0,29.0,61.0,44.0,39.0,35.0,39.0,60.0,42.0,27.0,21.0,33.0,60.0,24.0,41.0,41.0,34.0,23.0,38.0,58.0,49.0,27.0,34.0,34.0,70.0,44.0,30.0,81.0,40.0,27.0,26.0,18.0,59.0,56.0,26.0,23.0,36.0,22.0,48.0,33.0,24.0,25.0,20.0,45.0,29.0,34.0,23.0,29.0,44.0,39.0,30.0,28.0,71.0,25.0,61.0,39.0,50.0,null,23.0,39.0,45.0,null,34.0,31.0,55.0,39.0,32.0,44.0,24.0,36.0,41.0,25.0,39.0,40.0,32.0,45.0,31.0,32.0,48.0,49.0,48.0,18.0,48.0,25.0,27.0,37.0,44.0,27.0,null,null,41.0,42.0,36.0,89.0,37.0,22.0,56.0,35.0,36.0,46.0,26.0,41.0,38.0,42.0,47.0,26.0,64.0,59.0,null,null,49.0,44.0,48.0,27.0,67.0,24.0,26.0,28.0,21.0,54.0,24.0,51.0,59.0,21.0,73.0,39.0,32.0,38.0,32.0,26.0,55.0,50.0,49.0,48.0,65.0,37.0,37.0,45.0,33.0,46.0,33.0,51.0,51.0,33.0,51.0,52.0,24.0,55.0,28.0,36.0,54.0,38.0,24.0,20.0,54.0,53.0,36.0,24.0,34.0,59.0,34.0,null,29.0,24.0,77.0,30.0,36.0,36.0,58.0,47.0,49.0,31.0,25.0,20.0,30.0,33.0,29.0,55.0,31.0,51.0,42.0,67.0,null,23.0,34.0,51.0,19.0,29.0,23.0,46.0,42.0,21.0,55.0,null,43.0,32.0,null,34.0,40.0,55.0,20.0,24.0,43.0,56.0,47.0,33.0,20.0,28.0,50.0,36.0,47.0,36.0,49.0,34.0,41.0,29.0,34.0,34.0,22.0,26.0,32.0,null,44.0,21.0,null,29.0,18.0,33.0,28.0,null,40.0,40.0,53.0,37.0,47.0,30.0,48.0,33.0,44.0,65.0,20.0,17.0,55.0,33.0,29.0,44.0,37.0,32.0,31.0,null,20.0,30.0,25.0,null,47.0,48.0,38.0,32.0,18.0,29.0,30.0,36.0,39.0,36.0,36.0,54.0,27.0,45.0,19.0,36.0,33.0,56.0,null,33.0,60.0,26.0,52.0,40.0,33.0,41.0,35.0,32.0,34.0,26.0,62.0,33.0,55.0,38.0,43.0,38.0,27.0,52.0,null,37.0,null,34.0,41.0,40.0,53.0,21.0,45.0,34.0,22.0,25.0,16.0,37.0,68.0,25.0,34.0,23.0,25.0,57.0,27.0,51.0,30.0,33.0,null,19.0,22.0,37.0,19.0,33.0,38.0,45.0,39.0,21.0,56.0,27.0,50.0,16.0,18.0,38.0,32.0,33.0,71.0,30.0,39.0,19.0,44.0,54.0,null,56.0,64.0,25.0,43.0,18.0,36.0,24.0,30.0,53.0,60.0,32.0,25.0,44.0,19.0,32.0,33.0,null,35.0,23.0,27.0,53.0,35.0,41.0,57.0,18.0,34.0,49.0,31.0,29.0,33.0,38.0,28.0,43.0,58.0,29.0,68.0,62.0,39.0,59.0,24.0,70.0,42.0,26.0,24.0,48.0,30.0,54.0,48.0,37.0,40.0,28.0,43.0,49.0,35.0,21.0,40.0,32.0,48.0,32.0,31.0,null,58.0,30.0,21.0,15.0,30.0,28.0,21.0,42.0,33.0,null,36.0,38.0,34.0,23.0,44.0,20.0,41.0,18.0,29.0,37.0,41.0,25.0,20.0,34.0,37.0,18.0,72.0,17.0,45.0,49.0,64.0,36.0,61.0,24.0,70.0,40.0,27.0,23.0,33.0,45.0,19.0,28.0,63.0,null,43.0,39.0,53.0,57.0,32.0,38.0,36.0,46.0,31.0,40.0,31.0,50.0,29.0,40.0,25.0,31.0,23.0,54.0,44.0,43.0,37.0,null,39.0,18.0,55.0,40.0,28.0,26.0,29.0,36.0,29.0,44.0,42.0,20.0,34.0,41.0,29.0,19.0,32.0,23.0,41.0,37.0,24.0,54.0,58.0,40.0,27.0,40.0,23.0,33.0,29.0,26.0,36.0,38.0,25.0,45.0,null,31.0,48.0,43.0,51.0,36.0,39.0,22.0,24.0,36.0,25.0,30.0,76.0,39.0,26.0,49.0,21.0,31.0,null,22.0,26.0,34.0,27.0,26.0,84.0,17.0,17.0,55.0,22.0,41.0,58.0,45.0,29.0,19.0,18.0,null,61.0,18.0,23.0,38.0,19.0,63.0,27.0,21.0,25.0,35.0,50.0,34.0,null,null,26.0,61.0,18.0,37.0,27.0,24.0,37.0,45.0,28.0,44.0,30.0,30.0,34.0,27.0,28.0,42.0,32.0,24.0,17.0,26.0,35.0,25.0,65.0,33.0,25.0,29.0,18.0,19.0,39.0,61.0,36.0,72.0,48.0,67.0,68.0,null,34.0,36.0,33.0,30.0,61.0,41.0,52.0,26.0,null,39.0,36.0,47.0,null,25.0,63.0,24.0,38.0,22.0,59.0,55.0,29.0,18.0,29.0,25.0,48.0,60.0,null,49.0,27.0,null,65.0,41.0,71.0,33.0,22.0,52.0,42.0,48.0,24.0,null,21.0,20.0,59.0,46.0,23.0,32.0,23.0,19.0,64.0,35.0,41.0,42.0,null,35.0,33.0,32.0,37.0,46.0,37.0,19.0,65.0,30.0,43.0,18.0,27.0,41.0,41.0,33.0,53.0,42.0,46.0,51.0,16.0,41.0,24.0,23.0,50.0,41.0,23.0,33.0,25.0,30.0,58.0,47.0,22.0,27.0,29.0,43.0,18.0,19.0,37.0,42.0,57.0,35.0,50.0,60.0,35.0,46.0,47.0,null,null,31.0,24.0,27.0,27.0,null,null,null,23.0,57.0,56.0,36.0,null,null,24.0,34.0,17.0,21.0,35.0,34.0,56.0,35.0,46.0,42.0,49.0,44.0,45.0,36.0,45.0,34.0,18.0,26.0,28.0,35.0,20.0,33.0,39.0,63.0,27.0,33.0,27.0,31.0,33.0,39.0,27.0,32.0,29.0,81.0,28.0,50.0,55.0,42.0,null,null,36.0,38.0,38.0,35.0,42.0,53.0,33.0,70.0,29.0,26.0,20.0,30.0,19.0,null,48.0,58.0,38.0,28.0,34.0,43.0,45.0,62.0,18.0,25.0,38.0,33.0,39.0,58.0,48.0,14.0,18.0,22.0,46.0,null,null,57.0,32.0,31.0,64.0,35.0,42.0,30.0,26.0,37.0,21.0,20.0,46.0,null,20.0,46.0,24.0,26.0,60.0,48.0,69.0,25.0,29.0,58.0,59.0,46.0,55.0,27.0,30.0,52.0,45.0,51.0,27.0,47.0,52.0,24.0,45.0,47.0,68.0,40.0,18.0,35.0,80.0,44.0,31.0,20.0,48.0,43.0,25.0,38.0,34.0,58.0,38.0,29.0,40.0,49.0,25.0,32.0,21.0,57.0,28.0,25.0,58.0,34.0,34.0,24.0,32.0,58.0,20.0,19.0,46.0,28.0,47.0,47.0,34.0,null,45.0,17.0,34.0,48.0,37.0,32.0,20.0,31.0,16.0,24.0,39.0,26.0,30.0,36.0,28.0,21.0,36.0,28.0,24.0,29.0,44.0,41.0,38.0,40.0,20.0,27.0,51.0,48.0,40.0,21.0,29.0,34.0,20.0,47.0,29.0,49.0,33.0,46.0,35.0,null,40.0,36.0,63.0,27.0,17.0,22.0,22.0,36.0,21.0,31.0,56.0,32.0,25.0,47.0,null,23.0,34.0,51.0,35.0,46.0,59.0,40.0,30.0,34.0,44.0,31.0,51.0,34.0,45.0,32.0,31.0,41.0,29.0,47.0,30.0,27.0,27.0,38.0,33.0,42.0,25.0,47.0,53.0,77.0,48.0,33.0,36.0,22.0,29.0,52.0,61.0,29.0,37.0,26.0,32.0,19.0,45.0,22.0,57.0,46.0,27.0,26.0,30.0,18.0,25.0,51.0,40.0,47.0,38.0,39.0,30.0,43.0,42.0,25.0,22.0,30.0,33.0,24.0,31.0,25.0,28.0,19.0,31.0,29.0,48.0,53.0,50.0,55.0,null,37.0,30.0,26.0,36.0,24.0,35.0,42.0,37.0,28.0,32.0,33.0,27.0,21.0,47.0,57.0,20.0,34.0,34.0,30.0,29.0,28.0,39.0,54.0,27.0,32.0,32.0,47.0,33.0,42.0,null,24.0,24.0,42.0,34.0,46.0,40.0,30.0,42.0,30.0,63.0,18.0,29.0,42.0,32.0,46.0,50.0,29.0,29.0,51.0,23.0,43.0,23.0,47.0,45.0,42.0,26.0,29.0,49.0,17.0,null,45.0,null,51.0,37.0,null,28.0,52.0,76.0,37.0,null,37.0,25.0,35.0,35.0,61.0,33.0,34.0,59.0,32.0,31.0,49.0,31.0,29.0,25.0,26.0,null,39.0,43.0,26.0,36.0,45.0,45.0,54.0,43.0,null,30.0,null,58.0,39.0,40.0,36.0,27.0,20.0,17.0,59.0,47.0,45.0,46.0,34.0,46.0,26.0,21.0,29.0,33.0,32.0,47.0,22.0,null,41.0,28.0,56.0,41.0,35.0,59.0,30.0,48.0,49.0,41.0,21.0,62.0,null,32.0,22.0,58.0,32.0,26.0,35.0,27.0,35.0,38.0,23.0,59.0,23.0,43.0,41.0,56.0,45.0,28.0,null,54.0,39.0,24.0,41.0,27.0,70.0,null,35.0,26.0,58.0,46.0,39.0,33.0,20.0,38.0,41.0,32.0,null,24.0,19.0,27.0,40.0,61.0,56.0,52.0,20.0,35.0,17.0,22.0,null,45.0,20.0,18.0,28.0,38.0,null,53.0,31.0,48.0,20.0,35.0,22.0,18.0,34.0,74.0,33.0,38.0,38.0,26.0,41.0,29.0,19.0,61.0,34.0,35.0,null,43.0,50.0,32.0,50.0,54.0,35.0,33.0,18.0,50.0,41.0,37.0,76.0,null,19.0,40.0,61.0,61.0,22.0,52.0,23.0,67.0,44.0,23.0,null,39.0,53.0,39.0,26.0,38.0,49.0,34.0,47.0,34.0,58.0,17.0,21.0,37.0,43.0,61.0,28.0,41.0,43.0,23.0,36.0,23.0,26.0,36.0,32.0,62.0,33.0,32.0,69.0,35.0,46.0,46.0,22.0,20.0,30.0,49.0,43.0,52.0,62.0,56.0,36.0,40.0,52.0,35.0,35.0,73.0,39.0,53.0,23.0,19.0,41.0,39.0,28.0,28.0,null,53.0,27.0,31.0,38.0,38.0,41.0,49.0,56.0,null,62.0,69.0,null,31.0,37.0,null,28.0,46.0,42.0,46.0,21.0,27.0,30.0,36.0,54.0,48.0,55.0,34.0,45.0,19.0,32.0,35.0,32.0,25.0,24.0,65.0,29.0,49.0,19.0,56.0,39.0,43.0,57.0,49.0,18.0,27.0,52.0,null,52.0,37.0,62.0,57.0,45.0,46.0,49.0,38.0,31.0,51.0,null,51.0,20.0,37.0,49.0,31.0,26.0,null,25.0,null,62.0,27.0,33.0,38.0,69.0,39.0,null,18.0,27.0,50.0,54.0,57.0,null,29.0,39.0,46.0,31.0,34.0,52.0,33.0,null,37.0,67.0,52.0,62.0,30.0,28.0,16.0,null,null,51.0,35.0,23.0,null,23.0,47.0,36.0,37.0,49.0,49.0,null,35.0,17.0,43.0,30.0,34.0,46.0,29.0,62.0,53.0,28.0,65.0,43.0,42.0,30.0,40.0,51.0,24.0,27.0,41.0,47.0,26.0,20.0,18.0,null,29.0,35.0,77.0,25.0,31.0,54.0,33.0,76.0,28.0,31.0,null,53.0,33.0,37.0,null,57.0,null,36.0,39.0,43.0,44.0,33.0,49.0,18.0,74.0,21.0,57.0,29.0,58.0,74.0,63.0,28.0,31.0,41.0,67.0,63.0,64.0,32.0,49.0,28.0,null,null,31.0,null,20.0,38.0,27.0,38.0,37.0,36.0,35.0,50.0,75.0,32.0,34.0,61.0,24.0,37.0,33.0,55.0,42.0,37.0,55.0,31.0,54.0,37.0,48.0,28.0,31.0,48.0,58.0,56.0,40.0,19.0,28.0,32.0,21.0,57.0,17.0,22.0,26.0,null,31.0,61.0,54.0,28.0,30.0,30.0,28.0,26.0,28.0,21.0,31.0,27.0,34.0,22.0,46.0,29.0,38.0,51.0,61.0,34.0,30.0,33.0,21.0,39.0,37.0,36.0,55.0,34.0,47.0,61.0,29.0,29.0,44.0,53.0,31.0,45.0,19.0,40.0,33.0,null,null,45.0,null,27.0,63.0,50.0,25.0,39.0,42.0,25.0,24.0,null,67.0,null,62.0,34.0,33.0,56.0,46.0,41.0,38.0,22.0,42.0,29.0,56.0,32.0,null,31.0,21.0,31.0,48.0,58.0,32.0,45.0,37.0,20.0,34.0,31.0,26.0,32.0,66.0,37.0,38.0,29.0,44.0,28.0,22.0,59.0,56.0,20.0,39.0,30.0,27.0,null,37.0,52.0,35.0,33.0,null,27.0,null,27.0,41.0,28.0,26.0,null,34.0,34.0,38.0,32.0,50.0,55.0,51.0,18.0,42.0,36.0,37.0,28.0,24.0,34.0,22.0,42.0,48.0,51.0,40.0,34.0,30.0,31.0,54.0,46.0,60.0,40.0,null,40.0,68.0,68.0,60.0,16.0,25.0,20.0,21.0,38.0,28.0,18.0,null,26.0,31.0,58.0,31.0,41.0,41.0,41.0,23.0,17.0,35.0,65.0,51.0,47.0,42.0,42.0,31.0,23.0,50.0,47.0,66.0,55.0,68.0,31.0,24.0,30.0,34.0,23.0,43.0,22.0,43.0,22.0,42.0,65.0,18.0,23.0,52.0,40.0,27.0,34.0,25.0,28.0,null,27.0,41.0,63.0,27.0,29.0,38.0,29.0,47.0,28.0,38.0,21.0,44.0,61.0,25.0,40.0,26.0,57.0,57.0,24.0,34.0,46.0,38.0,24.0,34.0,65.0,60.0,56.0,59.0,23.0,35.0,35.0,16.0,null,42.0,43.0,52.0,31.0,27.0,31.0,34.0,76.0,29.0,34.0,null,18.0,51.0,25.0,28.0,37.0,null,23.0,57.0,49.0,24.0,29.0,20.0,25.0,26.0,69.0,26.0,41.0,31.0,30.0,25.0,57.0,17.0,27.0,30.0,18.0,50.0,21.0,28.0,28.0,25.0,33.0,59.0,34.0,27.0,37.0,30.0,41.0,47.0,34.0,24.0,25.0,null,47.0,49.0,31.0,47.0,52.0,29.0,45.0,51.0,55.0,35.0,50.0,31.0,47.0,35.0,66.0,19.0,19.0,43.0,57.0,31.0,41.0,39.0,24.0,20.0,32.0,22.0,60.0,40.0,37.0,34.0,22.0,30.0,26.0,29.0,32.0,32.0,27.0,31.0,35.0,19.0,34.0,32.0,43.0,22.0,43.0,27.0,39.0,37.0,20.0,34.0,32.0,41.0,15.0,52.0,29.0,53.0,24.0,41.0,17.0,44.0,63.0,56.0,23.0,32.0,26.0,41.0,56.0,33.0,37.0,41.0,38.0,32.0,67.0,46.0,45.0,23.0,48.0,31.0,47.0,40.0,40.0,34.0,51.0,33.0,25.0,42.0,41.0,19.0,37.0,21.0,63.0,null,58.0,16.0,31.0,33.0,40.0,34.0,29.0,27.0,23.0,38.0,17.0,75.0,26.0,40.0,null,30.0,36.0,83.0,27.0,28.0,20.0,38.0,39.0,19.0,23.0,16.0,23.0,56.0,35.0,30.0,30.0,30.0,54.0,null,36.0,33.0,39.0,22.0,49.0,45.0,45.0,30.0,30.0,21.0,null,31.0,34.0,73.0,49.0,39.0,37.0,73.0,null,31.0,25.0,41.0,24.0,27.0,null,32.0,33.0,43.0,65.0,84.0,29.0,31.0,57.0,37.0,29.0,47.0,44.0,38.0,32.0,21.0,47.0,26.0,30.0,62.0,41.0,50.0,null,48.0,31.0,30.0,32.0,30.0,20.0,38.0,25.0,47.0,19.0,35.0,58.0,null,18.0,55.0,42.0,39.0,61.0,51.0,28.0,33.0,47.0,39.0,31.0,18.0,23.0,30.0,28.0,55.0,46.0,50.0,34.0,32.0,45.0,31.0,19.0,53.0,55.0,32.0,46.0,26.0,null,51.0,49.0,46.0,22.0,38.0,44.0,37.0,52.0,29.0,29.0,null,19.0,66.0,40.0,30.0,69.0,27.0,26.0,59.0,62.0,null,39.0,67.0,54.0,29.0,37.0,33.0,31.0,38.0,28.0,45.0,59.0,17.0,19.0,36.0,39.0,null,33.0,48.0,31.0,29.0,51.0,54.0,35.0,56.0,null,36.0,31.0,33.0,39.0,58.0,39.0,24.0,48.0,28.0,31.0,null,43.0,33.0,37.0,24.0,40.0,28.0,24.0,27.0,40.0,31.0,38.0,35.0,42.0,34.0,42.0,28.0,24.0,53.0,67.0,59.0,61.0,48.0,26.0,28.0,33.0,32.0,26.0,50.0,38.0,29.0,27.0,28.0,43.0,21.0,36.0,24.0,null,32.0,26.0,21.0,54.0,44.0,69.0,45.0,26.0,43.0,38.0,28.0,36.0,21.0,23.0,56.0,33.0,40.0,21.0,20.0,21.0,20.0,47.0,38.0,31.0,51.0,19.0,21.0,48.0,47.0,42.0,30.0,47.0,57.0,27.0,33.0,25.0,50.0,null,37.0,24.0,30.0,49.0,26.0,47.0,30.0,42.0,31.0,33.0,29.0,42.0,38.0,25.0,49.0,39.0,64.0,28.0,32.0,69.0,29.0,57.0,30.0,null,45.0,23.0,40.0,60.0,22.0,28.0,36.0,57.0,44.0,52.0,43.0,38.0,28.0,35.0,33.0,null,37.0,61.0,22.0,42.0,47.0,18.0,47.0,61.0,38.0,58.0,50.0,31.0,30.0,34.0,35.0,53.0,31.0,35.0,26.0,22.0,null,32.0,35.0,39.0,44.0,39.0,46.0,49.0,32.0,53.0,25.0,36.0,65.0,22.0,33.0,39.0,44.0,25.0,36.0,42.0,60.0,24.0,22.0,37.0,26.0,35.0,39.0,81.0,31.0,38.0,59.0,59.0,36.0,28.0,26.0,62.0,27.0,23.0,25.0,22.0,21.0,26.0,31.0,24.0,27.0,31.0,50.0,48.0,null,38.0,19.0,18.0,35.0,25.0,24.0,35.0,19.0,22.0,33.0,43.0,63.0,43.0,40.0,22.0,null,31.0,27.0,34.0,37.0,26.0,27.0,30.0,38.0,33.0,40.0,25.0,57.0,31.0,58.0,68.0,57.0,48.0,26.0,34.0,62.0,30.0,34.0,31.0,32.0,58.0,28.0,17.0,34.0,30.0,70.0,35.0,40.0,62.0,36.0,28.0,37.0,49.0,49.0,60.0,20.0,31.0,23.0,26.0,36.0,47.0,28.0,59.0,31.0,43.0,17.0,32.0,28.0,24.0,39.0,22.0,23.0,60.0,33.0,28.0,24.0,24.0,35.0,51.0,33.0,30.0,22.0,49.0,37.0,null,51.0,61.0,null,45.0,41.0,49.0,34.0,22.0,26.0,32.0,47.0,21.0,25.0,37.0,42.0,41.0,39.0,28.0,49.0,null,56.0,38.0,17.0,63.0,34.0,30.0,44.0,39.0,36.0,67.0,29.0,30.0,35.0,44.0,55.0,33.0,22.0,51.0,26.0,60.0,45.0,25.0,21.0,34.0,39.0,26.0,42.0,39.0,32.0,48.0,35.0,50.0,40.0,48.0,48.0,31.0,39.0,null,null,41.0,32.0,51.0,54.0,52.0,35.0,27.0,67.0,30.0,27.0,65.0,36.0,35.0,37.0,37.0,34.0,60.0,39.0,21.0,null,43.0,37.0,39.0,42.0,31.0,29.0,35.0,47.0,null,31.0,30.0,47.0,39.0,31.0,41.0,17.0,29.0,38.0,36.0,52.0,43.0,44.0,25.0,26.0,29.0,36.0,58.0,26.0,50.0,18.0,48.0,37.0,53.0,33.0,38.0,22.0,61.0,34.0,40.0,49.0,54.0,51.0,33.0,37.0,47.0,41.0,18.0,null,49.0,41.0,48.0,31.0,88.0,null,27.0,27.0,null,55.0,37.0,45.0,39.0,26.0,41.0,46.0,22.0,33.0,32.0,52.0,39.0,26.0,null,28.0,40.0,30.0,44.0,42.0,38.0,66.0,29.0,43.0,30.0,21.0,43.0,57.0,27.0,27.0,41.0,null,38.0,39.0,33.0,43.0,46.0,20.0,32.0,30.0,41.0,27.0,24.0,47.0,44.0,62.0,48.0,54.0,29.0,24.0,47.0,32.0,41.0,25.0,29.0,29.0,21.0,52.0,29.0,24.0,27.0,36.0,28.0,23.0,30.0,30.0,45.0,48.0,47.0,null,57.0,25.0,27.0,46.0,null,49.0,53.0,21.0,41.0,null,32.0,37.0,43.0,43.0,null,37.0,46.0,39.0,19.0,43.0,48.0,61.0,null,44.0,26.0,45.0,35.0,30.0,35.0,43.0,63.0,35.0,62.0,25.0,null,26.0,null,30.0,null,33.0,19.0,null,35.0,53.0,27.0,27.0,64.0,20.0,38.0,35.0,34.0,44.0,35.0,30.0,21.0,30.0,43.0,42.0,27.0,44.0,36.0,30.0,43.0,26.0,38.0,25.0,39.0,35.0,55.0,38.0,59.0,20.0,56.0,33.0,52.0,26.0,33.0,60.0,30.0,36.0,32.0,25.0,37.0,26.0,43.0,56.0,34.0,33.0,58.0,18.0,25.0,22.0,18.0,29.0,27.0,36.0,44.0,null,61.0,37.0,52.0,39.0,null,18.0,16.0,19.0,41.0,31.0,38.0,40.0,66.0,38.0,35.0,50.0,null,38.0,32.0,39.0,28.0,42.0,18.0,37.0,39.0,66.0,35.0,25.0,30.0,43.0,27.0,43.0,37.0,25.0,75.0,34.0,37.0,49.0,41.0,null,15.0,37.0,41.0,30.0,62.0,31.0,74.0,null,27.0,43.0,32.0,33.0,38.0,28.0,28.0,28.0,47.0,62.0,20.0,42.0,60.0,23.0,34.0,35.0,60.0,67.0,null,19.0,28.0,28.0,37.0,56.0,44.0,40.0,27.0,27.0,22.0,27.0,23.0,55.0,79.0,47.0,47.0,37.0,23.0,40.0,35.0,36.0,31.0,60.0,36.0,29.0,52.0,26.0,34.0,46.0,null,28.0,29.0,34.0,33.0,37.0,49.0,25.0,34.0,41.0,65.0,38.0,32.0,null,34.0,50.0,47.0,45.0,45.0,19.0,39.0,39.0,43.0,32.0,31.0,30.0,40.0,47.0,33.0,35.0,28.0,31.0,47.0,null,30.0,18.0,18.0,28.0,29.0,21.0,21.0,37.0,23.0,19.0,39.0,39.0,63.0,39.0,37.0,63.0,17.0,38.0,49.0,27.0,49.0,28.0,null,28.0,18.0,36.0,27.0,27.0,35.0,26.0,34.0,40.0,24.0,47.0,47.0,91.0,46.0,32.0,37.0,52.0,37.0,18.0,48.0,28.0,49.0,null,45.0,31.0,32.0,54.0,23.0,30.0,43.0,36.0,26.0,27.0,48.0,24.0,65.0,25.0,24.0,null,46.0,27.0,56.0,32.0,55.0,38.0,21.0,19.0,null,33.0,27.0,34.0,null,38.0,43.0,50.0,61.0,null,null,48.0,37.0,26.0,55.0,60.0,34.0,null,61.0,29.0,41.0,39.0,60.0,34.0,58.0,57.0,19.0,null,52.0,30.0,56.0,29.0,39.0,30.0,18.0,34.0,34.0,30.0,33.0,null,36.0,43.0,25.0,26.0,52.0,60.0,28.0,23.0,29.0,27.0,34.0,49.0,37.0,38.0,33.0,45.0,27.0,21.0,27.0,25.0,39.0,20.0,38.0,29.0,32.0,44.0,null,null,28.0,null,32.0,51.0,null,50.0,30.0,33.0,44.0,51.0,28.0,null,39.0,37.0,28.0,34.0,27.0,29.0,null,57.0,30.0,26.0,39.0,40.0,null,27.0,37.0,38.0,30.0,null,39.0,null,22.0,39.0,35.0,24.0,44.0,33.0,37.0,29.0,26.0,41.0,29.0,39.0,27.0,36.0,43.0,32.0,48.0,17.0,54.0,46.0,55.0,null,41.0,28.0,17.0,17.0,43.0,44.0,null,27.0,35.0,43.0,30.0,30.0,67.0,19.0,29.0,42.0,30.0,49.0,32.0,33.0,31.0,43.0,24.0,24.0,null,25.0,51.0,28.0,30.0,34.0,21.0,62.0,37.0,22.0,36.0,null,44.0,35.0,50.0,79.0,46.0,null,29.0,41.0,48.0,79.0,24.0,null,31.0,42.0,null,60.0,44.0,41.0,32.0,34.0,35.0,33.0,null,57.0,35.0,18.0,51.0,null,26.0,31.0,32.0,25.0,32.0,36.0,57.0,49.0,26.0,38.0,13.0,33.0,48.0,41.0,32.0,31.0,40.0,35.0,27.0,22.0,60.0,57.0,35.0,47.0,25.0,36.0,null,null,22.0,null,25.0,23.0,40.0,26.0,32.0,21.0,28.0,16.0,41.0,25.0,23.0,40.0,26.0,24.0,44.0,null,40.0,50.0,31.0,26.0,52.0,48.0,30.0,27.0,null,31.0,20.0,34.0,28.0,17.0,35.0,27.0,16.0,58.0,67.0,36.0,28.0,46.0,29.0,null,26.0,22.0,29.0,25.0,33.0,25.0,46.0,51.0,60.0,29.0,26.0,52.0,30.0,31.0,28.0,52.0,27.0,38.0,39.0,16.0,37.0,28.0,null,59.0,42.0,31.0,37.0,52.0,41.0,26.0,29.0,32.0,34.0,20.0,50.0,32.0,null,21.0,25.0,36.0,28.0,30.0,62.0,23.0,57.0,45.0,null,37.0,27.0,49.0,47.0,42.0,52.0,54.0,null,34.0,56.0,62.0,24.0,28.0,29.0,27.0,30.0,45.0,19.0,40.0,33.0,28.0,24.0,null,null,48.0,26.0,39.0,49.0,34.0,17.0,35.0,32.0,null,32.0,32.0,16.0,22.0,32.0,21.0,19.0,24.0,52.0,31.0,31.0,44.0,23.0,null,null,null,63.0,31.0,38.0,34.0,21.0,30.0,27.0,55.0,39.0,26.0,25.0,34.0,34.0,38.0,80.0,33.0,36.0,37.0,null,32.0,48.0,29.0,33.0,31.0,71.0,47.0,29.0,29.0,29.0,37.0,48.0,43.0,24.0,27.0,34.0,32.0,18.0,45.0,null,29.0,42.0,34.0,31.0,28.0,34.0,29.0,null,44.0,47.0,32.0,39.0,47.0,42.0,33.0,38.0,36.0,58.0,32.0,64.0,53.0,39.0,21.0,70.0,31.0,20.0,34.0,30.0,65.0,54.0,52.0,25.0,43.0,28.0,48.0,null,56.0,29.0,35.0,44.0,null,40.0,null,34.0,35.0,31.0,40.0,19.0,28.0,20.0,25.0,31.0,40.0,17.0,31.0,27.0,33.0,39.0,26.0,null,57.0,29.0,32.0,40.0,null,39.0,null,40.0,40.0,45.0,48.0,52.0,29.0,30.0,54.0,54.0,23.0,60.0,null,null,24.0,22.0,37.0,28.0,39.0,29.0,25.0,24.0,null,null,35.0,26.0,32.0,58.0,51.0,29.0,33.0,56.0,54.0,45.0,23.0,37.0,40.0,49.0,32.0,null,36.0,28.0,52.0,32.0,null,33.0,null,34.0,45.0,null,64.0,53.0,22.0,34.0,59.0,37.0,24.0,36.0,null,22.0,21.0,32.0,32.0,31.0,null,64.0,51.0,21.0,36.0,30.0,null,16.0,35.0,35.0,35.0,43.0,50.0,24.0,19.0,35.0,31.0,37.0,43.0,25.0,40.0,22.0,31.0,38.0,null,41.0,39.0,58.0,29.0,55.0,60.0,19.0,56.0,35.0,37.0,32.0,31.0,44.0,39.0,31.0,49.0,22.0,76.0,22.0,27.0,null,21.0,35.0,22.0,35.0,36.0,59.0,49.0,22.0,21.0,null,40.0,null,62.0,63.0,48.0,39.0,21.0,71.0,51.0,31.0,35.0,41.0,34.0,null,73.0,35.0,null,39.0,38.0,35.0,80.0,null,29.0,33.0,null,40.0,42.0,27.0,19.0,27.0,72.0,50.0,29.0,28.0,34.0,41.0,33.0,26.0,null,34.0,28.0,45.0,28.0,59.0,31.0,35.0,42.0,31.0,48.0,22.0,33.0,27.0,33.0,42.0,36.0,25.0,38.0,26.0,27.0,53.0,33.0,41.0,53.0,30.0,33.0,19.0,8.0,30.0,null,null,31.0,40.0,32.0,32.0,80.0,36.0,66.0,48.0,38.0,45.0,34.0,55.0,33.0,26.0,null,65.0,33.0,18.0,60.0,31.0,53.0,52.0,37.0,28.0,25.0,59.0,41.0,46.0,53.0,35.0,32.0,52.0,45.0,43.0,40.0,35.0,37.0,29.0,31.0,33.0,30.0,33.0,48.0,null,46.0,44.0,39.0,30.0,49.0,25.0,30.0,33.0,38.0,null,17.0,27.0,38.0,41.0,21.0,null,null,34.0,47.0,27.0,47.0,null,28.0,30.0,42.0,30.0,49.0,30.0,40.0,null,40.0,34.0,39.0,20.0,36.0,43.0,30.0,33.0,27.0,36.0,18.0,26.0,43.0,34.0,24.0,41.0,37.0,26.0,28.0,32.0,27.0,32.0,58.0,41.0,24.0,null,32.0,21.0,66.0,50.0,null,22.0,61.0,23.0,35.0,27.0,43.0,40.0,24.0,43.0,55.0,25.0,22.0,71.0,27.0,30.0,35.0,45.0,29.0,28.0,28.0,32.0,35.0,52.0,35.0,57.0,18.0,37.0,50.0,36.0,40.0,43.0,43.0,41.0,34.0,37.0,40.0,36.0,32.0,46.0,30.0,39.0,42.0,17.0,30.0,40.0,33.0,40.0,28.0,40.0,30.0,32.0,51.0,null,41.0,46.0,54.0,33.0,40.0,32.0,34.0,25.0,23.0,35.0,34.0,35.0,60.0,null,37.0,27.0,33.0,null,57.0,56.0,26.0,31.0,28.0,null,30.0,null,41.0,50.0,59.0,null,36.0,15.0,null,30.0,43.0,26.0,36.0,43.0,null,36.0,null,45.0,21.0,34.0,37.0,40.0,29.0,null,null,50.0,null,24.0,65.0,21.0,44.0,null,null,null,42.0,41.0,40.0,30.0,null,null,33.0,92.0,42.0,43.0,36.0,55.0,37.0,61.0,53.0,45.0,41.0,29.0,null,45.0,52.0,null,null,30.0,36.0,27.0,24.0,27.0,null,null,52.0,54.0,47.0,41.0,null,null,33.0,21.0,61.0,33.0,47.0,61.0,34.0,null,35.0,34.0,38.0,20.0,25.0,29.0,null,18.0,39.0,38.0,null,null,48.0,30.0,38.0,48.0,88.0,null,41.0,null,18.0,null,42.0,35.0,64.0,null,55.0,40.0,28.0,55.0,60.0,43.0,29.0,64.0,39.0,35.0,26.0,32.0,null,21.0,45.0,52.0,25.0,20.0,45.0,32.0,32.0,27.0,18.0,39.0,null,20.0,22.0,34.0,33.0,26.0,21.0,68.0,23.0,45.0,42.0,44.0,null,24.0,48.0,44.0,57.0,58.0,14.0,24.0,38.0,62.0,44.0,24.0,41.0,33.0,40.0,38.0,31.0,null,22.0,31.0,47.0,39.0,null,62.0,27.0,25.0,28.0,null,null,63.0,46.0,null,54.0,26.0,49.0,24.0,53.0,null,28.0,53.0,27.0,null,28.0,49.0,55.0,25.0,47.0,23.0,null,45.0,19.0,21.0,50.0,43.0,43.0,43.0,51.0,35.0,31.0,37.0,34.0,30.0,64.0,22.0,35.0,22.0,32.0,36.0,28.0,null,31.0,33.0,50.0,32.0,37.0,27.0,34.0,47.0,37.0,37.0,42.0,24.0,17.0,23.0,48.0,58.0,30.0,68.0,null,20.0,32.0,37.0,39.0,42.0,null,28.0,28.0,52.0,20.0,48.0,40.0,37.0,29.0,31.0,23.0,22.0,34.0,null,35.0,38.0,34.0,46.0,38.0,40.0,58.0,null,27.0,49.0,48.0,36.0,30.0,50.0,36.0,55.0,36.0,22.0,null,25.0,23.0,22.0,41.0,32.0,23.0,35.0,null,31.0,38.0,35.0,37.0,43.0,34.0,null,26.0,37.0,37.0,43.0,39.0,40.0,36.0,40.0,54.0,32.0,45.0,18.0,34.0,51.0,32.0,30.0,47.0,25.0,33.0,45.0,32.0,57.0,null,null,30.0,39.0,27.0,41.0,38.0,54.0,41.0,54.0,32.0,32.0,28.0,27.0,63.0,23.0,27.0,55.0,35.0,34.0,31.0,null,null,37.0,34.0,24.0,null,37.0,12.0,33.0,26.0,23.0,18.0,45.0,29.0,47.0,14.0,44.0,36.0,41.0,41.0,32.0,33.0,null,58.0,28.0,33.0,null,39.0,34.0,40.0,35.0,47.0,46.0,39.0,null,38.0,42.0,57.0,33.0,17.0,35.0,39.0,51.0,44.0,26.0,30.0,null,30.0,42.0,28.0,null,40.0,47.0,30.0,35.0,37.0,null,21.0,null,52.0,36.0,29.0,31.0,29.0,21.0,34.0,33.0,74.0,null,34.0,33.0,30.0,43.0,null,null,27.0,68.0,52.0,23.0,22.0,46.0,38.0,null,29.0,38.0,2.0,43.0,82.0,null,56.0,35.0,41.0,41.0,49.0,27.0,24.0,35.0,42.0,35.0,35.0,60.0,53.0,36.0,39.0,null,34.0,35.0,63.0,37.0,65.0,43.0,null,39.0,31.0,32.0,34.0,21.0,32.0,20.0,null,26.0,null,54.0,null,31.0,67.0,null,53.0,27.0,20.0,33.0,null,18.0,37.0,34.0,null,74.0,49.0,32.0,null,21.0,43.0,24.0,48.0,25.0,36.0,20.0,28.0,67.0,27.0,49.0,18.0,23.0,null,51.0,37.0,28.0,40.0,25.0,60.0,32.0,43.0,20.0,26.0,75.0,null,19.0,34.0,null,26.0,33.0,null,38.0,28.0,43.0,34.0,42.0,42.0,53.0,26.0,null,26.0,24.0,27.0,53.0,null,20.0,null,58.0,29.0,59.0,29.0,22.0,34.0,28.0,35.0,55.0,null,47.0,41.0,44.0,47.0,26.0,54.0,27.0,31.0,39.0,34.0,29.0,null,68.0,null,53.0,25.0,null,36.0,null,21.0,72.0,34.0,25.0,26.0,65.0,null,null,null,33.0,33.0,null,48.0,66.0,null,31.0,30.0,22.0,null,null,37.0,28.0,null,19.0,35.0,27.0,23.0,40.0,57.0,49.0,47.0,null,25.0,26.0,26.0,58.0,43.0,51.0,56.0,null,35.0,30.0,53.0,59.0,18.0,23.0,60.0,null,39.0,53.0,48.0,24.0,58.0,48.0,53.0,42.0,39.0,39.0,51.0,52.0,22.0,19.0,51.0,19.0,31.0,33.0,21.0,22.0,46.0,42.0,37.0,null,42.0,null,27.0,30.0,24.0,46.0,48.0,25.0,42.0,19.0,32.0,45.0,56.0,28.0,null,13.0,36.0,66.0,45.0,32.0,47.0,25.0,51.0,73.0,20.0,null,45.0,32.0,40.0,38.0,41.0,null,42.0,35.0,27.0,35.0,32.0,42.0,34.0,37.0,41.0,39.0,21.0,null,null,54.0,38.0,22.0,24.0,30.0,null,null,29.0,24.0,48.0,33.0,58.0,38.0,null,57.0,41.0,25.0,null,null,43.0,27.0,29.0,42.0,29.0,49.0,59.0,46.0,38.0,31.0,47.0,68.0,42.0,33.0,45.0,66.0,25.0,null,40.0,null,34.0,33.0,34.0,43.0,29.0,31.0,66.0,37.0,22.0,30.0,30.0,75.0,null,63.0,57.0,44.0,46.0,null,null,21.0,15.0,31.0,32.0,36.0,null,19.0,26.0,36.0,26.0,28.0,47.0,42.0,null,60.0,null,31.0,64.0,27.0,65.0,20.0,16.0,20.0,45.0,31.0,null,31.0,null,null,null,30.0,45.0,27.0,28.0,35.0,33.0,50.0,23.0,53.0,44.0,58.0,22.0,27.0,34.0,29.0,39.0,21.0,35.0,43.0,63.0,null,65.0,37.0,null,54.0,34.0,null,null,33.0,29.0,42.0,19.0,32.0,22.0,51.0,28.0,38.0,64.0,null,null,null,30.0,36.0,null,27.0,41.0,31.0,48.0,35.0,null,null,67.0,56.0,35.0,56.0,26.0,35.0,74.0,24.0,36.0,51.0,39.0,83.0,29.0,null,null,26.0,50.0,28.0,59.0,31.0,21.0,null,40.0,null,48.0,23.0,42.0,48.0,27.0,33.0,null,32.0,null,32.0,32.0,null,null,null,29.0,null,null,56.0,53.0,17.0,37.0,42.0,null,41.0,null,48.0,32.0,null,null],\"type\":\"box\"}],                        {\"template\":{\"data\":{\"bar\":[{\"error_x\":{\"color\":\"#2a3f5f\"},\"error_y\":{\"color\":\"#2a3f5f\"},\"marker\":{\"line\":{\"color\":\"#E5ECF6\",\"width\":0.5},\"pattern\":{\"fillmode\":\"overlay\",\"size\":10,\"solidity\":0.2}},\"type\":\"bar\"}],\"barpolar\":[{\"marker\":{\"line\":{\"color\":\"#E5ECF6\",\"width\":0.5},\"pattern\":{\"fillmode\":\"overlay\",\"size\":10,\"solidity\":0.2}},\"type\":\"barpolar\"}],\"carpet\":[{\"aaxis\":{\"endlinecolor\":\"#2a3f5f\",\"gridcolor\":\"white\",\"linecolor\":\"white\",\"minorgridcolor\":\"white\",\"startlinecolor\":\"#2a3f5f\"},\"baxis\":{\"endlinecolor\":\"#2a3f5f\",\"gridcolor\":\"white\",\"linecolor\":\"white\",\"minorgridcolor\":\"white\",\"startlinecolor\":\"#2a3f5f\"},\"type\":\"carpet\"}],\"choropleth\":[{\"colorbar\":{\"outlinewidth\":0,\"ticks\":\"\"},\"type\":\"choropleth\"}],\"contour\":[{\"colorbar\":{\"outlinewidth\":0,\"ticks\":\"\"},\"colorscale\":[[0.0,\"#0d0887\"],[0.1111111111111111,\"#46039f\"],[0.2222222222222222,\"#7201a8\"],[0.3333333333333333,\"#9c179e\"],[0.4444444444444444,\"#bd3786\"],[0.5555555555555556,\"#d8576b\"],[0.6666666666666666,\"#ed7953\"],[0.7777777777777778,\"#fb9f3a\"],[0.8888888888888888,\"#fdca26\"],[1.0,\"#f0f921\"]],\"type\":\"contour\"}],\"contourcarpet\":[{\"colorbar\":{\"outlinewidth\":0,\"ticks\":\"\"},\"type\":\"contourcarpet\"}],\"heatmap\":[{\"colorbar\":{\"outlinewidth\":0,\"ticks\":\"\"},\"colorscale\":[[0.0,\"#0d0887\"],[0.1111111111111111,\"#46039f\"],[0.2222222222222222,\"#7201a8\"],[0.3333333333333333,\"#9c179e\"],[0.4444444444444444,\"#bd3786\"],[0.5555555555555556,\"#d8576b\"],[0.6666666666666666,\"#ed7953\"],[0.7777777777777778,\"#fb9f3a\"],[0.8888888888888888,\"#fdca26\"],[1.0,\"#f0f921\"]],\"type\":\"heatmap\"}],\"heatmapgl\":[{\"colorbar\":{\"outlinewidth\":0,\"ticks\":\"\"},\"colorscale\":[[0.0,\"#0d0887\"],[0.1111111111111111,\"#46039f\"],[0.2222222222222222,\"#7201a8\"],[0.3333333333333333,\"#9c179e\"],[0.4444444444444444,\"#bd3786\"],[0.5555555555555556,\"#d8576b\"],[0.6666666666666666,\"#ed7953\"],[0.7777777777777778,\"#fb9f3a\"],[0.8888888888888888,\"#fdca26\"],[1.0,\"#f0f921\"]],\"type\":\"heatmapgl\"}],\"histogram\":[{\"marker\":{\"pattern\":{\"fillmode\":\"overlay\",\"size\":10,\"solidity\":0.2}},\"type\":\"histogram\"}],\"histogram2d\":[{\"colorbar\":{\"outlinewidth\":0,\"ticks\":\"\"},\"colorscale\":[[0.0,\"#0d0887\"],[0.1111111111111111,\"#46039f\"],[0.2222222222222222,\"#7201a8\"],[0.3333333333333333,\"#9c179e\"],[0.4444444444444444,\"#bd3786\"],[0.5555555555555556,\"#d8576b\"],[0.6666666666666666,\"#ed7953\"],[0.7777777777777778,\"#fb9f3a\"],[0.8888888888888888,\"#fdca26\"],[1.0,\"#f0f921\"]],\"type\":\"histogram2d\"}],\"histogram2dcontour\":[{\"colorbar\":{\"outlinewidth\":0,\"ticks\":\"\"},\"colorscale\":[[0.0,\"#0d0887\"],[0.1111111111111111,\"#46039f\"],[0.2222222222222222,\"#7201a8\"],[0.3333333333333333,\"#9c179e\"],[0.4444444444444444,\"#bd3786\"],[0.5555555555555556,\"#d8576b\"],[0.6666666666666666,\"#ed7953\"],[0.7777777777777778,\"#fb9f3a\"],[0.8888888888888888,\"#fdca26\"],[1.0,\"#f0f921\"]],\"type\":\"histogram2dcontour\"}],\"mesh3d\":[{\"colorbar\":{\"outlinewidth\":0,\"ticks\":\"\"},\"type\":\"mesh3d\"}],\"parcoords\":[{\"line\":{\"colorbar\":{\"outlinewidth\":0,\"ticks\":\"\"}},\"type\":\"parcoords\"}],\"pie\":[{\"automargin\":true,\"type\":\"pie\"}],\"scatter\":[{\"marker\":{\"colorbar\":{\"outlinewidth\":0,\"ticks\":\"\"}},\"type\":\"scatter\"}],\"scatter3d\":[{\"line\":{\"colorbar\":{\"outlinewidth\":0,\"ticks\":\"\"}},\"marker\":{\"colorbar\":{\"outlinewidth\":0,\"ticks\":\"\"}},\"type\":\"scatter3d\"}],\"scattercarpet\":[{\"marker\":{\"colorbar\":{\"outlinewidth\":0,\"ticks\":\"\"}},\"type\":\"scattercarpet\"}],\"scattergeo\":[{\"marker\":{\"colorbar\":{\"outlinewidth\":0,\"ticks\":\"\"}},\"type\":\"scattergeo\"}],\"scattergl\":[{\"marker\":{\"colorbar\":{\"outlinewidth\":0,\"ticks\":\"\"}},\"type\":\"scattergl\"}],\"scattermapbox\":[{\"marker\":{\"colorbar\":{\"outlinewidth\":0,\"ticks\":\"\"}},\"type\":\"scattermapbox\"}],\"scatterpolar\":[{\"marker\":{\"colorbar\":{\"outlinewidth\":0,\"ticks\":\"\"}},\"type\":\"scatterpolar\"}],\"scatterpolargl\":[{\"marker\":{\"colorbar\":{\"outlinewidth\":0,\"ticks\":\"\"}},\"type\":\"scatterpolargl\"}],\"scatterternary\":[{\"marker\":{\"colorbar\":{\"outlinewidth\":0,\"ticks\":\"\"}},\"type\":\"scatterternary\"}],\"surface\":[{\"colorbar\":{\"outlinewidth\":0,\"ticks\":\"\"},\"colorscale\":[[0.0,\"#0d0887\"],[0.1111111111111111,\"#46039f\"],[0.2222222222222222,\"#7201a8\"],[0.3333333333333333,\"#9c179e\"],[0.4444444444444444,\"#bd3786\"],[0.5555555555555556,\"#d8576b\"],[0.6666666666666666,\"#ed7953\"],[0.7777777777777778,\"#fb9f3a\"],[0.8888888888888888,\"#fdca26\"],[1.0,\"#f0f921\"]],\"type\":\"surface\"}],\"table\":[{\"cells\":{\"fill\":{\"color\":\"#EBF0F8\"},\"line\":{\"color\":\"white\"}},\"header\":{\"fill\":{\"color\":\"#C8D4E3\"},\"line\":{\"color\":\"white\"}},\"type\":\"table\"}]},\"layout\":{\"annotationdefaults\":{\"arrowcolor\":\"#2a3f5f\",\"arrowhead\":0,\"arrowwidth\":1},\"autotypenumbers\":\"strict\",\"coloraxis\":{\"colorbar\":{\"outlinewidth\":0,\"ticks\":\"\"}},\"colorscale\":{\"diverging\":[[0,\"#8e0152\"],[0.1,\"#c51b7d\"],[0.2,\"#de77ae\"],[0.3,\"#f1b6da\"],[0.4,\"#fde0ef\"],[0.5,\"#f7f7f7\"],[0.6,\"#e6f5d0\"],[0.7,\"#b8e186\"],[0.8,\"#7fbc41\"],[0.9,\"#4d9221\"],[1,\"#276419\"]],\"sequential\":[[0.0,\"#0d0887\"],[0.1111111111111111,\"#46039f\"],[0.2222222222222222,\"#7201a8\"],[0.3333333333333333,\"#9c179e\"],[0.4444444444444444,\"#bd3786\"],[0.5555555555555556,\"#d8576b\"],[0.6666666666666666,\"#ed7953\"],[0.7777777777777778,\"#fb9f3a\"],[0.8888888888888888,\"#fdca26\"],[1.0,\"#f0f921\"]],\"sequentialminus\":[[0.0,\"#0d0887\"],[0.1111111111111111,\"#46039f\"],[0.2222222222222222,\"#7201a8\"],[0.3333333333333333,\"#9c179e\"],[0.4444444444444444,\"#bd3786\"],[0.5555555555555556,\"#d8576b\"],[0.6666666666666666,\"#ed7953\"],[0.7777777777777778,\"#fb9f3a\"],[0.8888888888888888,\"#fdca26\"],[1.0,\"#f0f921\"]]},\"colorway\":[\"#636efa\",\"#EF553B\",\"#00cc96\",\"#ab63fa\",\"#FFA15A\",\"#19d3f3\",\"#FF6692\",\"#B6E880\",\"#FF97FF\",\"#FECB52\"],\"font\":{\"color\":\"#2a3f5f\"},\"geo\":{\"bgcolor\":\"white\",\"lakecolor\":\"white\",\"landcolor\":\"#E5ECF6\",\"showlakes\":true,\"showland\":true,\"subunitcolor\":\"white\"},\"hoverlabel\":{\"align\":\"left\"},\"hovermode\":\"closest\",\"mapbox\":{\"style\":\"light\"},\"paper_bgcolor\":\"white\",\"plot_bgcolor\":\"#E5ECF6\",\"polar\":{\"angularaxis\":{\"gridcolor\":\"white\",\"linecolor\":\"white\",\"ticks\":\"\"},\"bgcolor\":\"#E5ECF6\",\"radialaxis\":{\"gridcolor\":\"white\",\"linecolor\":\"white\",\"ticks\":\"\"}},\"scene\":{\"xaxis\":{\"backgroundcolor\":\"#E5ECF6\",\"gridcolor\":\"white\",\"gridwidth\":2,\"linecolor\":\"white\",\"showbackground\":true,\"ticks\":\"\",\"zerolinecolor\":\"white\"},\"yaxis\":{\"backgroundcolor\":\"#E5ECF6\",\"gridcolor\":\"white\",\"gridwidth\":2,\"linecolor\":\"white\",\"showbackground\":true,\"ticks\":\"\",\"zerolinecolor\":\"white\"},\"zaxis\":{\"backgroundcolor\":\"#E5ECF6\",\"gridcolor\":\"white\",\"gridwidth\":2,\"linecolor\":\"white\",\"showbackground\":true,\"ticks\":\"\",\"zerolinecolor\":\"white\"}},\"shapedefaults\":{\"line\":{\"color\":\"#2a3f5f\"}},\"ternary\":{\"aaxis\":{\"gridcolor\":\"white\",\"linecolor\":\"white\",\"ticks\":\"\"},\"baxis\":{\"gridcolor\":\"white\",\"linecolor\":\"white\",\"ticks\":\"\"},\"bgcolor\":\"#E5ECF6\",\"caxis\":{\"gridcolor\":\"white\",\"linecolor\":\"white\",\"ticks\":\"\"}},\"title\":{\"x\":0.05},\"xaxis\":{\"automargin\":true,\"gridcolor\":\"white\",\"linecolor\":\"white\",\"ticks\":\"\",\"title\":{\"standoff\":15},\"zerolinecolor\":\"white\",\"zerolinewidth\":2},\"yaxis\":{\"automargin\":true,\"gridcolor\":\"white\",\"linecolor\":\"white\",\"ticks\":\"\",\"title\":{\"standoff\":15},\"zerolinecolor\":\"white\",\"zerolinewidth\":2}}},\"title\":{\"text\":\"Distribution of Age\"}},                        {\"responsive\": true}                    ).then(function(){\n",
              "                            \n",
              "var gd = document.getElementById('2e627112-7a04-483a-a967-b763310ede59');\n",
              "var x = new MutationObserver(function (mutations, observer) {{\n",
              "        var display = window.getComputedStyle(gd).display;\n",
              "        if (!display || display === 'none') {{\n",
              "            console.log([gd, 'removed!']);\n",
              "            Plotly.purge(gd);\n",
              "            observer.disconnect();\n",
              "        }}\n",
              "}});\n",
              "\n",
              "// Listen for the removal of the full notebook cells\n",
              "var notebookContainer = gd.closest('#notebook-container');\n",
              "if (notebookContainer) {{\n",
              "    x.observe(notebookContainer, {childList: true});\n",
              "}}\n",
              "\n",
              "// Listen for the clearing of the current output cell\n",
              "var outputEl = gd.closest('.output');\n",
              "if (outputEl) {{\n",
              "    x.observe(outputEl, {childList: true});\n",
              "}}\n",
              "\n",
              "                        })                };                            </script>        </div>\n",
              "</body>\n",
              "</html>"
            ]
          },
          "metadata": {}
        }
      ]
    },
    {
      "cell_type": "code",
      "source": [
        "sns.distplot(df1['age'],kde=True,color='r')"
      ],
      "metadata": {
        "colab": {
          "base_uri": "https://localhost:8080/",
          "height": 366
        },
        "id": "tGYeM-vuUpui",
        "outputId": "de2d7480-b248-47ca-bdbe-c9dcb6286d83"
      },
      "execution_count": 24,
      "outputs": [
        {
          "output_type": "stream",
          "name": "stderr",
          "text": [
            "/usr/local/lib/python3.7/dist-packages/seaborn/distributions.py:2619: FutureWarning:\n",
            "\n",
            "`distplot` is a deprecated function and will be removed in a future version. Please adapt your code to use either `displot` (a figure-level function with similar flexibility) or `histplot` (an axes-level function for histograms).\n",
            "\n"
          ]
        },
        {
          "output_type": "execute_result",
          "data": {
            "text/plain": [
              "<matplotlib.axes._subplots.AxesSubplot at 0x7fab04cc1cd0>"
            ]
          },
          "metadata": {},
          "execution_count": 24
        },
        {
          "output_type": "display_data",
          "data": {
            "text/plain": [
              "<Figure size 432x288 with 1 Axes>"
            ],
            "image/png": "[encoded data removed]"
          },
          "metadata": {
            "needs_background": "light"
          }
        }
      ]
    },
    {
      "cell_type": "markdown",
      "source": [
        "## **Below is an interactive map that has age of the person involved**\n",
        "\n",
        "---\n",
        "\n"
      ],
      "metadata": {
        "id": "XaGIYZqgQOJW"
      }
    },
    {
      "cell_type": "code",
      "source": [
        "df1['age'] = df1['age'].fillna(df1['age'].mean())"
      ],
      "metadata": {
        "id": "4Rmo4AJLPjff"
      },
      "execution_count": 25,
      "outputs": []
    },
    {
      "cell_type": "code",
      "source": [
        "conditions = [\n",
        "    (df1['age'] <= 18),\n",
        "    (df1['age'] > 18) & (df1['age'] <= 40),\n",
        "    (df1['age'] > 40) & (df1['age'] <= 60),\n",
        "    (df1['age'] > 60)\n",
        "    ]\n",
        "\n",
        "# create a list of the values we want to assign for each condition\n",
        "values = ['Age less than 18', 'Age between 18 and 40', 'Age between 40 and 60', 'Age greater than 60']\n",
        "\n",
        "# create a new column and use np.select to assign values to it using our lists as arguments\n",
        "df1['Age_of_the_Person'] = np.select(conditions, values)\n",
        "\n",
        "# display updated DataFrame\n",
        "df1.head()"
      ],
      "metadata": {
        "colab": {
          "base_uri": "https://localhost:8080/",
          "height": 206
        },
        "id": "opWMNJdILrrh",
        "outputId": "3aa935fd-b1b2-4488-e0a2-b7edea4bec34"
      },
      "execution_count": 26,
      "outputs": [
        {
          "output_type": "execute_result",
          "data": {
            "text/plain": [
              "   id                name        date   manner_of_death       armed   age  \\\n",
              "0   1          Tim Elliot  2015-01-02              shot         gun  53.0   \n",
              "1   2    Lewis Lee Lembke  2015-01-02              shot         gun  47.0   \n",
              "2   3  John Paul Quintero  2015-01-03  shot and Tasered     unarmed  23.0   \n",
              "3   4     Matthew Hoffman  2015-01-04              shot  toy weapon  32.0   \n",
              "4   5   Michael Rodriguez  2015-01-04              shot    nail gun  39.0   \n",
              "\n",
              "  gender race           city state  signs_of_mental_illness threat_level  \\\n",
              "0      M    A        Shelton    WA                     True       attack   \n",
              "1      M    W          Aloha    OR                    False       attack   \n",
              "2      M    H        Wichita    KS                    False        other   \n",
              "3      M    W  San Francisco    CA                     True       attack   \n",
              "4      M    H          Evans    CO                    False       attack   \n",
              "\n",
              "          flee  body_camera  longitude  latitude  is_geocoding_exact  \\\n",
              "0  Not fleeing        False   -123.122    47.247                True   \n",
              "1  Not fleeing        False   -122.892    45.487                True   \n",
              "2  Not fleeing        False    -97.281    37.695                True   \n",
              "3  Not fleeing        False   -122.422    37.763                True   \n",
              "4  Not fleeing        False   -104.692    40.384                True   \n",
              "\n",
              "       Age_of_the_Person  \n",
              "0  Age between 40 and 60  \n",
              "1  Age between 40 and 60  \n",
              "2  Age between 18 and 40  \n",
              "3  Age between 18 and 40  \n",
              "4  Age between 18 and 40  "
            ],
            "text/html": [
              "\n",
              "  <div id=\"df-da0623c1-795a-4108-9243-9bcbbab13dc1\">\n",
              "    <div class=\"colab-df-container\">\n",
              "      <div>\n",
              "<style scoped>\n",
              "    .dataframe tbody tr th:only-of-type {\n",
              "        vertical-align: middle;\n",
              "    }\n",
              "\n",
              "    .dataframe tbody tr th {\n",
              "        vertical-align: top;\n",
              "    }\n",
              "\n",
              "    .dataframe thead th {\n",
              "        text-align: right;\n",
              "    }\n",
              "</style>\n",
              "<table border=\"1\" class=\"dataframe\">\n",
              "  <thead>\n",
              "    <tr style=\"text-align: right;\">\n",
              "      <th></th>\n",
              "      <th>id</th>\n",
              "      <th>name</th>\n",
              "      <th>date</th>\n",
              "      <th>manner_of_death</th>\n",
              "      <th>armed</th>\n",
              "      <th>age</th>\n",
              "      <th>gender</th>\n",
              "      <th>race</th>\n",
              "      <th>city</th>\n",
              "      <th>state</th>\n",
              "      <th>signs_of_mental_illness</th>\n",
              "      <th>threat_level</th>\n",
              "      <th>flee</th>\n",
              "      <th>body_camera</th>\n",
              "      <th>longitude</th>\n",
              "      <th>latitude</th>\n",
              "      <th>is_geocoding_exact</th>\n",
              "      <th>Age_of_the_Person</th>\n",
              "    </tr>\n",
              "  </thead>\n",
              "  <tbody>\n",
              "    <tr>\n",
              "      <th>0</th>\n",
              "      <td>1</td>\n",
              "      <td>Tim Elliot</td>\n",
              "      <td>2015-01-02</td>\n",
              "      <td>shot</td>\n",
              "      <td>gun</td>\n",
              "      <td>53.0</td>\n",
              "      <td>M</td>\n",
              "      <td>A</td>\n",
              "      <td>Shelton</td>\n",
              "      <td>WA</td>\n",
              "      <td>True</td>\n",
              "      <td>attack</td>\n",
              "      <td>Not fleeing</td>\n",
              "      <td>False</td>\n",
              "      <td>-123.122</td>\n",
              "      <td>47.247</td>\n",
              "      <td>True</td>\n",
              "      <td>Age between 40 and 60</td>\n",
              "    </tr>\n",
              "    <tr>\n",
              "      <th>1</th>\n",
              "      <td>2</td>\n",
              "      <td>Lewis Lee Lembke</td>\n",
              "      <td>2015-01-02</td>\n",
              "      <td>shot</td>\n",
              "      <td>gun</td>\n",
              "      <td>47.0</td>\n",
              "      <td>M</td>\n",
              "      <td>W</td>\n",
              "      <td>Aloha</td>\n",
              "      <td>OR</td>\n",
              "      <td>False</td>\n",
              "      <td>attack</td>\n",
              "      <td>Not fleeing</td>\n",
              "      <td>False</td>\n",
              "      <td>-122.892</td>\n",
              "      <td>45.487</td>\n",
              "      <td>True</td>\n",
              "      <td>Age between 40 and 60</td>\n",
              "    </tr>\n",
              "    <tr>\n",
              "      <th>2</th>\n",
              "      <td>3</td>\n",
              "      <td>John Paul Quintero</td>\n",
              "      <td>2015-01-03</td>\n",
              "      <td>shot and Tasered</td>\n",
              "      <td>unarmed</td>\n",
              "      <td>23.0</td>\n",
              "      <td>M</td>\n",
              "      <td>H</td>\n",
              "      <td>Wichita</td>\n",
              "      <td>KS</td>\n",
              "      <td>False</td>\n",
              "      <td>other</td>\n",
              "      <td>Not fleeing</td>\n",
              "      <td>False</td>\n",
              "      <td>-97.281</td>\n",
              "      <td>37.695</td>\n",
              "      <td>True</td>\n",
              "      <td>Age between 18 and 40</td>\n",
              "    </tr>\n",
              "    <tr>\n",
              "      <th>3</th>\n",
              "      <td>4</td>\n",
              "      <td>Matthew Hoffman</td>\n",
              "      <td>2015-01-04</td>\n",
              "      <td>shot</td>\n",
              "      <td>toy weapon</td>\n",
              "      <td>32.0</td>\n",
              "      <td>M</td>\n",
              "      <td>W</td>\n",
              "      <td>San Francisco</td>\n",
              "      <td>CA</td>\n",
              "      <td>True</td>\n",
              "      <td>attack</td>\n",
              "      <td>Not fleeing</td>\n",
              "      <td>False</td>\n",
              "      <td>-122.422</td>\n",
              "      <td>37.763</td>\n",
              "      <td>True</td>\n",
              "      <td>Age between 18 and 40</td>\n",
              "    </tr>\n",
              "    <tr>\n",
              "      <th>4</th>\n",
              "      <td>5</td>\n",
              "      <td>Michael Rodriguez</td>\n",
              "      <td>2015-01-04</td>\n",
              "      <td>shot</td>\n",
              "      <td>nail gun</td>\n",
              "      <td>39.0</td>\n",
              "      <td>M</td>\n",
              "      <td>H</td>\n",
              "      <td>Evans</td>\n",
              "      <td>CO</td>\n",
              "      <td>False</td>\n",
              "      <td>attack</td>\n",
              "      <td>Not fleeing</td>\n",
              "      <td>False</td>\n",
              "      <td>-104.692</td>\n",
              "      <td>40.384</td>\n",
              "      <td>True</td>\n",
              "      <td>Age between 18 and 40</td>\n",
              "    </tr>\n",
              "  </tbody>\n",
              "</table>\n",
              "</div>\n",
              "      <button class=\"colab-df-convert\" onclick=\"convertToInteractive('df-da0623c1-795a-4108-9243-9bcbbab13dc1')\"\n",
              "              title=\"Convert this dataframe to an interactive table.\"\n",
              "              style=\"display:none;\">\n",
              "        \n",
              "  <svg xmlns=\"http://www.w3.org/2000/svg\" height=\"24px\"viewBox=\"0 0 24 24\"\n",
              "       width=\"24px\">\n",
              "    <path d=\"M0 0h24v24H0V0z\" fill=\"none\"/>\n",
              "    <path d=\"M18.56 5.44l.94 2.06.94-2.06 2.06-.94-2.06-.94-.94-2.06-.94 2.06-2.06.94zm-11 1L8.5 8.5l.94-2.06 2.06-.94-2.06-.94L8.5 2.5l-.94 2.06-2.06.94zm10 10l.94 2.06.94-2.06 2.06-.94-2.06-.94-.94-2.06-.94 2.06-2.06.94z\"/><path d=\"M17.41 7.96l-1.37-1.37c-.4-.4-.92-.59-1.43-.59-.52 0-1.04.2-1.43.59L10.3 9.45l-7.72 7.72c-.78.78-.78 2.05 0 2.83L4 21.41c.39.39.9.59 1.41.59.51 0 1.02-.2 1.41-.59l7.78-7.78 2.81-2.81c.8-.78.8-2.07 0-2.86zM5.41 20L4 18.59l7.72-7.72 1.47 1.35L5.41 20z\"/>\n",
              "  </svg>\n",
              "      </button>\n",
              "      \n",
              "  <style>\n",
              "    .colab-df-container {\n",
              "      display:flex;\n",
              "      flex-wrap:wrap;\n",
              "      gap: 12px;\n",
              "    }\n",
              "\n",
              "    .colab-df-convert {\n",
              "      background-color: #E8F0FE;\n",
              "      border: none;\n",
              "      border-radius: 50%;\n",
              "      cursor: pointer;\n",
              "      display: none;\n",
              "      fill: #1967D2;\n",
              "      height: 32px;\n",
              "      padding: 0 0 0 0;\n",
              "      width: 32px;\n",
              "    }\n",
              "\n",
              "    .colab-df-convert:hover {\n",
              "      background-color: #E2EBFA;\n",
              "      box-shadow: 0px 1px 2px rgba(60, 64, 67, 0.3), 0px 1px 3px 1px rgba(60, 64, 67, 0.15);\n",
              "      fill: #174EA6;\n",
              "    }\n",
              "\n",
              "    [theme=dark] .colab-df-convert {\n",
              "      background-color: #3B4455;\n",
              "      fill: #D2E3FC;\n",
              "    }\n",
              "\n",
              "    [theme=dark] .colab-df-convert:hover {\n",
              "      background-color: #434B5C;\n",
              "      box-shadow: 0px 1px 3px 1px rgba(0, 0, 0, 0.15);\n",
              "      filter: drop-shadow(0px 1px 2px rgba(0, 0, 0, 0.3));\n",
              "      fill: #FFFFFF;\n",
              "    }\n",
              "  </style>\n",
              "\n",
              "      <script>\n",
              "        const buttonEl =\n",
              "          document.querySelector('#df-da0623c1-795a-4108-9243-9bcbbab13dc1 button.colab-df-convert');\n",
              "        buttonEl.style.display =\n",
              "          google.colab.kernel.accessAllowed ? 'block' : 'none';\n",
              "\n",
              "        async function convertToInteractive(key) {\n",
              "          const element = document.querySelector('#df-da0623c1-795a-4108-9243-9bcbbab13dc1');\n",
              "          const dataTable =\n",
              "            await google.colab.kernel.invokeFunction('convertToInteractive',\n",
              "                                                     [key], {});\n",
              "          if (!dataTable) return;\n",
              "\n",
              "          const docLinkHtml = 'Like what you see? Visit the ' +\n",
              "            '<a target=\"_blank\" href=https://colab.research.google.com/notebooks/data_table.ipynb>data table notebook</a>'\n",
              "            + ' to learn more about interactive tables.';\n",
              "          element.innerHTML = '';\n",
              "          dataTable['output_type'] = 'display_data';\n",
              "          await google.colab.output.renderOutput(dataTable, element);\n",
              "          const docLink = document.createElement('div');\n",
              "          docLink.innerHTML = docLinkHtml;\n",
              "          element.appendChild(docLink);\n",
              "        }\n",
              "      </script>\n",
              "    </div>\n",
              "  </div>\n",
              "  "
            ]
          },
          "metadata": {},
          "execution_count": 26
        }
      ]
    },
    {
      "cell_type": "code",
      "source": [
        "df1['Age_of_the_Person'].value_counts()"
      ],
      "metadata": {
        "colab": {
          "base_uri": "https://localhost:8080/"
        },
        "id": "7Y97DcHlOnLn",
        "outputId": "f6de5003-63ab-4cae-d3d3-7ca641b65752"
      },
      "execution_count": 27,
      "outputs": [
        {
          "output_type": "execute_result",
          "data": {
            "text/plain": [
              "Age between 18 and 40    4943\n",
              "Age between 40 and 60    2090\n",
              "Age greater than 60       399\n",
              "Age less than 18          250\n",
              "Name: Age_of_the_Person, dtype: int64"
            ]
          },
          "metadata": {},
          "execution_count": 27
        }
      ]
    },
    {
      "cell_type": "code",
      "source": [
        "import plotly.express as px\n",
        "import pandas as pd\n",
        "fig = px.scatter_geo(df1,lat=\"latitude\",lon='longitude',color='Age_of_the_Person')\n",
        "fig.update_layout(title='Killings on Map',title_x=1)\n",
        "fig.show()"
      ],
      "metadata": {
        "colab": {
          "base_uri": "https://localhost:8080/",
          "height": 542
        },
        "id": "ZDPtI5cBGHYE",
        "outputId": "a0ad8589-d513-4963-a461-b3bae0d6355c"
      },
      "execution_count": 28,
      "outputs": [
        {
          "output_type": "display_data",
          "data": {
            "text/html": [
              "<html>\n",
              "<head><meta charset=\"utf-8\" /></head>\n",
              "<body>\n",
              "    <div>            <script src=\"https://cdnjs.cloudflare.com/ajax/libs/mathjax/2.7.5/MathJax.js?config=TeX-AMS-MML_SVG\"></script><script type=\"text/javascript\">if (window.MathJax) {MathJax.Hub.Config({SVG: {font: \"STIX-Web\"}});}</script>                <script type=\"text/javascript\">window.PlotlyConfig = {MathJaxConfig: 'local'};</script>\n",
              "        <script src=\"https://cdn.plot.ly/plotly-2.8.3.min.js\"></script>                <div id=\"dca6fd9c-0ee7-4102-82b9-8784acb3303c\" class=\"plotly-graph-div\" style=\"height:525px; width:100%;\"></div>            <script type=\"text/javascript\">                                    window.PLOTLYENV=window.PLOTLYENV || {};                                    if (document.getElementById(\"dca6fd9c-0ee7-4102-82b9-8784acb3303c\")) {                    Plotly.newPlot(                        \"dca6fd9c-0ee7-4102-82b9-8784acb3303c\",                        [{\"geo\":\"geo\",\"hovertemplate\":\"Age_of_the_Person=Age between 40 and 60<br>latitude=%{lat}<br>longitude=%{lon}<extra></extra>\",\"lat\":[47.247,45.487,40.413,39.999,40.772,41.083,28.912,32.407,37.588,42.257,33.509,42.908,33.578,43.826,39.749,33.47,36.121,45.79,39.38,34.417,40.273,31.523,31.397,33.953,41.152,28.482,33.787,32.655,35.025,39.573,32.864,27.554,32.359,35.229,29.369,33.448,39.793,27.99,30.455,34.631,40.632,36.241,28.104,30.425,30.789,34.043,42.968,29.743,33.819,35.269,40.246,30.862,33.417,38.306,38.947,40.331,35.204,42.33,33.582,35.376,43.19,39.534,40.03,37.302,38.818,39.469,42.313,33.05,35.974,44.091,36.184,32.899,33.655,35.127,29.489,30.845,35.954,34.904,29.806,38.948,34.051,35.5,33.48,30.171,41.122,34.073,31.401,34.133,38.375,44.914,28.567,33.696,40.739,36.611,36.054,32.754,39.28,35.052,37.38,37.058,43.266,29.86,47.229,21.31,29.85,42.25,38.552,41.603,38.873,40.965,32.858,38.658,40.657,33.344,34.794,42.36,31.734,40.953,35.787,34.97,39.623,27.059,36.905,32.009,45.903,39.722,30.031,25.787,41.098,32.732,40.576,42.351,40.427,30.03,36.229,32.736,39.411,44.743,43.208,35.194,42.053,32.99,37.859,34.671,35.414,33.833,44.153,37.339,32.758,35.307,45.469,37.839,36.144,30.247,33.999,44.103,34.884,33.553,39.122,37.556,34.313,42.72,38.975,34.143,29.956,30.849,29.505,34.077,29.542,35.886,41.738,38.906,33.972,38.402,37.827,33.299,42.972,38.99,47.19,35.193,47.706,34.157,31.58,32.774,41.79,42.064,30.051,35.512,33.207,47.286,36.168,35.896,28.061,33.466,35.517,32.792,32.771,29.669,29.554,40.407,32.827,34.72,38.547,25.769,32.706,36.789,34.079,33.955,39.958,35.965,25.727,43.886,36.077,30.284,31.623,39.522,40.481,40.742,36.718,25.584,34.416,30.507,34.961,32.562,44.072,45.493,34.187,32.817,40.573,26.668,42.564,30.174,31.867,39.413,36.613,31.434,36.129,34.033,33.935,42.857,37.284,42.583,60.287,39.408,34.039,29.675,32.61,44.891,29.733,32.797,39.634,45.53,36.038,34.981,37.255,33.57,37.384,35.957,31.432,39.611,32.638,42.09,34.095,34.063,39.501,39.947,27.726,45.041,34.116,36.532,32.642,39.758,33.466,44.187,25.788,41.541,41.322,36.308,34.917,36.674,34.108,32.728,35.852,36.244,36.229,39.304,35.38,36.407,33.755,44.483,30.694,33.68,41.893,29.849,37.09,36.75,32.235,40.613,39.929,34.133,39.718,34.29,39.118,61.192,36.856,47.197,45.446,39.191,38.593,33.836,32.852,43.586,34.659,32.486,39.121,26.418,35.296,35.532,38.918,41.729,31.757,36.031,45.993,38.193,45.006,32.282,34.682,32.723,27.457,32.166,41.182,37.118,47.12,34.812,47.691,35.372,30.436,39.446,32.367,33.837,44.081,40.327,32.864,46.809,33.941,43.238,37.324,39.055,45.783,32.422,31.888,37.815,40.145,36.108,34.146,32.73,27.889,37.882,43.503,40.071,39.789,42.272,38.275,33.711,28.054,34.783,46.533,38.976,33.282,39.309,29.736,44.962,42.133,39.797,38.877,37.762,41.212,42.897,30.718,38.377,34.604,42.473,35.246,25.493,35.017,42.403,42.589,35.285,29.649,43.553,47.656,32.299,44.979,33.031,34.902,36.343,39.988,27.665,33.466,28.9,40.762,38.199,38.646,35.466,41.586,30.708,39.727,33.607,35.128,34.998,37.604,36.848,37.432,39.062,29.955,46.567,45.639,43.647,38.999,35.17,36.177,41.64,42.85,34.962,36.041,29.693,35.338,27.86,42.148,43.071,42.757,43.331,36.557,33.512,38.605,38.62,42.239,null,41.428,39.57,40.718,36.175,36.1,41.858,null,43.064,45.171,39.551,33.697,36.516,33.862,28.034,34.491,42.422,38.91,43.483,38.198,38.697,33.836,34.734,47.466,30.262,35.914,39.718,35.035,33.43,null,31.969,34.097,34.99,33.625,28.507,35.488,36.137,39.717,34.129,31.049,41.69,39.076,31.569,26.245,37.964,33.929,34.659,35.364,30.067,32.729,null,36.211,39.916,38.665,43.644,29.725,44.79,35.213,42.46,39.352,46.004,32.812,34.859,34.582,37.665,43.045,34.62,null,36.17,42.416,25.939,36.1,36.16,43.786,34.741,41.326,34.241,29.574,33.791,27.818,38.451,48.057,33.462,36.969,34.128,31.462,28.077,38.468,33.527,40.571,32.882,35.026,33.909,27.818,35.637,43.948,30.395,38.886,35.743,42.456,29.534,38.093,28.948,45.522,28.861,35.109,40.882,33.979,35.319,47.966,35.843,26.211,41.257,28.066,28.006,34.018,41.849,39.212,26.709,39.233,37.222,32.635,34.069,38.341,35.24,36.751,39.196,39.051,34.236,43.659,33.682,29.176,30.445,34.154,36.503,34.03,38.18,35.64,33.384,35.778,44.107,40.459,32.38,39.756,34.99,44.218,39.353,44.789,33.422,41.429,34.723,36.773,37.693,30.13,null,32.864,28.971,37.541,39.86,39.804,34.027,37.674,35.508,41.952,34.767,39.947,37.32,29.366,36.132,45.505,30.245,36.573,38.902,26.94,37.739,29.586,34.731,33.987,32.427,39.957,30.225,28.882,35.212,43.639,38.543,29.057,37.472,44.913,47.393,34.318,40.45,34.748,26.461,35.429,33.503,42.35,34.872,37.964,40.309,34.663,35.276,null,41.999,33.626,41.56,45.041,29.429,39.13,32.74,40.611,30.356,44.105,null,32.872,42.358,32.8,29.804,38.566,32.956,26.926,39.942,38.945,35.189,37.041,36.298,35.153,38.822,40.809,37.663,40.606,37.647,null,30.626,27.545,33.479,37.806,25.809,44.72,45.676,35.615,40.399,35.421,41.82,41.515,32.431,36.789,36.584,35.237,34.141,44.129,38.377,36.155,32.955,33.756,36.194,39.799,34.19,47.601,39.966,32.542,46.266,37.55,38.009,38.23,35.449,44.791,35.236,41.122,36.783,39.302,35.222,35.124,32.091,28.195,null,32.304,38.522,36.869,26.22,42.289,44.844,34.946,34.102,43.435,35.109,36.492,37.988,40.762,32.726,41.749,40.779,34.062,43.8,35.857,40.747,46.212,38.836,37.698,40.818,36.23,35.665,40.36,34.171,39.646,30.342,33.716,37.974,32.862,26.431,43.029,46.151,41.69,32.422,34.05,38.528,35.222,36.929,47.206,35.187,null,null,36.637,32.801,28.517,35.994,48.476,37.84,28.44,33.273,39.209,60.126,42.876,39.776,40.089,25.794,34.287,34.155,46.827,32.35,37.126,36.781,38.024,33.823,27.802,29.849,38.799,39.548,42.136,27.024,34.515,39.58,39.929,38.632,29.12,31.808,35.771,35.47,42.264,37.391,34.897,29.687,33.463,35.199,36.007,30.421,38.029,61.218,42.102,32.503,30.735,42.718,32.702,36.286,47.708,37.719,33.391,26.152,41.161,33.861,47.517,32.241,37.796,47.584,38.559,42.459,35.162,61.203,40.265,26.112,45.429,33.453,null,35.49,37.154,26.473,36.587,34.87,33.975,32.734,33.808,38.005,45.381,35.398,44.124,42.931,38.039,33.933,27.839,28.31,39.405,43.488,29.828,36.0,41.787,38.89,null,29.565,37.118,40.847,null,35.319,42.559,30.384,29.906,39.628,28.045,44.373,39.676,null,30.719,33.411,36.309,28.352,36.154,47.672,33.196,37.955,28.54,null,33.567,33.577,30.4,28.039,38.276,33.767,30.272,34.119,34.472,31.93,42.254,40.79,36.571,33.22,37.68,36.158,36.331,40.35,36.122,31.351,59.809,35.477,33.458,37.755,29.702,36.118,37.353,31.114,27.976,35.554,null,34.717,33.655,39.293,41.672,45.519,38.15,45.784,31.826,40.163,39.38,33.378,40.711,37.206,42.245,38.923,28.616,42.057,29.426,38.854,38.269,39.447,39.903,28.68,34.048,35.164,40.056,29.485,44.112,35.887,46.108,33.451,29.254,34.214,44.262,32.721,35.198,40.427,36.201,44.596,null,37.999,34.751,39.932,34.406,44.155,39.916,40.1,34.121,null,28.099,42.946,30.349,32.564,37.74,33.874,35.908,21.391,41.872,29.571,40.665,33.036,40.295,46.263,41.031,31.076,39.005,39.013,33.452,35.075,33.568,40.702,35.167,44.092,43.358,43.623,28.287,45.51,42.69,38.855,41.985,null,28.853,38.986,30.443,null,25.882,30.461,39.552,35.94,33.946,41.595,33.828,45.985,47.646,null,33.69,21.389,32.085,40.576,32.141,37.918,39.914,null,44.952,34.421,40.025,33.517,32.694,41.272,39.927,30.591,41.033,43.021,30.204,47.694,34.693,35.445,35.066,28.948,34.114,36.212,48.242,32.178,38.216,42.362,34.855,40.734,37.009,36.863,21.278,null,34.048,41.867,29.648,35.633,43.585,37.98,42.518,null,21.305,39.101,32.885,34.265,39.947,47.238,47.111,42.351,36.05,33.174,34.882,34.207,35.958,null,42.206,null,39.65,null,46.857,43.598,null,43.951,null,null,37.361,47.521,null,33.48,null,39.99,38.009,33.456,40.508,36.252,27.447,40.739,36.152,36.479,40.097,42.946,30.177,35.203,40.787,33.437,40.752,39.11,34.321,34.12,30.198,null,33.611,39.758,30.756,42.273,41.386,42.497,45.417,null,null,36.137,37.867,38.814,39.247,47.177,39.128,39.69,null,40.087,36.264,45.125,47.691,41.536,36.112,32.861,29.709,29.709,40.732,37.632,39.464,40.308,21.332,33.541,31.909,39.713,35.207,37.32,26.337,36.008,36.975,40.977,36.832,42.983,41.276,37.299,35.716,34.049,41.753,38.274,36.576,43.009,33.028,41.046,21.328,43.734,44.625,35.767,35.814,36.185,42.335,null,36.323,39.686,34.405,null,40.325,40.233,36.113,39.012,34.563,28.079,35.225,39.349,29.817,42.959,35.042,33.495,29.424,40.595,38.879,32.551,26.543,35.024,27.845,29.945,37.945,34.049,40.176,46.981,39.708,40.854,34.734,32.864,null,35.735,null,39.559,30.352,45.493,37.433,35.912,25.741,null,31.0,34.084,35.313,29.745,39.714,36.134,26.223,33.462,36.2,null,25.962,37.174,35.911,35.039,41.506,37.62,28.072,26.135,31.896,37.661,41.548,39.579,35.064,41.013,42.3,38.925,28.106,35.864,34.121,37.314,36.57,null,37.725,33.864,43.428,41.676,64.838,39.49,44.216,38.625,30.153,33.492,36.072,34.168,34.104,44.915,38.606,34.021,34.023,37.131,39.318,38.672,33.08,28.8,40.76,39.313,40.757,33.983,33.568,37.633,38.272,39.971,33.523,41.758,40.334,32.266,39.141,35.029,30.269,37.497,28.034,35.356,39.833,35.142,36.25,null,39.53,40.537,37.48,32.848,35.122,null,32.756,33.931,36.104,39.124,35.482,33.81,41.809,35.079,32.704,32.758,30.495,33.452,32.147,36.076,43.61,39.358,40.961,43.656,41.745,34.129,46.123,46.97,33.611,30.362,38.849,37.643,44.94,30.434,40.442,39.708,43.043,38.415,38.971,38.271,38.303,38.728,38.303,35.904,40.741,34.712,36.755,32.211,27.054,33.964,41.766,null,33.808,31.778,33.875,35.6,32.518,33.936,36.177,36.062,null,39.849,28.554,null,47.152,41.521,38.689,30.452,47.886,40.414,37.664,30.502,40.621,42.09,34.592,33.385,34.18,47.519,39.705,36.166,37.664,38.78,28.129,37.942,39.637,25.979,25.979,34.068,45.519,30.802,40.625,34.442,40.707,40.707,43.42,47.452,33.824,32.269,45.012,47.497,39.752,40.049,42.437,37.972,31.321,35.491,37.044,29.181,41.192,37.08,29.718,37.657,41.292,38.42,33.582,34.882,35.464,null,null,40.013,null,25.78,37.146,39.785,29.288,28.981,28.359,36.344,33.935,27.42,41.545,34.857,47.038,38.815,38.213,39.191,35.861,30.383,26.615,44.088,40.696,40.484,39.548,null,null,46.218,43.41,32.647,36.776,null,40.763,34.941,34.0,41.718,43.055,null,36.032,25.582,32.221,51.254,46.817,29.255,33.963,39.034,33.305,null,40.263,null,29.414,null,40.359,39.048,41.37,38.582,29.426,35.05,36.03,null,29.306,null,44.943,36.917,null,null,35.075,25.888,34.803,28.307,38.364,47.118,null,45.429,26.246,43.011,null,34.508,40.921,30.223,33.179,43.839,40.974,45.641,37.783,26.177,35.802,30.363,29.853,37.458,36.071,35.779,null,34.151,44.518,32.218,39.676,34.142,39.086,null,37.693,33.02,35.112,47.614,31.024,34.198,36.741,null,48.072,36.255,28.549,39.921,41.406,42.794,34.187,41.257,30.634,30.515,45.499,null,null,35.406,31.652,null,46.376,null,32.543,30.19,38.246,35.944,34.721,37.061,40.95,45.359,null,32.756,41.523,31.727,35.866,42.683,26.719,30.393,27.916,40.783,36.39,29.845,35.565,27.069,null,34.029,36.225,25.529,41.238,34.065,27.809,28.021,null,45.4,36.075,35.159,35.074,38.281,36.329,36.001,29.096,39.78,33.319,34.824,30.003,35.037,30.79,42.25,36.926,null,42.313,29.257,43.601,38.62,47.036,null,36.831,35.918,41.661,37.092,39.732,35.062,33.892,35.033,29.445,41.588,31.883,39.722,34.509,29.448,33.415,47.644,42.322,29.913,39.251,42.505,36.729,45.64,38.258,38.212,30.698,40.622,27.186,33.606,35.092,null,41.028,33.927,34.628,31.489,35.032,37.177,null,34.978,42.899,40.875,33.509,39.187,33.509,30.412,61.309,33.734,36.872,31.864,42.433,35.72,38.951,29.463,30.176,28.249,38.494,47.419,33.846,34.785,36.055,41.587,39.159,30.4,33.549,37.31,35.522,38.011,38.266,47.657,40.664,29.602,31.363,33.568,40.711,33.493,42.143,42.989,39.456,34.345,33.094,35.58,40.804,36.724,33.866,44.252,37.682,40.026,33.553,44.408,null,33.495,39.731,38.58,44.02,35.968,45.021,34.705,31.096,34.187,39.098,33.519,29.454,36.313,30.401,38.589,33.475,34.975,30.318,47.081,29.4,34.01,33.7,35.066,39.978,38.032,32.705,36.182,35.791,28.589,39.189,40.648,41.534,47.589,36.846,43.312,43.817,47.605,25.849,39.047,38.52,48.165,46.616,null,34.843,35.486,null,29.965,39.898,31.855,33.917,32.084,26.67,30.849,32.1,47.975,25.607,32.708,33.676,32.626,null,40.087,null,null,null,38.618,null,null,null,33.787,null,33.723,39.04,39.496,37.699,39.979,42.379,34.289,43.649,29.812,45.487,null,40.109,28.009,26.207,33.106,36.29,32.887,29.551,34.029,39.284,null,36.159,38.197,null,36.279,36.585,39.312,37.838,null,39.311,39.673,40.861,40.646,null,42.996,31.066,31.423,32.216,36.344,45.433,41.863,40.646,null,null,29.696,34.243,43.307,null,null,40.757,35.294,null,46.093,35.579,33.85,34.302,35.113,39.049,41.752,33.634,null,36.559,null,35.009,37.756,null,46.672,32.533,43.52,30.839,null,34.499,35.601,34.01,41.623,36.779,41.734,33.324,null,42.392,34.119,29.59,41.814,21.331,43.064,37.793,30.498,31.785,34.958,35.205,40.229,40.6,43.567,36.069,42.104,25.862,41.999,null,33.859,39.038,39.67,44.067,39.61,35.02,38.541,31.345,46.84,31.36,43.37,29.347,36.739,39.788,34.065,36.153,32.835,33.804,36.159,33.655,40.479,36.607,null,37.697,27.774,null,35.252,35.358,null,32.668,34.351,null,35.952,36.196,42.654,35.536,null,43.725,39.614,null,null,42.882,null,30.191,37.074,35.18,40.403,null,34.11,36.653,35.24,null,null,null,null,null,null,null,null,null,null,null,null,null,null,null,null,null,null,null,null,null,null,null,null,null,null,null,32.043,32.19,null,null,42.309,null,null,null,null,null,40.793,null,null,null,null,null,null,null,null,null,null,null,33.701,null,null,null,null,34.521,null,35.271,null,null,null,null,null,null,null,null,null,null,null,null,null,48.522,null,null,null,null,null,null,null,null,38.662,32.721,45.146,35.001,33.827,37.514,43.168,29.546,35.575,41.283,37.985,34.982,37.794,34.214,36.196,35.372,34.271,28.988,38.053,33.073,26.092,36.149,39.611,34.413,32.796,25.89,39.105,38.716,45.028,35.182,42.907,29.898,40.548,36.054,39.867,37.371,30.226,47.779,38.947,39.56,42.517,41.994,45.819,32.756,36.863,35.916,31.44,30.745,34.047,34.864,42.313,37.764,37.764,39.191,33.601,36.451,29.407,null,36.694,40.721,43.007,31.925,30.234,33.662,30.234,40.261,38.79,42.273,33.597,32.802,37.047,28.442,37.296,28.918,34.108,41.526,35.178,28.081,35.836,29.889,34.689,41.574,33.84,30.321,32.628,29.567,35.129,35.073,35.085,64.826,36.892,40.743,42.25,null,41.002,35.671,null,null,null,28.012,null,null,null,null,null,null,null,31.275,33.379,35.181,33.306,null,null,null,34.542,null,null,null,null,null,null,34.614,41.474,null,null,null,40.44,40.44,30.406,40.379,32.723],\"legendgroup\":\"Age between 40 and 60\",\"lon\":[-123.122,-122.892,-79.991,-82.885,-111.872,-112.083,-98.542,-96.069,-122.06,-70.932,-111.909,-71.337,-102.369,-111.78,-74.929,-97.828,-97.05,-108.513,-76.821,-117.177,-76.713,-82.845,-97.208,-117.65,-74.001,-81.329,-97.712,-96.751,-90.054,-107.454,-85.724,-99.474,-111.09,-81.169,-100.831,-105.665,-85.992,-80.645,-90.956,-83.598,-75.433,-115.055,-81.95,-89.092,-88.604,-118.245,-87.904,-81.959,-117.94,-82.626,-109.01,-87.891,-86.849,-122.274,-94.487,-80.596,-81.242,-122.899,-112.203,-119.015,-78.047,-87.073,-82.999,-121.841,-94.91,-78.841,-71.089,-117.242,-114.84,-123.181,-95.94,-80.014,-112.144,-118.414,-98.427,-83.333,-96.277,-81.912,-95.173,-92.326,-117.721,-119.281,-112.039,-85.702,-102.983,-81.2,-109.917,-95.157,-122.792,-122.997,-81.812,-117.956,-82.516,-77.502,-86.779,-117.206,-75.603,-106.687,-83.245,-80.746,-76.008,-90.072,-122.489,-157.862,-81.278,-89.069,-121.434,-87.634,-77.105,-81.429,-80.078,-93.515,-73.889,-83.206,-80.797,-123.446,-95.616,-74.741,-119.223,-120.439,-79.907,-82.25,-121.751,-102.139,-122.75,-86.086,-95.617,-80.2,-85.156,-103.135,-73.968,-71.101,-104.704,-95.442,-80.887,-97.795,-76.806,-74.285,-74.069,-83.388,-71.014,-117.164,-80.854,-118.187,-97.444,-118.071,-71.976,-120.579,-96.827,-119.013,-122.784,-112.84,-115.217,-97.91,-118.472,-85.25,-114.64,-112.152,-84.513,-122.027,-84.799,-105.39,-121.018,-118.398,-90.017,-84.735,-82.28,-81.229,-90.628,-90.181,-111.83,-119.728,-118.055,-81.841,-122.269,-117.465,-88.026,-84.594,-114.881,-81.24,-117.4,-97.128,-97.173,-103.131,-72.447,-70.877,-99.122,-82.875,-87.493,-122.924,-115.255,-79.928,-82.302,-112.134,-86.58,-117.1,-96.753,-98.651,-98.616,-105.028,-104.419,-112.543,-86.615,-80.236,-103.122,-119.701,-118.029,-118.114,-105.062,-84.092,-80.453,-84.426,-87.388,-89.749,-88.212,-85.791,-122.389,-111.884,-81.271,-80.374,-112.589,-91.125,-85.267,-117.066,-103.214,-122.862,-118.466,-97.202,-74.269,-80.109,-70.889,-93.229,-102.442,-87.415,-121.844,-86.955,-115.259,-83.659,-118.281,-85.63,-82.86,-88.095,-151.283,-77.389,-88.438,-83.031,-85.36,-94.376,-95.356,-117.239,-79.941,-122.698,-115.137,-80.04,-121.914,-81.734,-122.053,-88.874,-84.723,-74.357,-97.839,-86.411,-117.421,-117.436,-119.796,-83.066,-97.402,-93.252,-109.293,-93.501,-96.546,-94.578,-111.673,-88.466,-80.141,-81.498,-105.752,-95.317,-82.284,-121.791,-117.322,-97.101,-88.845,-115.057,-115.09,-76.372,-81.202,-105.573,-84.707,-73.214,-90.972,-112.062,-87.744,-91.613,-121.022,-119.812,-100.45,-122.368,-75.31,-84.677,-75.959,-118.449,-84.585,-149.898,-76.188,-120.954,-122.826,-81.268,-90.244,-81.164,-86.652,-119.054,-93.169,-85.067,-94.425,-81.419,-118.914,-95.953,-94.511,-81.179,-106.49,-80.904,-123.926,-85.859,-93.156,-96.182,-118.08,-97.446,-82.499,-103.426,-73.267,-93.469,-122.559,-88.19,-122.306,-119.008,-91.175,-105.475,-86.3,-86.254,-103.231,-78.922,-97.513,-100.743,-118.176,-77.623,-121.878,-95.682,-108.501,-104.277,-102.374,-96.62,-88.956,-79.809,-118.247,-97.388,-82.499,-121.66,-112.155,-77.968,-104.984,-71.033,-104.564,-78.882,-82.426,-82.414,-93.71,-122.655,-83.963,-76.61,-90.62,-93.244,-72.627,-86.117,-82.67,-122.416,-95.96,-85.607,-98.639,-97.574,-98.603,-88.144,-80.936,-80.484,-92.795,-71.042,-74.183,-82.418,-97.823,-116.316,-117.412,-90.185,-89.62,-111.387,-82.336,-119.264,-75.25,-81.516,-112.139,-81.134,-73.987,-91.181,-94.362,-97.53,-87.559,-84.941,-86.16,-86.019,-106.601,-78.323,-84.201,-76.282,-78.657,-94.548,-93.986,-120.599,-122.661,-116.289,-93.954,-101.863,-95.933,-84.689,-106.305,-90.096,-94.235,-95.9,-97.493,-82.71,-84.326,-89.356,-105.381,-88.154,-82.211,-117.141,-121.461,-90.141,-83.347,null,-74.428,-74.36,-73.938,-95.95,-96.019,-87.62,null,-87.917,-89.592,-119.745,-116.269,-77.512,-81.2,-80.589,-118.618,-83.277,-77.57,-88.82,-85.841,-121.302,-81.164,-82.529,-122.261,-91.317,-94.964,-105.053,-88.258,-111.547,null,-99.902,-118.306,-85.233,-97.318,-81.149,-86.437,-115.092,-104.995,-117.306,-97.614,-83.741,-108.526,-84.162,-80.127,-91.832,-116.949,-86.54,-81.961,-95.378,-95.258,null,-86.765,-104.997,-121.23,-116.264,-95.442,-93.213,-114.04,-70.934,-74.488,-84.426,-83.644,-87.492,-92.57,-120.968,-76.132,-79.057,null,-115.14,-123.384,-80.294,-95.787,-95.928,-91.835,-92.265,-81.767,-118.569,-90.756,-83.963,-82.725,-81.353,-124.348,-81.828,-86.481,-117.913,-100.443,-81.902,-108.143,-117.163,-122.353,-111.759,-97.958,-117.977,-82.692,-88.834,-70.57,-91.086,-94.838,-81.307,-70.955,-95.206,-97.909,-81.306,-122.511,-81.906,-114.593,-97.592,-117.976,-89.749,-122.214,-81.404,-98.196,-86.621,-82.77,-81.568,-118.064,-87.806,-76.029,-80.252,-84.515,-93.275,-95.0,-117.737,-86.468,-85.84,-94.847,-76.777,-94.357,-84.06,-92.986,-117.283,-82.141,-97.806,-117.909,-88.876,-118.261,-77.402,-101.603,-91.05,-115.328,-69.395,-79.91,-81.663,-75.564,-89.997,-90.644,-76.52,-91.508,-111.563,-72.217,-95.899,-119.768,-120.977,-81.78,null,-96.938,-81.416,-121.994,-84.28,-104.911,-118.455,-84.259,-97.66,-87.689,-114.496,-83.075,-121.013,-98.532,-79.219,-122.852,-95.493,-96.704,-76.984,-82.292,-121.115,-90.7,-82.181,-118.365,-97.003,-74.212,-85.892,-81.16,-89.728,-116.196,-90.298,-81.3,-83.663,-89.577,-122.31,-92.239,-122.29,-92.268,-80.083,-86.793,-88.435,-90.014,-97.052,-85.146,-74.492,-82.786,-119.005,null,-72.614,-117.948,-80.801,-93.037,-98.527,-121.634,-97.25,-77.566,-81.649,-103.244,null,-117.203,-83.187,-96.977,-95.739,-90.257,-116.84,-80.102,-75.219,-92.339,-114.053,-80.779,-82.301,-96.493,-77.006,-75.201,-121.85,-75.501,-122.467,null,-81.51,-99.483,-112.29,-85.451,-80.313,-68.801,-122.486,-117.681,-105.124,-94.515,-87.821,-92.079,-99.712,-83.823,-119.615,-89.365,-89.624,-103.219,-97.303,-95.851,-80.042,-111.991,-115.235,-86.179,-118.322,-117.371,-86.027,-83.582,-119.353,-108.831,-121.788,-90.23,-94.804,-69.787,-78.367,-81.569,-90.429,-94.91,-114.223,-120.619,-111.223,-82.182,null,-106.763,-78.098,-94.343,-98.339,-72.025,-91.523,-90.007,-118.333,-116.762,-106.615,-80.674,-122.324,-84.107,-117.163,-79.065,-74.035,-118.502,-91.237,-83.251,-111.888,-119.138,-104.771,-121.79,-74.191,-93.108,-81.842,-80.614,-118.527,-121.778,-81.731,-83.068,-87.569,-97.249,-81.912,-90.931,-122.965,-83.585,-84.957,-118.247,-121.47,-101.882,-93.928,-122.479,-85.193,null,null,-81.118,-92.505,-82.416,-87.094,-116.841,-122.297,-82.478,-84.285,-85.921,-149.437,-77.269,-105.175,-79.752,-80.24,-118.443,-109.975,-123.161,-111.098,-104.703,-84.809,-78.455,-118.338,-97.418,-95.302,-123.016,-119.771,-80.079,-80.486,-89.924,-104.838,-85.37,-121.45,-81.023,-106.448,-91.631,-93.485,-89.025,-79.144,-117.021,-90.994,-112.078,-106.611,-115.146,-89.782,-121.308,-149.9,-76.802,-92.157,-88.102,-86.165,-114.668,-119.79,-117.368,-122.388,-83.791,-80.197,-104.768,-118.072,-111.221,-81.237,-79.422,-122.643,-80.01,-83.199,-91.78,-149.885,-76.864,-97.949,-122.341,-104.441,null,-93.835,-93.278,-81.824,-79.365,-111.761,-118.274,-97.329,-81.171,-121.894,-122.856,-80.876,-123.13,-114.654,-87.258,-84.333,-81.656,-80.705,-75.039,-112.034,-95.293,-115.122,-89.669,-90.127,null,-98.5,-84.075,-73.887,null,-97.205,-71.106,-89.091,-81.318,-104.798,-82.439,-72.878,-104.935,null,-88.173,-111.792,-78.401,-80.612,-95.673,-122.291,-97.096,-87.501,-81.379,null,-112.152,-111.886,-89.039,-81.95,-104.594,-118.195,-97.688,-117.445,-104.246,-102.077,-84.366,-73.707,-87.27,-116.973,-87.095,-92.369,-78.935,-74.658,-96.357,-109.548,-151.617,-79.167,-112.122,-85.904,-95.208,-80.217,-120.626,-93.283,-82.443,-77.432,null,-86.666,-112.152,-80.439,-86.279,-122.66,-85.841,-108.554,-92.932,-80.197,-75.027,-112.073,-112.092,-93.089,-85.496,-121.054,-81.38,-93.884,-98.494,-104.85,-85.816,-121.551,-104.978,-81.337,-117.21,-83.409,-82.962,-95.157,-103.068,-79.532,-68.115,-111.899,-98.493,-85.187,-88.368,-114.618,-94.355,-104.745,-83.276,-90.477,null,-87.548,-95.048,-83.048,-83.192,-70.08,-91.398,-80.743,-116.37,null,-97.835,-115.466,-94.178,-117.084,-120.94,-117.898,-80.076,-158.005,-87.765,-95.286,-73.563,-85.032,-83.038,-119.488,-75.038,-97.372,-77.014,-83.092,-111.771,-106.622,-112.134,-111.879,-103.733,-121.261,-124.217,-116.404,-82.144,-122.685,-83.35,-94.524,-88.299,null,-81.686,-94.696,-81.627,null,-80.288,-95.541,-119.765,-81.529,-117.439,-83.647,-117.925,-123.925,-117.363,null,-83.654,-158.137,-81.123,-75.53,-110.913,-77.459,-105.053,null,-93.138,-117.351,-75.164,-111.767,-117.108,-95.94,-75.179,-90.929,-81.569,-87.924,-82.429,-117.218,-81.836,-119.088,-81.525,-82.536,-118.153,-80.832,-122.341,-110.968,-84.535,-83.236,-92.097,-73.896,-87.314,-75.981,-157.828,null,-118.187,-73.714,-81.67,-95.983,-116.575,-81.271,-121.919,null,-157.857,-87.427,-105.957,-83.741,-83.064,-122.41,-122.438,-83.19,-115.215,-84.027,-81.87,-90.572,-95.378,null,-71.842,null,-121.56,null,-114.004,-116.394,null,-84.889,null,null,-87.219,-92.535,null,-112.134,null,-75.097,-122.098,-84.17,-122.312,-116.008,-80.336,-114.067,-94.062,-97.327,-108.824,-78.891,-81.601,-89.93,-72.872,-111.615,-81.839,-94.649,-79.891,-117.934,-85.623,null,-112.168,-94.845,-98.675,-89.106,-73.444,-94.168,-122.639,null,null,-95.941,-90.593,-104.834,-85.056,-122.523,-121.554,-104.861,null,-104.818,-95.978,-122.732,-117.426,-87.143,-89.432,-96.643,-95.282,-95.282,-74.189,-97.316,-121.858,-122.204,-157.864,-112.065,-102.233,-105.019,-111.606,-78.385,-98.2,-86.382,-120.078,-81.604,-76.191,-88.244,-84.35,-120.517,-78.838,-118.259,-88.331,-122.346,-82.355,-83.684,-79.759,-80.604,-157.885,-83.441,-91.047,-95.386,-90.658,-87.102,-85.146,null,-76.838,-105.067,-84.625,null,-79.536,-74.745,-115.176,-89.75,-118.058,-82.437,-77.069,-76.669,-85.303,-71.441,-97.934,-112.16,-98.494,-122.335,-86.043,-117.047,-80.055,-85.102,-82.73,-85.394,-122.331,-118.259,-122.233,-123.594,-80.17,-73.932,-92.395,-97.247,null,-78.878,null,-119.748,-97.796,-122.528,-81.585,-80.253,-80.338,null,-89.449,-118.355,-111.947,-94.98,-76.04,-115.141,-80.287,-94.415,-120.103,null,-80.241,-104.508,-80.037,-82.196,-74.222,-97.346,-80.705,-80.177,-102.293,-97.366,-88.046,-76.133,-89.664,-73.849,-83.119,-76.629,-80.575,-79.932,-118.263,-83.236,-82.184,null,-122.179,-117.444,-71.486,-86.256,-147.716,-76.557,-88.453,-78.772,-85.611,-80.856,-95.916,-116.405,-88.965,-84.693,-86.091,-117.656,-84.362,-92.263,-76.516,-78.79,-106.007,-82.072,-74.23,-76.618,-111.906,-117.715,-83.902,-121.01,-104.581,-74.675,-85.345,-72.694,-78.391,-80.965,-84.599,-85.407,-97.754,-84.19,-82.614,-80.769,-86.007,-90.049,-94.057,null,-107.783,-79.956,-86.294,-96.577,-84.871,null,-97.23,-117.298,-84.144,-94.834,-92.506,-117.99,-88.34,-106.529,-103.128,-117.073,-91.15,-112.238,-90.109,-96.155,-116.708,-119.192,-84.601,-111.825,-72.574,-117.877,-122.95,-123.824,-112.151,-90.999,-76.975,-77.62,-123.06,-84.517,-79.882,-105.086,-108.378,-82.444,-76.954,-80.998,-121.172,-90.44,-121.172,-94.979,-96.682,-118.148,-108.173,-110.872,-82.262,-83.438,-85.721,null,-118.255,-106.469,-118.171,-77.334,-93.713,-83.324,-95.94,-118.999,null,-104.994,-81.238,null,-122.438,-81.586,-93.339,-95.55,-122.232,-105.123,-113.065,-87.179,-81.146,-111.875,-84.012,-84.272,-118.665,-111.311,-76.641,-82.855,-121.027,-75.133,-81.979,-122.039,-106.523,-80.311,-80.311,-117.28,-122.558,-90.677,-91.373,-117.336,-74.084,-74.084,-74.55,-122.186,-117.78,-110.969,-93.313,-111.263,-105.142,-84.949,-76.498,-87.571,-89.378,-97.477,-93.27,-82.251,-111.979,-76.47,-95.391,-97.226,-95.947,-81.791,-117.232,-87.1,-97.601,null,null,-75.082,null,-80.131,-94.31,-105.113,-98.404,-82.01,-80.743,-81.531,-83.994,-81.51,-72.995,-111.766,-122.768,-76.962,-76.404,-81.744,-78.707,-89.054,-81.862,-70.33,-111.82,-122.57,-119.799,null,null,-119.126,-83.936,-83.721,-75.99,null,-111.88,-80.25,-80.421,-83.666,-87.914,null,-115.022,-80.486,-110.824,-85.323,-94.522,-98.349,-118.165,-94.556,-111.836,null,-74.719,null,-98.504,null,-76.329,-108.545,-74.69,-121.494,-98.583,-118.186,-80.383,null,-81.066,null,-122.99,-83.941,null,null,-106.643,-80.332,-87.662,-97.274,-75.642,-118.366,null,-122.628,-80.098,-88.243,null,-82.672,-74.161,-97.73,-97.102,-70.859,-74.287,-122.617,-82.519,-80.099,-82.345,-81.555,-98.74,-122.43,-79.402,-115.324,null,-118.113,-87.943,-81.926,-105.606,-116.213,-84.255,null,-122.101,-84.72,-89.833,-122.352,-87.494,-82.146,-83.635,null,-114.583,-82.516,-81.157,-104.977,-81.709,-77.817,-118.377,-111.953,-81.604,-85.348,-122.536,null,null,-97.725,-106.257,null,-115.938,null,-88.895,-96.94,-104.632,-84.87,-92.237,-88.653,-75.979,-121.998,null,-117.094,-76.684,-84.178,-84.686,-84.644,-81.905,-91.183,-82.714,-124.168,-79.006,-94.96,-97.55,-82.234,null,-117.686,-83.277,-80.429,-80.818,-117.576,-82.639,-82.243,null,-92.636,-95.976,-106.692,-106.615,-104.641,-95.791,-84.305,-82.054,-104.976,-85.034,-85.35,-98.102,-120.485,-81.643,-84.905,-83.89,null,-83.307,-81.049,-116.394,-121.474,-122.823,null,-76.083,-82.065,-93.498,-88.711,-104.998,-89.404,-118.203,-79.035,-98.575,-93.763,-102.5,-105.082,-84.505,-98.597,-117.601,-117.539,-83.176,-90.215,-96.612,-83.096,-119.723,-122.65,-122.271,-84.669,-81.918,-103.22,-80.3,-79.056,-106.577,null,-78.428,-118.292,-86.572,-96.917,-107.38,-87.142,null,-85.245,-87.856,-73.01,-112.035,-84.49,-112.035,-88.552,-149.558,-112.119,-87.88,-106.575,-83.033,-84.004,-85.908,-98.761,-94.214,-82.719,-121.519,-122.169,-84.077,-111.775,-87.164,-80.761,-78.188,-89.056,-101.927,-85.849,-97.525,-87.557,-85.783,-117.261,-73.767,-90.73,-92.413,-112.099,-82.556,-112.937,-123.65,-83.709,-77.964,-89.541,-94.315,-97.549,-73.963,-108.222,-84.545,-69.5,-97.227,-83.042,-112.186,-71.723,null,-112.117,-104.912,-92.249,-116.945,-85.356,-93.339,-79.158,-97.723,-118.16,-95.664,-81.814,-90.565,-119.288,-88.887,-121.42,-86.331,-92.875,-89.825,-122.298,-98.65,-118.292,-116.269,-106.692,-86.121,-77.573,-100.866,-78.572,-84.272,-81.463,-77.121,-112.034,-90.517,-122.302,-86.917,-112.327,-111.793,-122.34,-80.2,-84.575,-78.023,-114.288,-94.937,null,-85.14,-93.938,null,-92.124,-83.048,-102.317,-92.848,-93.379,-82.029,-83.336,-82.11,-99.126,-80.352,-97.085,-86.407,-83.699,null,-85.68,null,null,null,-75.55,null,null,null,-84.621,null,-84.119,-90.142,-74.931,-122.469,-83.946,-89.822,-118.438,-116.265,-95.157,-122.572,null,-104.762,-81.68,-80.222,-117.078,-76.226,-111.759,-95.801,-118.298,-84.23,null,-115.108,-120.682,null,-83.472,-87.356,-76.771,-122.296,null,-76.593,-105.025,-72.799,-75.252,null,-87.951,-83.197,-89.555,-110.815,-85.424,-122.538,-103.69,-74.135,null,null,-95.888,-82.632,-71.333,null,null,-87.045,-81.279,null,-88.642,-77.142,-83.749,-78.723,-84.983,-94.693,-103.322,-80.86,null,-82.572,null,-78.487,-89.078,null,-68.016,-93.408,-114.315,-84.118,null,-97.95,-119.345,-118.427,-87.564,-114.267,-77.539,-96.794,null,-75.086,-86.863,-97.984,-88.308,-157.866,-87.947,-81.177,-96.479,-81.609,-120.571,-101.809,-111.675,-112.426,-116.56,-79.793,-76.827,-80.195,-91.346,null,-118.015,-80.389,-104.9,-122.898,-84.224,-106.003,-121.424,-94.723,-100.885,-94.76,-93.772,-98.556,-108.133,-75.166,-84.492,-86.631,-80.05,-118.171,-115.108,-118.004,-74.614,-83.714,null,-97.284,-82.685,null,-88.986,-118.989,null,-90.008,-78.12,null,-83.893,-115.051,-112.186,-98.272,null,-70.244,-119.856,null,null,-85.642,null,-97.887,-94.51,-84.838,-76.729,null,-83.708,-78.691,-85.84,null,null,null,null,null,null,null,null,null,null,null,null,null,null,null,null,null,null,null,null,null,null,null,null,null,null,null,-81.14,-89.986,null,null,-85.175,null,null,null,null,null,-81.405,null,null,null,null,null,null,null,null,null,null,null,-116.081,null,null,null,null,-86.876,null,-106.646,null,null,null,null,null,null,null,null,null,null,null,null,null,-122.211,null,null,null,null,null,null,null,null,-90.028,-117.167,-123.972,-117.657,-117.92,-77.403,-83.017,-95.031,-89.644,-122.301,-120.305,-87.953,-79.989,-84.469,-115.026,-84.34,-83.385,-82.526,-84.462,-111.996,-97.667,-115.1,-86.103,-117.323,-117.047,-80.231,-78.959,-90.241,-93.135,-97.353,-71.325,-95.414,-74.331,-84.097,-84.138,-81.09,-81.761,-122.358,-77.024,-76.371,-82.952,-71.525,-94.409,-80.454,-101.214,-119.054,-85.644,-88.09,-118.249,-118.195,-71.066,-122.393,-122.393,-84.25,-81.604,-87.628,-98.461,null,-101.494,-74.081,-123.309,-92.636,-97.716,-97.35,-97.716,-104.757,-97.559,-88.971,-112.03,-109.708,-84.103,-82.602,-77.326,-98.546,-117.292,-81.622,-89.836,-81.908,-90.705,-81.329,-118.164,-90.6,-84.592,-97.712,-96.907,-98.05,-84.89,-98.244,-106.649,-147.714,-76.302,-84.105,-84.756,null,-75.365,-80.474,null,null,null,-82.684,null,null,null,null,null,null,null,-89.276,-79.292,-101.861,-111.876,null,null,null,-92.566,null,null,null,null,null,null,-87.183,-79.692,null,null,null,-82.395,-82.396,-88.9,-82.237,-117.108],\"marker\":{\"color\":\"#636efa\",\"symbol\":\"circle\"},\"mode\":\"markers\",\"name\":\"Age between 40 and 60\",\"showlegend\":true,\"type\":\"scattergeo\"},{\"geo\":\"geo\",\"hovertemplate\":\"Age_of_the_Person=Age between 18 and 40<br>latitude=%{lat}<br>longitude=%{lon}<extra></extra>\",\"lat\":[37.695,37.763,40.384,33.328,38.704,40.809,37.93,28.955,41.582,30.022,45.859,33.111,31.858,39.692,33.951,36.185,35.095,44.958,38.317,36.783,40.54,39.826,39.726,44.825,38.266,30.748,35.766,34.038,32.811,33.085,33.742,26.559,38.665,31.08,26.15,39.284,32.678,38.285,33.166,35.589,41.243,33.495,33.054,39.879,29.558,38.029,42.894,29.861,38.75,37.827,37.999,30.466,28.5,33.378,33.378,35.164,35.404,33.994,61.208,30.244,46.228,37.316,34.165,39.071,40.329,35.95,32.614,34.804,45.175,25.951,43.579,40.103,37.225,42.514,42.614,35.25,32.874,33.482,29.983,33.911,41.244,44.527,35.497,37.751,31.55,39.463,33.747,34.633,38.598,32.23,38.946,35.918,33.619,29.704,41.522,38.38,33.44,28.887,37.948,34.151,40.875,43.083,39.735,33.469,35.426,39.818,33.88,28.351,30.536,32.165,34.05,39.573,35.158,33.743,35.204,33.939,38.882,34.078,33.971,42.583,29.513,31.326,44.954,34.64,37.789,30.815,38.682,34.566,43.704,49.0,35.355,34.506,36.466,34.713,38.133,45.506,40.74,37.361,36.819,43.782,33.866,33.819,33.94,33.793,34.228,27.435,35.396,42.056,37.735,39.083,28.102,29.733,39.115,33.902,40.217,41.5,31.346,39.191,33.836,35.056,39.681,29.877,43.642,35.339,34.041,37.404,30.413,40.879,39.859,35.023,39.935,39.054,39.813,35.064,38.892,32.662,35.834,25.844,33.744,38.724,37.868,26.282,47.16,34.072,40.713,40.71,32.769,39.938,34.323,33.781,37.176,28.878,40.725,35.745,42.366,30.019,37.731,35.04,33.39,38.37,33.752,31.694,40.306,32.958,32.958,46.202,33.988,34.054,41.518,33.874,33.079,45.07,38.902,32.661,29.973,30.213,33.655,42.229,32.802,33.357,34.967,40.042,37.724,41.324,44.302,31.904,26.107,40.901,32.778,40.033,34.094,42.386,30.332,34.614,32.517,40.444,35.634,33.785,32.751,39.894,33.59,40.812,35.842,34.69,36.126,42.311,43.208,42.276,32.869,29.619,34.751,39.734,37.809,28.084,33.847,41.037,39.164,41.623,40.856,26.276,29.523,40.907,38.235,32.648,37.977,38.951,36.305,47.937,32.886,39.156,41.766,34.129,38.677,33.415,40.409,39.826,38.063,41.278,37.179,29.418,35.909,45.536,45.23,42.646,30.3,39.963,25.813,34.024,36.196,36.984,36.057,37.662,30.269,30.38,35.418,34.322,33.857,33.405,26.259,39.369,39.137,37.718,41.759,39.001,34.059,33.576,41.702,39.092,39.701,41.881,42.834,26.118,33.823,41.2,42.472,28.579,43.036,25.462,39.048,35.096,41.117,31.288,33.939,47.676,35.05,25.897,28.522,40.565,29.83,26.19,31.679,42.6,40.097,35.495,39.804,33.708,44.985,36.329,36.159,32.482,34.693,40.018,32.312,41.236,32.754,35.073,33.395,32.272,40.176,40.308,20.894,37.548,36.051,47.206,31.813,32.68,36.106,36.808,35.584,33.875,29.789,32.981,37.355,33.365,48.282,31.882,37.804,33.745,41.632,34.009,40.63,29.79,38.865,37.395,35.702,39.184,37.295,29.799,37.273,42.604,48.117,39.553,39.61,36.008,47.263,35.411,37.673,42.723,30.333,34.274,40.099,35.606,39.958,25.897,36.267,40.606,37.812,34.205,40.11,32.526,36.22,41.851,35.976,32.147,37.269,36.735,43.714,41.187,32.917,42.867,35.984,34.034,36.79,36.79,32.485,64.827,44.498,39.045,64.806,44.668,34.07,39.836,38.134,39.834,33.178,41.469,29.003,36.969,34.884,29.93,34.23,34.132,31.268,44.305,34.211,38.48,32.895,36.622,36.622,29.184,28.076,33.657,36.295,30.523,36.231,33.178,39.468,39.745,44.923,41.099,41.897,32.951,34.025,33.167,45.347,45.872,37.826,31.467,35.057,34.097,34.789,41.867,41.042,36.603,39.195,41.285,34.401,43.446,41.805,34.108,34.949,34.599,31.591,34.178,39.922,41.421,47.707,37.779,29.849,34.031,33.511,29.786,37.667,39.973,26.758,36.803,38.227,32.714,33.251,30.409,41.97,32.665,36.351,32.518,38.639,34.019,26.739,33.809,39.898,41.747,34.5,38.983,32.061,32.726,30.318,44.885,39.922,32.81,29.976,35.798,29.984,38.838,40.806,37.239,36.409,38.538,32.964,34.949,27.603,38.592,34.212,39.717,39.958,45.098,35.062,37.748,39.343,34.029,32.172,34.005,37.754,44.992,35.259,34.779,31.258,25.576,33.976,29.904,25.897,27.448,27.438,38.895,34.898,33.918,33.853,39.711,39.903,36.122,37.24,37.05,39.752,40.55,35.375,40.842,39.704,31.74,44.789,39.755,34.108,34.077,37.721,29.185,32.256,40.43,32.807,33.698,47.606,40.924,41.486,39.741,33.729,32.309,39.827,34.989,33.917,34.233,40.991,39.726,33.215,47.002,39.777,30.038,33.803,36.995,37.895,34.219,41.163,37.639,41.618,35.908,33.843,34.572,35.207,33.724,30.239,41.569,28.887,39.733,39.189,28.466,35.076,42.351,32.166,42.673,36.069,37.448,41.893,43.62,30.889,33.381,36.727,34.073,41.799,36.133,32.755,43.547,45.656,35.218,30.494,35.512,47.606,36.32,35.242,37.584,42.456,33.683,37.787,42.609,46.16,39.755,35.837,37.831,34.42,38.914,42.484,34.104,29.415,32.795,26.683,40.675,33.415,34.23,33.95,32.222,28.469,42.361,33.582,37.592,32.698,31.025,30.544,34.87,30.047,35.287,39.477,35.108,35.654,34.354,35.816,42.322,32.572,33.923,47.234,41.227,45.409,42.465,32.835,41.761,40.592,40.442,32.873,38.894,35.094,38.596,29.168,43.188,33.437,29.529,19.696,30.521,39.945,34.95,39.995,39.836,29.939,33.843,19.696,71.301,35.561,40.064,33.575,42.308,43.069,30.468,32.26,37.673,41.649,34.022,34.196,33.872,34.58,39.155,33.748,33.748,32.944,34.199,40.267,36.349,33.808,35.08,33.495,33.962,33.962,61.585,39.766,26.238,39.837,37.776,33.596,29.713,33.466,33.887,42.796,40.373,38.136,44.067,29.498,35.766,28.028,32.831,30.447,39.492,33.33,37.19,42.936,30.059,28.084,30.396,39.678,33.878,37.945,36.93,37.54,29.794,29.994,35.797,33.925,39.845,45.682,38.918,41.871,36.852,37.993,33.981,29.363,34.905,44.776,29.99,29.99,36.927,30.426,41.992,37.145,41.114,40.279,25.597,38.281,36.77,35.228,41.891,34.06,35.086,39.037,42.632,37.278,38.989,35.024,33.385,30.233,34.015,33.523,37.534,36.328,31.865,39.824,32.373,30.27,36.37,34.308,38.482,44.876,40.487,40.04,37.649,42.776,34.049,36.148,39.737,37.957,30.874,38.024,36.035,33.669,40.193,39.742,31.872,39.481,40.679,42.74,39.004,34.172,30.221,27.457,33.254,36.86,36.098,39.724,36.817,35.146,33.854,39.829,40.678,25.776,29.843,40.115,34.228,28.536,35.851,47.494,42.928,29.914,43.134,28.551,40.41,48.048,27.75,46.686,33.795,44.964,30.458,41.804,31.622,31.929,41.863,39.719,32.705,40.385,34.861,34.026,30.331,33.591,37.547,33.58,41.961,33.378,36.199,37.732,38.674,37.335,25.844,41.292,45.351,null,25.981,null,30.234,40.027,35.198,45.507,35.069,25.934,44.963,29.418,38.632,null,34.058,29.774,28.978,36.467,32.24,43.968,33.466,null,61.581,33.863,41.735,null,40.173,26.556,40.009,19.685,35.947,37.493,33.515,39.972,null,35.966,38.295,33.989,34.252,33.994,28.52,40.314,42.802,32.662,null,46.007,39.852,null,34.736,34.245,40.817,30.421,32.283,34.494,42.922,35.429,38.795,33.534,26.663,33.811,29.917,43.101,38.547,32.873,40.911,27.888,36.779,null,41.693,null,41.622,42.058,32.334,35.034,39.009,33.542,36.866,32.446,40.626,39.929,39.09,34.179,null,30.022,39.53,33.87,32.957,38.909,32.475,44.931,32.713,30.468,44.992,33.971,36.825,32.248,34.036,29.689,40.591,61.218,35.194,39.302,30.038,34.136,43.732,null,34.935,19.616,34.033,29.413,33.729,35.52,39.765,32.83,33.367,33.582,34.132,48.461,35.265,32.178,33.91,34.053,33.46,37.492,46.447,39.37,34.111,33.862,45.889,42.971,41.121,33.644,32.866,39.102,40.282,38.181,33.196,33.451,43.075,33.495,37.636,38.858,41.586,36.027,37.987,32.18,46.146,35.35,35.279,38.713,38.879,32.956,33.313,33.48,44.384,39.616,32.309,39.397,32.75,33.899,null,33.482,44.827,35.78,35.474,64.841,27.934,47.019,32.729,39.663,36.833,33.963,33.991,32.885,39.552,42.349,38.722,39.356,47.44,37.151,31.093,33.787,32.343,30.435,41.206,33.448,33.484,28.585,42.906,28.053,37.422,35.156,40.116,38.877,41.991,34.072,33.424,30.228,44.492,37.77,36.206,39.957,45.556,39.321,35.84,27.207,41.002,39.368,29.373,43.384,34.742,32.808,33.675,39.953,30.871,31.055,35.113,42.173,39.951,38.535,41.594,27.861,36.171,40.011,33.082,41.128,31.34,47.343,35.174,33.668,33.684,32.011,40.417,37.972,30.454,42.389,38.226,47.384,30.117,32.711,37.739,32.479,30.198,36.954,39.971,42.102,38.197,41.64,32.741,36.044,30.467,47.259,33.357,33.649,37.021,38.837,38.673,39.599,39.599,38.889,32.984,36.753,45.752,29.493,34.233,45.818,38.659,42.344,35.239,27.794,null,33.819,39.852,40.589,35.668,33.818,null,null,32.543,39.254,37.474,33.727,39.999,39.78,41.857,38.887,34.16,39.064,43.615,33.68,61.218,31.972,32.75,35.377,41.004,39.954,29.544,33.975,31.708,41.769,30.43,27.311,33.852,40.667,29.51,38.607,34.654,null,35.973,40.739,41.776,41.874,31.278,32.201,33.608,41.878,34.023,39.78,34.343,39.103,47.21,32.169,38.221,null,32.287,29.985,41.263,41.668,29.94,null,40.31,35.089,33.098,19.639,34.262,40.709,null,39.6,null,27.47,37.292,32.682,40.042,33.386,null,34.022,33.985,45.83,33.731,32.983,null,35.361,39.528,36.054,37.974,36.145,38.867,34.075,44.057,34.022,38.931,45.402,35.719,39.183,28.749,35.709,25.605,30.436,33.553,null,44.177,34.101,29.603,33.092,36.555,41.248,37.329,39.892,35.124,33.568,38.656,34.042,35.522,39.946,46.201,37.293,21.67,40.674,41.88,33.775,47.651,33.49,38.949,35.231,34.135,36.109,32.793,41.542,47.925,38.797,29.612,33.828,38.113,39.808,29.972,35.447,39.114,30.05,35.381,32.295,43.166,43.492,null,35.203,33.792,39.852,34.095,30.893,47.829,34.098,32.757,34.136,42.643,39.2,35.749,null,39.334,41.876,31.082,38.251,30.343,35.519,41.237,39.428,35.082,41.879,35.68,41.804,47.979,45.652,36.168,44.416,36.037,39.419,34.801,21.387,38.918,38.2,32.739,36.022,34.449,35.899,42.377,38.652,36.027,37.316,33.903,null,32.717,36.015,null,37.755,43.653,41.16,null,32.074,39.765,28.504,41.184,41.225,38.854,37.361,30.197,29.69,39.932,39.528,37.091,29.051,38.827,32.049,40.736,35.27,45.12,29.651,28.489,31.356,44.917,33.135,33.451,39.497,40.901,39.664,36.232,35.432,33.926,41.161,33.892,35.26,33.701,37.362,33.145,30.44,48.751,33.809,41.6,38.285,39.322,47.239,44.961,33.784,42.5,43.106,35.797,35.066,46.699,39.725,37.624,34.051,27.675,28.392,33.925,30.209,33.452,39.302,32.375,34.044,61.581,39.17,40.466,35.021,39.678,33.523,30.558,30.012,29.896,41.576,34.744,40.115,41.833,40.716,43.425,44.825,34.349,34.078,41.454,29.862,33.954,33.461,37.321,47.084,46.827,40.923,35.154,null,38.496,39.872,47.604,32.294,33.538,45.359,41.571,39.373,42.696,40.744,33.91,32.803,39.935,39.45,33.752,41.364,37.002,35.519,33.729,30.34,30.372,37.355,37.302,37.784,32.471,42.944,30.267,38.59,34.275,30.322,39.943,33.839,41.091,42.536,45.468,32.738,45.782,37.779,43.01,33.462,37.472,33.874,32.977,33.393,33.742,45.904,38.876,44.262,31.781,28.45,43.131,33.553,40.822,34.049,null,38.561,32.149,36.513,33.796,25.775,35.8,37.339,43.473,38.368,34.427,36.191,31.573,31.357,30.522,27.872,29.458,36.786,36.585,39.243,33.81,40.013,36.22,47.288,43.061,30.114,39.12,null,30.44,38.596,47.481,42.872,34.095,36.978,34.141,38.003,33.98,47.678,64.833,32.746,33.963,35.858,39.449,36.159,47.566,33.989,34.105,33.45,43.975,31.22,47.383,35.45,35.492,35.203,34.059,36.142,33.935,28.911,39.697,40.588,39.82,33.538,41.851,40.567,36.93,45.533,39.852,35.053,39.891,40.922,38.517,null,41.608,33.2,28.008,30.593,33.901,null,null,29.448,40.956,null,41.933,39.34,null,null,36.235,35.442,34.348,34.259,44.851,33.936,32.718,36.944,29.41,33.705,34.123,38.65,35.649,43.403,38.701,33.769,39.728,38.511,37.542,30.273,33.493,33.684,29.466,39.812,36.013,47.436,37.119,null,34.021,34.992,42.888,39.046,33.902,40.634,44.012,37.053,31.573,null,39.362,36.105,32.002,33.761,39.496,33.63,39.666,32.283,42.704,39.577,38.459,35.97,39.063,37.706,39.089,39.019,47.39,41.472,29.791,39.91,47.084,34.596,30.221,30.826,33.929,33.459,39.821,30.238,33.449,40.067,36.923,44.364,38.663,34.895,38.882,42.68,32.725,40.772,26.169,36.761,39.716,38.248,38.047,32.534,25.837,38.611,35.311,43.552,42.438,33.921,43.097,41.197,33.668,29.982,35.279,40.888,40.869,33.6,33.056,41.919,47.515,34.063,33.662,37.39,null,48.293,39.201,34.029,33.915,35.014,29.67,32.616,35.408,40.724,34.803,47.186,39.569,32.927,33.179,33.73,39.857,33.393,null,37.796,39.916,27.536,36.16,44.093,40.763,39.052,29.648,25.894,40.805,40.194,40.611,38.569,34.898,32.45,38.571,null,30.886,33.862,38.063,44.964,33.535,26.193,34.143,28.514,38.349,36.628,33.379,38.158,25.783,33.445,35.2,39.077,39.357,34.753,32.345,30.043,36.995,32.251,27.957,35.241,33.596,39.698,35.402,null,37.601,39.747,null,38.146,38.191,46.171,41.221,29.704,27.75,41.536,30.524,42.148,40.434,null,40.089,47.319,37.397,33.938,36.411,32.661,32.285,33.685,37.358,42.279,33.732,33.496,39.522,45.754,39.358,35.325,32.395,33.367,33.972,36.115,33.622,36.113,37.298,35.666,41.825,32.868,38.518,38.518,39.748,32.372,42.726,41.71,30.501,33.495,35.444,34.201,32.345,35.097,35.097,38.747,38.369,45.763,34.65,34.871,41.532,42.221,37.649,33.568,29.997,36.145,34.769,34.093,46.702,33.951,39.522,null,41.784,35.349,34.198,35.033,34.078,38.813,36.791,45.054,39.854,null,32.237,40.567,32.731,35.406,30.638,47.68,39.888,34.183,41.673,35.599,40.907,39.73,35.28,33.101,47.709,39.593,36.719,33.192,29.552,40.378,47.49,34.217,43.647,64.838,33.476,36.148,46.574,46.603,36.2,39.843,33.951,32.924,null,47.669,40.052,37.673,37.352,39.985,33.521,41.67,32.444,37.487,null,34.196,39.566,35.787,29.67,37.806,43.62,45.546,39.958,33.803,35.078,35.377,30.504,43.942,40.002,34.806,26.13,34.955,47.204,34.963,36.579,39.017,39.016,37.22,34.565,null,40.832,36.705,39.929,47.109,null,34.084,null,44.264,32.828,39.833,42.949,35.17,42.716,null,40.265,43.647,47.978,42.308,32.851,35.463,39.694,36.176,41.778,31.997,27.429,39.545,29.521,34.106,32.384,39.278,33.878,30.309,35.24,43.981,39.85,39.054,40.249,40.675,29.723,38.189,34.88,46.599,null,35.246,32.044,33.682,39.124,38.847,39.684,34.033,26.587,37.967,27.907,33.333,33.731,39.952,40.455,null,38.104,32.899,41.486,40.489,38.798,37.323,38.53,39.366,null,32.309,29.573,30.197,38.756,32.366,46.939,32.302,36.334,36.571,33.406,38.584,35.61,42.836,33.945,40.946,33.369,39.206,38.752,34.235,32.738,34.717,47.696,37.608,32.177,40.137,33.379,33.708,33.614,32.125,40.08,48.264,33.715,39.036,null,36.725,41.0,39.45,37.759,38.368,40.057,40.246,null,34.0,28.15,33.487,32.652,45.505,37.831,42.066,46.866,38.809,36.217,40.589,45.002,30.453,null,32.942,36.302,47.028,30.033,32.606,38.487,34.033,39.776,34.87,38.231,null,36.312,30.59,37.716,41.757,29.951,32.444,30.788,null,27.929,43.051,33.537,33.495,61.216,39.877,30.198,null,30.408,43.611,32.418,36.134,40.553,33.79,38.367,36.571,36.147,35.882,39.483,29.609,30.496,42.24,25.966,38.813,35.625,27.69,40.664,33.379,41.113,41.672,34.885,null,35.953,47.35,36.164,39.506,33.805,36.617,40.695,34.189,36.191,42.591,45.779,32.265,34.01,42.518,33.916,36.506,33.766,44.999,34.545,37.163,31.519,39.856,33.48,33.628,33.852,45.317,33.772,34.25,36.858,33.747,26.136,40.744,35.177,42.932,38.203,38.27,32.755,35.165,39.74,32.691,34.157,42.685,34.048,38.426,32.517,42.456,29.378,33.662,39.124,32.496,36.548,28.022,39.37,39.669,36.971,35.487,33.652,42.835,28.553,36.105,32.251,36.769,32.254,40.583,32.487,43.18,36.815,30.779,42.342,38.769,42.482,29.412,37.553,28.756,35.22,42.353,27.442,45.483,39.956,38.273,36.863,42.38,null,27.364,29.412,41.515,36.033,40.253,null,null,33.575,40.63,34.268,25.461,28.027,33.85,35.053,33.569,34.013,37.236,34.285,41.81,35.069,30.198,41.593,32.456,39.838,39.863,33.982,40.142,33.488,38.877,33.893,41.023,39.74,28.84,39.822,34.262,39.1,39.163,39.1,47.731,39.307,41.259,34.187,40.209,33.754,30.789,41.395,39.314,39.368,38.436,33.963,42.667,45.042,32.492,32.722,39.602,21.68,32.868,33.721,41.581,39.74,39.726,35.289,34.046,33.514,64.811,35.266,33.748,43.587,41.692,35.045,41.886,33.285,38.246,40.156,48.113,33.393,38.19,61.98,45.122,39.824,39.487,33.744,32.222,33.122,42.829,37.062,36.165,28.671,41.766,null,29.42,35.07,41.655,32.178,35.131,35.425,29.821,40.681,33.969,36.755,29.458,19.498,28.91,32.131,33.393,34.107,33.983,34.123,44.457,39.071,35.313,29.951,35.193,36.161,42.337,33.878,36.169,34.21,41.683,39.814,31.34,35.134,39.747,null,33.379,38.803,34.809,34.246,47.997,29.316,39.234,26.451,36.147,32.339,33.807,39.108,32.492,36.263,36.102,35.955,38.913,40.065,45.509,34.044,38.068,35.435,41.481,41.053,36.739,61.581,30.268,34.015,33.392,35.329,33.727,47.514,40.032,43.276,34.737,39.961,39.127,39.984,37.469,33.46,33.64,40.571,35.927,35.427,32.7,47.483,39.872,25.998,33.749,38.562,41.878,35.611,29.596,42.908,41.599,36.076,34.221,33.415,41.703,40.036,46.049,44.081,32.485,38.804,48.114,null,null,25.777,null,36.046,39.291,null,36.636,33.581,28.493,40.707,36.396,32.295,30.504,21.324,32.742,43.028,45.52,35.603,44.731,28.526,null,33.808,34.522,35.206,33.341,null,36.199,38.938,30.028,34.392,35.726,36.025,null,45.468,43.173,null,36.015,43.134,33.667,40.624,null,33.895,35.407,19.551,39.652,46.117,35.078,32.918,40.763,42.723,39.451,null,25.948,null,33.662,34.365,35.556,30.588,40.537,36.148,41.587,47.824,38.029,38.773,30.055,34.098,null,null,39.373,29.106,30.372,36.195,43.498,38.378,37.823,null,42.496,39.797,null,35.939,29.424,null,45.022,null,40.787,41.649,null,40.057,36.163,32.836,34.986,33.524,37.651,36.95,null,37.663,33.48,29.86,27.417,33.951,33.257,45.045,33.974,null,33.377,null,42.337,null,null,39.579,39.072,39.737,38.167,45.674,47.498,44.921,null,null,26.213,38.31,37.548,32.04,33.83,42.434,37.478,32.756,19.529,null,34.499,38.702,35.123,28.693,36.299,null,null,null,37.295,null,40.838,41.89,32.713,33.473,33.685,41.657,35.08,20.884,35.107,37.311,33.436,36.259,27.965,35.39,29.875,47.699,40.199,35.515,33.979,41.189,35.047,29.509,29.37,43.646,36.341,32.466,45.647,29.968,35.175,29.874,29.827,36.812,32.746,33.869,34.639,45.511,29.935,47.378,null,32.032,37.699,30.274,32.75,44.079,33.509,30.714,34.15,33.823,null,null,38.354,31.915,39.779,38.679,35.154,35.154,35.181,38.995,44.954,35.998,45.797,36.171,33.752,35.188,36.065,35.192,38.564,33.618,43.233,42.244,37.177,42.1,30.163,40.867,38.013,42.364,32.456,40.36,30.801,41.517,47.705,32.706,33.938,35.166,35.292,40.711,38.134,35.828,35.449,34.803,null,38.348,40.543,29.734,29.734,64.855,39.979,37.386,32.352,null,29.962,21.307,32.32,39.362,41.705,21.443,34.742,42.329,38.602,25.948,29.044,32.955,34.471,36.592,37.165,39.736,31.471,46.044,31.114,30.861,45.63,39.562,36.683,31.725,35.336,38.344,31.537,46.541,41.565,29.554,39.749,33.738,37.169,35.354,33.3,30.313,39.638,45.679,61.206,33.941,33.48,33.474,31.6,40.565,34.106,39.559,25.921,42.295,41.016,33.45,35.483,47.303,30.29,33.781,44.025,28.365,40.711,32.782,46.986,40.786,36.173,29.551,33.912,37.664,32.899,35.33,39.631,34.183,30.757,null,29.926,29.926,33.96,25.883,36.255,36.025,44.059,32.359,33.684,64.849,36.388,33.598,61.206,31.725,33.769,42.333,33.838,41.931,38.304,36.169,35.89,40.7,38.234,39.807,null,32.475,33.713,31.907,38.595,29.782,29.028,33.349,null,33.334,36.071,40.712,42.719,45.547,35.794,43.28,34.689,42.324,45.174,37.554,35.791,38.893,null,38.089,38.796,36.301,39.904,33.459,30.276,33.932,33.805,null,30.429,36.644,32.591,37.351,null,47.683,38.029,null,33.415,43.012,34.44,36.94,47.603,33.437,36.09,41.862,32.057,null,42.477,33.902,44.263,38.188,26.838,26.065,30.024,34.172,36.322,33.794,36.812,47.243,33.93,44.127,46.585,null,null,30.125,30.625,29.64,null,41.748,34.043,34.709,35.202,43.682,47.295,36.735,40.438,32.519,32.665,37.886,32.556,35.318,35.807,37.797,33.913,33.932,37.608,34.073,38.64,27.978,36.733,32.709,45.53,33.651,36.499,null,34.621,35.078,28.495,35.24,32.896,34.865,35.79,47.481,33.456,46.382,29.555,32.148,25.925,32.316,32.779,39.624,26.212,36.133,39.734,36.243,39.97,42.295,32.719,29.417,25.772,40.505,37.805,41.179,38.288,29.671,32.252,29.509,39.729,33.914,44.823,35.074,41.346,47.735,41.587,31.77,39.739,40.626,34.4,27.721,30.424,41.439,35.4,35.584,38.678,33.816,34.58,30.334,44.541,47.704,26.03,40.461,32.713,29.053,29.053,34.948,33.519,null,29.984,32.732,29.446,35.027,47.221,31.701,40.228,40.524,38.801,30.447,null,29.782,45.522,41.161,29.422,41.269,33.975,40.593,32.769,38.35,45.004,38.816,42.413,28.012,39.174,33.86,39.757,null,34.993,40.736,30.402,33.929,39.095,null,null,38.242,null,34.491,39.739,null,null,41.577,37.044,32.774,34.072,42.808,34.236,33.876,37.869,33.745,39.752,31.949,40.694,43.738,36.001,61.149,34.545,39.292,38.809,40.691,40.691,39.758,38.638,35.665,45.062,31.884,39.757,40.675,46.877,36.485,44.291,47.734,38.65,null,31.375,47.233,35.595,39.541,40.802,29.705,39.078,34.439,29.328,32.694,34.192,null,44.959,29.801,36.348,33.405,29.665,30.605,40.785,40.618,35.075,34.301,34.782,34.202,36.258,30.338,33.839,33.932,32.904,39.498,42.322,39.092,25.685,40.885,36.977,32.449,34.121,34.295,41.704,null,35.593,30.477,32.995,33.969,30.396,30.097,41.078,35.513,34.229,34.673,null,33.742,34.072,27.746,33.421,35.08,30.838,35.978,34.411,40.684,42.776,33.805,37.315,34.172,40.882,43.741,33.613,31.691,43.477,40.196,31.902,38.646,43.639,39.812,45.518,36.159,39.729,null,40.816,40.889,34.259,36.175,33.902,40.668,35.109,34.722,32.927,45.267,38.622,34.754,37.991,39.371,38.434,36.605,30.928,37.365,31.856,32.873,27.585,33.4,31.796,33.568,32.312,44.146,43.856,35.89,35.507,29.361,35.032,41.027,38.271,41.871,35.508,37.256,34.806,39.689,28.215,35.51,21.339,35.72,30.178,34.052,44.229,35.225,42.289,41.459,33.695,33.411,46.664,39.162,34.943,34.017,34.135,44.469,42.024,47.286,34.631,34.71,38.256,42.782,34.098,40.751,37.475,28.014,null,39.756,46.908,44.091,28.023,null,29.214,34.065,31.061,34.773,39.062,43.039,32.538,39.863,36.061,33.454,42.523,29.456,38.564,35.326,33.838,31.454,28.021,30.357,43.105,41.096,25.935,21.335,34.032,34.162,34.282,30.464,21.302,36.13,36.257,38.572,35.86,28.853,40.783,33.434,39.074,33.618,40.442,40.577,33.476,34.604,29.387,33.632,35.224,28.066,39.216,36.347,35.395,39.737,39.028,44.046,58.381,32.793,38.85,null,38.677,35.033,47.322,38.1,42.418,39.7,39.219,39.404,36.24,41.918,41.344,41.752,38.917,33.509,35.628,33.445,35.075,39.675,null,37.776,null,40.726,null,30.762,34.151,47.72,39.549,34.008,41.597,46.885,null,44.983,41.277,33.921,33.714,40.402,null,30.443,44.243,33.199,39.798,33.393,35.363,32.057,33.657,null,null,33.75,41.006,31.463,32.736,30.464,39.754,39.989,null,null,33.488,32.178,37.233,36.078,42.1,60.325,39.003,28.501,33.199,34.875,36.299,39.05,27.013,35.975,39.103,28.565,41.947,35.03,30.179,34.221,39.322,46.882,35.227,39.538,45.005,34.124,42.752,33.793,28.135,38.22,36.18,34.129,28.496,40.154,34.222,39.794,37.997,33.653,32.269,43.016,41.423,29.159,34.727,32.437,40.696,42.853,33.924,39.057,27.462,40.433,35.924,33.767,44.66,34.768,30.332,47.144,38.288,34.416,33.734,29.792,35.925,32.333,48.503,null,31.591,37.622,40.453,39.329,26.13,36.075,36.713,40.987,33.866,30.009,61.551,36.548,29.783,59.791,39.057,38.148,null,35.807,36.407,38.134,44.073,38.134,38.259,null,33.765,null,42.468,25.51,33.789,32.453,null,null,null,36.863,35.047,40.654,42.807,47.333,31.794,36.125,35.752,null,26.625,null,39.288,34.061,35.596,38.479,null,33.502,null,33.408,41.77,39.262,34.854,null,25.925,46.96,null,33.6,41.842,32.509,null,35.18,38.448,42.281,39.934,40.249,30.365,null,32.311,null,null,34.673,41.553,33.514,null,null,33.657,30.589,37.689,null,44.196,35.978,38.785,36.121,29.774,34.219,37.528,34.017,29.638,36.205,35.873,38.242,38.501,29.76,32.639,33.421,27.987,36.219,36.837,38.304,34.025,39.74,32.717,47.606,25.811,34.737,47.176,43.656,37.336,38.906,40.625,34.033,35.748,38.583,39.102,36.136,null,29.37,39.868,47.501,39.825,33.814,39.902,35.584,39.043,35.152,39.03,34.85,33.519,28.906,35.79,29.684,33.921,44.068,38.271,34.335,39.31,29.671,46.234,30.356,44.999,30.951,35.383,32.713,28.227,37.684,33.306,40.75,39.591,40.916,29.604,33.674,37.664,29.503,37.95,42.743,27.724,30.415,33.865,34.917,null,29.906,39.581,34.76,45.5,28.05,34.675,32.75,40.023,33.828,34.675,43.178,36.165,36.055,38.104,null,35.049,27.752,34.612,40.926,37.748,36.183,40.73,34.004,null,39.655,28.487,null,null,null,33.722,41.417,38.71,39.084,34.117,34.579,38.95,42.439,33.495,34.871,40.179,39.824,45.772,35.573,36.422,null,null,37.441,39.768,33.746,null,33.609,33.631,34.075,33.072,36.622,33.9,37.292,28.061,40.836,40.321,39.066,28.272,32.718,40.108,31.996,null,39.249,37.29,39.069,43.744,33.495,34.023,40.193,43.021,41.028,36.736,29.96,30.359,42.417,30.177,39.123,34.9,40.841,33.877,44.796,35.97,32.261,40.822,38.048,38.005,47.756,33.673,39.157,29.657,41.503,39.822,32.646,35.377,38.549,42.949,42.331,25.684,40.76,36.519,39.995,35.536,36.192,47.791,30.212,26.19,42.381,null,35.565,34.027,40.653,null,47.527,31.438,39.355,37.736,null,28.45,null,36.192,41.145,32.538,40.635,31.759,47.03,36.228,35.433,40.934,34.187,33.509,26.048,25.891,34.171,35.786,36.983,33.755,31.585,34.12,34.888,34.964,34.968,27.636,34.509,26.126,28.983,35.026,40.225,30.204,38.577,48.839,35.184,35.29,36.94,34.082,29.512,29.747,40.747,39.199,33.84,36.84,33.936,36.798,41.871,35.312,43.053,34.438,42.305,41.803,null,26.462,36.115,35.377,47.664,39.742,40.031,40.9,39.673,26.407,34.07,33.81,40.621,31.148,47.301,47.68,38.751,31.365,33.716,33.91,41.448,35.573,null,27.426,33.422,45.553,33.767,null,30.434,35.058,46.138,33.676,33.371,32.652,32.32,34.224,40.038,40.851,40.801,46.105,38.825,29.621,37.772,45.786,null,35.373,29.596,27.746,33.935,null,null,43.556,33.923,41.5,30.631,39.215,26.134,36.758,40.531,34.609,43.925,32.703,42.349,30.298,28.011,27.464,32.894,null,34.886,41.844,null,null,null,32.556,27.497,null,31.53,42.508,38.561,39.958,38.815,26.622,40.509,35.04,36.205,32.135,35.399,45.672,44.936,35.027,39.711,47.175,36.315,33.828,37.182,42.46,42.461,36.037,37.749,38.753,40.405,30.385,42.309,36.167,34.265,32.786,30.729,34.107,46.874,37.969,39.308,47.48,29.986,35.415,38.956,35.744,35.479,39.991,30.38,41.489,44.277,45.701,30.442,38.62,43.658,33.935,26.048,39.294,36.015,29.905,39.056,25.932,41.191,34.724,34.625,30.512,39.968,29.045,33.799,44.787,33.929,32.267,29.55,33.543,45.278,34.108,33.463,33.495,31.469,30.488,35.33,42.384,27.752,40.049,38.306,40.713,41.63,47.519,33.988,38.586,39.772,36.096,44.756,27.893,29.37,29.663,42.929,38.719,41.6,31.834,47.838,29.884,41.461,41.487,40.981,38.642,29.604,29.573,35.946,35.367,28.575,35.867,47.305,29.196,43.582,42.312,33.942,35.275,61.202,41.521,35.229,40.588,null,29.93,41.738,46.37,34.424,21.4,42.108,46.101,40.75,33.546,32.812,37.653,34.121,43.483,37.699,null,40.957,36.08,30.068,40.739,42.484,34.076,25.437,34.245,33.157,42.321,47.704,30.007,30.225,38.89,45.415,41.783,43.183,39.14,42.02,33.451,36.379,41.552,26.323,39.38,39.741,null,null,37.287,31.769,31.876,38.648,40.532,34.597,33.356,41.664,40.385,36.736,33.492,32.372,40.892,30.608,37.379,37.429,28.764,33.883,33.926,39.752,30.69,29.351,null,null,38.46,34.029,32.186,40.676,32.37,43.486,null,32.283,35.484,39.304,35.931,45.671,39.141,36.688,41.219,39.818,33.784,41.212,33.408,33.596,40.575,31.643,43.496,34.367,35.247,40.391,30.305,41.53,34.682,30.446,29.925,41.236,34.454,44.571,25.726,42.872,34.158,null,31.792,36.439,34.064,33.712,null,null,34.997,34.001,null,null,40.652,null,null,40.893,40.893,41.963,35.081,null,45.707,30.251,43.434,35.698,null,42.468,35.645,42.324,null,39.288,38.589,41.114,46.768,null,33.856,38.575,29.429,33.729,46.616,30.162,29.76,null,29.63,64.824,28.113,34.196,43.699,33.976,43.157,null,37.811,null,36.22,39.808,34.981,null,null,28.009,45.814,34.036,null,34.024,37.607,33.007,30.333,29.965,34.057,35.11,41.711,null,null,null,null,37.552,41.88,null,null,38.358,null,null,null,38.76,36.847,40.493,42.243,34.639,34.051,27.711,30.197,36.596,43.374,39.1,36.341,41.944,39.682,41.48,37.482,33.877,36.291,44.902,33.808,38.892,39.452,33.888,33.495,44.576,40.83,33.515,35.081,42.445,25.762,40.564,40.035,30.452,33.924,38.224,38.799,30.003,42.244,29.874,null,45.07,null,33.628,33.712,40.115,32.72,46.526,21.319,29.531,26.207,null,33.166,null,29.407,29.407,35.267,37.668,44.737,32.773,32.888,42.45,null,31.214,29.362,29.471,null,42.25,38.897,45.79,35.553,36.194,34.098,35.347,null,34.598,39.067,39.104,38.878,38.443,41.538,35.998,null,30.702,32.84,35.505,33.958,42.244,null,32.604,26.552,37.993,null,null,41.429,43.161,44.07,39.718,null,null,33.5,41.22,46.906,33.553,null,32.369,42.535,39.655,null,33.77,42.548,null,36.742,38.006,31.571,30.985,29.676,35.602,31.128,33.969,39.236,30.616,35.987,38.212,31.36,38.846,41.887,38.983,null,38.93,null,null,null,null,38.195,39.711,32.272,37.384,null,null,38.951,29.692,39.845,33.895,34.502,44.948,33.973,43.181,null,null,36.154,36.333,33.319,null,38.589,30.48,32.541,36.017,33.616,null,40.762,null,41.443,34.054,19.742,39.74,35.352,32.359,33.743,null,37.774,30.658,36.252,40.874,null,39.054,19.699,33.073,42.99,37.631,32.502,39.129,35.271,39.801,null,33.478,40.654,38.666,38.152,null,35.686,35.659,34.916,33.888,34.935,null,45.53,34.225,33.995,35.337,64.816,39.09,47.239,null,null,33.433,null,33.107,39.229,33.39,27.711,39.822,34.141,41.635,null,27.679,33.774,38.945,null,null,27.978,44.777,41.042,41.19,null,35.603,29.685,37.618,35.744,42.372,40.696,44.956,41.879,42.908,39.629,36.778,34.087,30.442,31.699,39.31,29.669,null,34.101,39.156,32.063,35.586,32.608,30.66,29.82,null,null,null,40.392,33.459,null,29.796,39.995,32.758,43.634,33.797,30.213,42.363,null,41.623,null,null,null,40.75,30.67,36.095,40.086,null,38.871,40.758,34.133,43.649,47.514,39.574,37.127,33.932,35.303,null,39.351,42.365,33.74,33.597,36.115,40.587,34.588,39.824,null,35.353,29.4,42.496,42.231,32.32,36.378,35.105,34.884,33.978,35.082,40.398,39.828,40.031,33.934,34.121,39.942,66.604,32.795,35.198,37.678,32.155,43.007,40.861,34.241,33.616,41.879,38.909,43.596,33.839,37.512,41.788,28.821,61.599,43.072,45.584,21.295,41.684,38.069,35.35,40.201,47.016,33.782,34.524,null,26.317,28.079,38.918,39.796,39.067,29.876,39.816,42.924,39.79,34.824,47.121,39.135,28.005,37.01,40.922,37.173,38.818,40.955,39.052,32.414,33.926,29.604,33.882,37.788,34.494,33.48,39.078,30.548,32.848,null,33.147,32.591,38.736,32.259,41.016,33.892,null,41.776,29.935,36.163,42.934,33.893,34.612,33.161,34.806,29.639,null,39.809,35.783,33.727,33.101,44.108,45.454,33.748,null,33.378,39.921,41.791,29.435,35.236,36.425,38.816,36.198,34.372,36.137,29.592,null,32.264,34.036,null,null,43.151,26.236,38.806,35.005,44.975,null,null,null,null,34.637,36.607,32.317,39.204,null,34.676,44.302,41.528,null,null,35.883,33.874,34.503,26.433,27.445,26.692,35.385,45.658,37.206,38.842,null,30.418,43.049,32.703,null,36.365,25.797,null,null,48.2,35.085,36.859,null,null,41.943,38.268,43.612,39.992,41.925,43.544,38.81,32.272,34.187,29.597,38.6,44.832,33.535,36.119,35.205,null,37.495,41.494,40.3,null,40.484,37.174,40.948,47.474,42.289,null,null,null,null,null,null,null,null,null,null,null,null,null,null,null,null,null,null,null,null,null,null,null,null,null,null,null,null,null,null,null,null,null,null,null,null,null,null,null,null,null,null,null,null,null,null,null,null,null,null,null,null,null,null,null,null,null,null,null,null,null,null,null,null,null,null,null,null,null,null,42.975,38.932,42.329,null,null,null,null,null,null,null,null,null,null,null,null,null,null,null,null,null,null,null,null,null,null,null,null,28.83,null,null,null,null,null,null,null,null,null,null,null,null,null,null,40.249,null,null,null,null,null,null,null,null,null,null,null,null,null,null,null,45.543,null,null,null,null,null,null,null,null,null,null,null,null,null,null,44.204,null,61.583,null,null,37.811,null,null,null,null,null,null,null,null,null,null,45.33,33.657,null,null,39.738,null,null,null,null,null,null,null,35.037,null,null,null,35.218,null,null,null,null,null,null,null,null,null,null,null,null,null,null,32.476,null,32.719,39.478,null,29.706,35.031,47.252,34.664,null,29.495,43.374,29.848,38.767,43.957,39.991,30.306,35.444,null,40.378,33.875,34.726,null,30.333,33.667,35.055,38.839,25.84,37.081,34.065,39.101,25.942,32.252,null,33.833,null,34.567,null,35.084,41.547,29.445,41.525,47.084,34.987,32.824,47.217,47.552,37.922,26.582,39.051,38.239,35.734,42.864,38.696,34.106,35.068,43.159,47.497,42.282,33.419,44.295,37.931,33.308,26.121,42.461,34.775,44.081,27.659,40.765,35.041,32.979,32.216,36.738,41.028,61.547,35.243,42.1,45.768,43.552,40.355,null,35.051,35.629,35.287,31.964,41.486,35.955,41.603,32.222,35.242,41.753,42.927,33.975,33.975,41.163,35.74,31.087,34.035,34.228,35.139,38.399,33.56,34.15,42.116,42.196,36.747,34.107,33.307,32.08,39.07,44.943,36.05,41.865,36.588,34.28,33.599,34.113,40.504,37.266,33.723,35.363,36.628,30.315,39.135,29.664,32.672,35.324,38.955,47.491,40.934,46.372,29.816,30.347,35.226,38.161,45.233,40.378,28.332,30.148,29.763,34.269,33.563,41.842,33.974,40.267,32.04,39.333,39.704,47.317,39.318,33.899,34.173,29.622,36.728,25.986,35.746,47.424,36.159,36.154,32.713,40.85,28.061,30.357,37.372,40.819,26.709,42.948,36.373,26.611,38.406,36.866,33.84,29.88,29.904,33.36,28.56,40.033,39.475,29.571,36.781,33.846,34.744,42.718,38.248,34.462,40.303,36.575,45.767,32.753,34.237,30.518,37.691,40.573,34.052,41.136,38.705,36.263,45.796,26.648,40.258,35.735,41.482,35.295,40.53,36.611,47.46,33.534,34.06,33.917,34.015,40.788,41.796,30.394,38.499,47.421,46.685,40.02,44.863,34.011,35.359,36.335,40.158,35.933,47.374,34.186,30.899,30.369,43.374,43.692,25.691,36.732,34.555,38.961,42.675,45.436,36.802,35.209,27.233,38.098,34.259,42.982,37.081,36.726,32.507,34.536,34.108,44.416,37.262,null,39.052,null,null,null,null,null,null,null,null,32.835,31.76,null,38.774,null,null,null,null,null,null,null,null,null,null,null,null,null,null,null,null,null,null,null,null,44.964,null,null,36.705,40.459,39.785,34.069,26.003,37.664,33.759,31.957,44.827,39.789,null,null,null,null,null,null,null,null,null,null,null,null,null,null,null,null,null,null,null,null,null,null,null,45.522,32.872,38.707,null,null,null,null,null,null,null,null,null,35.993,null,null,42.227,39.905,36.05,46.447,28.452,39.037,45.274,29.775,36.084,43.544,null,null,null,43.034,null,null,null,null,null,null,null,null,30.864,32.178,47.047,39.544,29.963,29.458,39.023,30.229],\"legendgroup\":\"Age between 18 and 40\",\"lon\":[-97.281,-122.422,-104.692,-111.841,-97.564,-91.119,-121.299,-95.369,-93.609,-90.012,-108.315,-92.359,-106.439,-88.304,-118.183,-115.116,-106.586,-93.094,-90.794,-76.348,-111.887,-85.991,-104.772,-93.358,-121.997,-92.441,-95.394,-118.233,-97.334,-112.042,-116.958,-99.123,-90.25,-105.028,-80.212,-76.648,-97.38,-104.574,-101.666,-119.335,-95.99,-112.113,-109.326,-82.997,-95.784,-121.316,-85.66,-95.72,-90.21,-122.284,-121.818,-84.33,-81.306,-111.978,-111.978,-89.932,-97.515,-117.057,-149.859,-97.891,-119.101,-121.876,-117.333,-94.64,-75.908,-88.572,-110.628,-88.205,-122.437,-80.208,-116.222,-111.624,-93.319,-84.701,-71.284,-80.819,-97.1,-86.824,-95.401,-84.695,-95.933,-88.058,-97.552,-122.414,-83.902,-87.379,-117.879,-82.408,-90.232,-110.99,-92.294,-77.548,-114.451,-95.622,-88.074,-75.609,-111.931,-81.254,-121.286,-118.345,-96.682,-89.365,-104.916,-112.043,-97.583,-75.456,-84.267,-80.749,-91.169,-81.184,-117.655,-75.816,-90.0,-117.868,-114.026,-118.22,-76.983,-117.43,-118.229,-87.835,-98.536,-90.303,-93.025,-78.751,-122.422,-95.104,-121.504,-87.287,-116.58,-122.273,-119.336,-96.323,-109.138,-112.001,-122.222,-122.53,-73.238,-121.959,-76.37,-88.475,-84.477,-79.462,-118.292,-118.271,-119.183,-80.328,-119.003,-71.878,-85.889,-83.255,-82.49,-94.971,-76.77,-118.337,-74.71,-90.582,-92.407,-78.128,-117.852,-106.193,-86.273,-90.048,-112.049,-97.057,-118.212,-121.995,-86.835,-86.879,-77.158,-82.006,-122.202,-95.762,-86.109,-78.491,-90.135,-96.823,-90.718,-80.212,-116.954,-90.244,-84.66,-98.35,-122.485,-118.205,-74.252,-73.794,-97.304,-105.257,-118.438,-118.174,-104.493,-97.001,-73.982,-94.772,-83.236,-89.966,-88.941,-97.949,-111.8,-121.492,-84.39,-106.342,-109.996,-96.642,-96.642,-119.168,-118.472,-118.044,-73.98,-118.05,-110.923,-93.266,-76.875,-97.395,-81.481,-81.739,-117.613,-85.641,-117.154,-105.673,-92.008,-76.3,-87.123,-95.957,-105.45,-106.423,-80.184,-74.041,-79.938,-79.075,-109.33,-83.187,-97.721,-86.564,-93.708,-74.113,-97.455,-118.139,-116.699,-104.976,-85.049,-74.125,-95.891,-111.986,-86.709,-122.832,-77.694,-71.14,-97.517,-95.214,-106.756,-104.326,-122.243,-80.606,-117.922,-83.662,-84.546,-93.698,-73.896,-80.105,-98.355,-74.04,-85.76,-96.708,-121.343,-119.951,-119.313,-98.863,-86.625,-84.394,-87.573,-117.9,-121.29,-82.02,-80.005,-86.12,-97.944,-96.158,-76.517,-98.64,-94.979,-122.536,-123.168,-123.384,-81.626,-75.088,-80.134,-117.894,-83.28,-76.4,-115.043,-121.872,-97.74,-97.702,-97.576,-118.406,-118.124,-111.821,-98.137,-74.428,-94.422,-85.906,-87.608,-94.565,-118.344,-83.97,-87.608,-121.558,-105.047,-87.815,-106.354,-80.201,-84.212,-122.275,-70.944,-81.916,-88.019,-80.493,-94.644,-85.245,-104.826,-86.375,-117.228,-122.304,-89.874,-97.472,-81.334,-105.1,-94.357,-80.129,-81.893,-89.646,-74.986,-97.489,-84.214,-78.947,-93.41,-80.433,-115.106,-93.789,-82.974,-105.271,-106.797,-122.27,-97.331,-106.643,-104.523,-110.973,-85.378,-88.175,-156.483,-77.467,-86.652,-122.484,-106.444,-97.093,-115.245,-119.898,-77.37,-118.156,-95.944,-80.247,-121.843,-111.756,-116.561,-102.384,-122.271,-117.015,-83.513,-118.343,-74.161,-98.721,-76.916,-122.027,-117.87,-119.722,-121.834,-95.313,-121.828,-83.265,-118.202,-81.627,-75.951,-78.511,-93.629,-119.047,-97.413,-73.707,-81.845,-86.512,-74.138,-106.035,-75.608,-80.185,-86.594,-111.987,-122.251,-118.451,-111.65,-94.783,-115.125,-87.671,-96.768,-110.96,-81.222,-119.764,-98.014,-123.704,-97.634,-71.518,-78.882,-117.647,-76.125,-76.125,-93.727,-147.779,-88.054,-94.542,-147.543,-74.992,-117.44,-86.28,-121.272,-75.393,-86.26,-91.927,-95.305,-87.88,-117.019,-89.953,-118.438,-118.267,-92.445,-103.802,-117.365,-78.875,-96.775,-121.844,-121.844,-81.424,-81.844,-95.632,-119.207,-86.496,-115.14,-96.637,-76.83,-75.573,-93.134,-81.509,-87.717,-103.367,-118.259,-97.278,-92.419,-93.296,-81.214,-110.233,-101.883,-117.403,-87.62,-87.713,-81.436,-121.894,-76.88,-72.419,-117.603,-85.244,-88.093,-117.285,-82.308,-98.422,-90.45,-84.76,-82.864,-81.71,-122.187,-122.415,-95.465,-117.916,-88.41,-95.363,-120.92,-76.749,-80.082,-119.769,-85.578,-117.159,-107.166,-90.031,-91.713,-115.496,-119.462,-93.746,-121.337,-117.34,-81.943,-116.464,-82.044,-74.08,-84.601,-77.027,-81.111,-117.224,-81.566,-122.998,-82.863,-96.628,-95.489,-95.251,-95.495,-104.818,-124.155,-93.256,-96.431,-90.341,-80.02,-81.979,-99.453,-80.675,-118.512,-121.848,-104.832,-112.778,-106.683,-122.421,-76.677,-117.511,-81.395,-117.4,-122.166,-93.301,-78.954,-84.895,-95.99,-80.397,-81.052,-95.434,-80.252,-82.555,-80.352,-76.924,-117.027,-84.742,-96.512,-105.017,-75.097,-115.137,-93.337,-93.278,-121.624,-84.571,-119.021,-96.623,-104.776,-103.163,-68.817,-105.037,-117.29,-117.248,-122.397,-98.585,-107.734,-80.007,-96.955,-116.251,-122.332,-73.879,-81.735,-86.198,-116.971,-110.875,-86.028,-85.307,-118.209,-97.488,-75.182,-104.861,-97.133,-122.762,-105.051,-89.905,-118.189,-121.573,-81.159,-119.051,-81.34,-120.999,-83.462,-84.092,-118.307,-118.045,-101.855,-116.971,-91.864,-75.381,-81.19,-104.885,-121.29,-82.384,-106.566,-83.194,-91.722,-84.578,-119.006,-122.156,-87.744,-116.94,-88.643,-111.922,-76.596,-118.056,-107.216,-115.272,-117.16,-96.711,-110.573,-80.885,-93.21,-97.52,-122.332,-82.337,-80.913,-120.947,-87.834,-105.918,-87.18,-88.489,-122.669,-105.016,-83.558,-89.143,-118.46,-79.855,-83.277,-118.358,-98.601,-116.963,-80.677,-111.813,-111.685,-118.46,-86.036,-110.926,-81.3,-122.859,-112.098,-122.079,-96.69,-83.183,-91.948,-86.571,-99.14,-95.582,-119.804,-90.033,-105.992,-79.574,-84.231,-83.208,-97.096,-84.484,-122.454,-96.017,-122.625,-70.949,-97.006,-87.666,-105.032,-79.882,-97.391,-76.925,-106.583,-121.291,-82.053,-100.626,-111.659,-98.493,-155.066,-87.054,-83.056,-91.934,-74.279,-75.402,-90.087,-117.934,-155.066,-156.738,-81.193,-82.864,-84.417,-71.078,-76.144,-91.133,-94.465,-78.396,-93.7,-118.163,-118.457,-117.741,-94.249,-84.605,-117.854,-117.85,-97.578,-83.45,-111.964,-82.211,-117.952,-106.72,-112.108,-118.362,-118.362,-149.778,-105.035,-98.324,-84.011,-121.143,-112.169,-95.316,-112.221,-118.1,-88.385,-104.696,-97.425,-103.156,-98.702,-78.633,-80.641,-97.091,-88.646,-76.333,-111.777,-84.108,-78.715,-94.143,-82.462,-88.885,-119.862,-118.203,-104.835,-76.244,-122.028,-95.337,-95.488,-84.256,-85.611,-75.368,-122.574,-76.875,-87.718,-86.891,-87.51,-118.241,-98.484,-80.188,-93.318,-95.424,-95.424,-76.191,-90.06,-87.793,-87.408,-73.528,-79.547,-80.422,-77.481,-119.791,-89.95,-71.369,-117.174,-106.617,-94.272,-71.317,-82.099,-94.385,-110.697,-104.554,-95.161,-118.139,-112.225,-77.411,-115.296,-102.328,-86.235,-85.685,-97.751,-86.436,-118.453,-121.44,-91.441,-74.468,-75.143,-120.962,-73.936,-118.226,-115.154,-104.99,-88.935,-85.808,-121.295,-85.493,-117.333,-85.339,-84.243,-106.554,-75.022,-73.805,-73.683,-76.901,-86.849,-97.837,-80.344,-111.841,-76.278,-94.153,-105.082,-76.233,-106.527,-84.268,-105.044,-111.872,-80.206,-95.186,-111.655,-118.472,-81.402,-89.128,-122.361,-78.876,-90.05,-88.006,-81.442,-80.537,-122.065,-82.663,-68.014,-118.191,-93.096,-88.844,-87.726,-94.64,-106.418,-71.051,-104.725,-117.056,-104.691,-96.666,-118.202,-81.653,-84.191,-88.4,-84.449,-121.48,-111.978,-115.124,-122.431,-121.276,-83.101,-80.23,-96.173,-122.615,null,-80.125,null,-81.853,-105.282,-111.655,-122.469,-106.51,-80.241,-93.012,-98.65,-90.097,null,-106.892,-95.573,-81.3,-79.907,-110.901,-121.342,-112.221,null,-149.439,-112.139,-122.634,null,-85.401,-81.991,-82.977,-155.066,-95.384,-120.874,-86.788,-76.708,null,-80.935,-104.645,-118.333,-88.737,-118.193,-81.377,-112.001,-73.954,-116.961,null,-112.546,-105.054,null,-86.627,-88.72,-73.866,-86.625,-81.082,-114.324,-71.917,-81.473,-104.767,-86.721,-80.265,-84.37,-96.198,-88.038,-90.008,-108.064,-74.164,-82.347,-119.673,null,-73.084,null,-87.581,-93.896,-83.316,-107.388,-75.466,-117.783,-83.889,-92.099,-91.372,-82.965,-105.594,-84.821,null,-91.818,-119.814,-117.974,-80.056,-76.932,-96.423,-123.112,-114.667,-91.14,-93.17,-118.188,-119.703,-110.972,-94.731,-95.353,-73.984,-149.814,-111.634,-76.654,-81.803,-117.287,-87.723,null,-120.438,-154.958,-117.689,-98.571,-117.048,-108.759,-86.113,-104.413,-111.93,-111.883,-117.314,-107.799,-86.132,-110.969,-118.246,-118.193,-86.818,-82.146,-120.424,-76.814,-118.316,-79.763,-95.375,-115.499,-112.024,-84.491,-116.982,-84.51,-76.899,-84.627,-117.258,-111.84,-87.967,-112.152,-122.08,-77.229,-80.778,-81.586,-121.252,-111.161,-122.917,-118.983,-80.719,-121.32,-99.307,-117.028,-105.669,-112.039,-88.735,-119.882,-106.765,-84.551,-96.88,-118.24,null,-112.183,-93.158,-78.592,-114.04,-147.72,-82.364,-122.312,-97.789,-105.019,-93.778,-118.243,-118.225,-105.952,-104.763,-88.088,-90.232,-74.436,-120.303,-88.732,-97.357,-118.155,-96.632,-97.76,-95.947,-112.074,-112.162,-80.819,-85.647,-81.906,-120.781,-90.158,-105.103,-77.002,-91.715,-117.311,-112.03,-97.834,-73.191,-87.147,-95.958,-75.217,-94.21,-111.094,-88.087,-80.388,-96.163,-76.764,-98.534,-72.356,-92.532,-116.952,-112.099,-75.165,-83.266,-95.126,-82.216,-83.432,-82.848,-81.86,-87.667,-82.329,-94.134,-105.264,-80.006,-85.13,-92.517,-122.296,-96.23,-111.961,-117.795,-102.033,-82.907,-122.028,-90.973,-71.005,-83.494,-122.226,-94.169,-96.821,-122.485,-85.101,-97.789,-122.046,-74.232,-86.453,-84.266,-81.407,-96.877,-115.028,-81.583,-122.131,-86.565,-117.289,-85.584,-104.794,-90.229,-75.821,-75.821,-121.293,-96.919,-95.944,-108.552,-98.44,-82.897,-96.008,-121.355,-71.068,-114.038,-97.393,null,-118.316,-84.425,-111.922,-80.458,-116.546,null,null,-94.956,-74.981,-81.7,-117.903,-75.145,-104.965,-80.804,-99.318,-109.983,-108.558,-116.233,-84.439,-149.879,-110.969,-117.106,-97.53,-76.455,-76.723,-95.136,-118.033,-81.742,-87.674,-86.642,-80.365,-117.907,-73.906,-98.598,-90.299,-120.458,null,-78.89,-74.228,-87.666,-87.716,-89.266,-110.973,-112.44,-87.741,-118.266,-86.398,-82.647,-94.526,-122.419,-110.943,-85.358,null,-106.741,-90.161,-81.393,-85.96,-95.396,null,-80.502,-78.987,-96.624,-155.044,-78.076,-75.225,null,-86.127,null,-99.468,-98.579,-83.91,-75.079,-84.283,null,-118.163,-118.309,-122.713,-116.954,-115.535,null,-99.177,-119.825,-94.164,-121.265,-120.371,-76.937,-118.035,-121.314,-86.019,-76.963,-122.798,-91.69,-121.018,-98.303,-86.916,-80.356,-87.281,-112.057,null,-93.947,-84.519,-95.428,-96.664,-119.395,-80.499,-81.146,-105.008,-106.604,-112.134,-90.25,-118.263,-88.343,-75.086,-93.78,-80.673,-157.938,-73.762,-87.709,-118.121,-117.434,-84.61,-77.405,-85.133,-116.081,-94.57,-96.764,-87.328,-97.033,-90.299,-82.341,-118.219,-122.258,-89.662,-90.243,-120.639,-94.423,-89.974,-118.989,-106.759,-85.57,-116.42,null,-80.74,-84.498,-82.91,-118.155,-102.88,-122.311,-118.329,-97.132,-117.226,-88.521,-120.202,-81.365,null,-80.034,-87.805,-83.771,-104.639,-81.677,-87.217,-80.744,-85.013,-98.246,-87.64,-108.136,-80.916,-122.088,-122.613,-86.76,-69.666,-79.867,-75.229,-82.372,-157.94,-94.507,-85.78,-96.356,-78.906,-119.752,-84.16,-83.129,-87.528,-78.878,-89.575,-118.297,null,-96.997,-95.869,null,-122.154,-70.28,-81.387,null,-110.959,-94.836,-82.336,-112.026,-111.973,-104.776,-81.055,-97.816,-95.161,-82.985,-119.816,-83.99,-95.436,-121.258,-84.806,-112.985,-81.543,-89.865,-95.538,-81.411,-94.728,-89.643,-117.143,-112.069,-119.789,-74.165,-104.99,-119.763,-97.496,-116.814,-81.787,-117.331,-80.833,-118.003,-121.963,-117.034,-91.009,-122.475,-117.853,-81.531,-122.275,-76.727,-122.364,-93.067,-112.117,-83.006,-87.934,-89.161,-78.875,-68.035,-121.845,-97.309,-85.154,-80.421,-80.602,-116.443,-92.356,-112.198,-76.646,-98.979,-118.211,-149.45,-77.205,-86.638,-85.232,-75.567,-96.296,-87.292,-91.84,-95.398,-85.816,-92.395,-82.947,-81.051,-74.202,-102.177,-91.539,-119.071,-117.611,-81.71,-95.45,-118.247,-112.341,-97.151,-122.355,-100.89,-74.154,-90.153,null,-79.258,-75.545,-122.337,-81.082,-112.171,-122.623,-87.212,-84.511,-123.395,-74.209,-118.118,-83.783,-82.964,-75.716,-84.467,-123.989,-76.434,-105.889,-94.599,-95.463,-97.651,-121.804,-121.894,-122.408,-85.01,-78.904,-97.739,-121.287,-118.305,-81.519,-105.004,-81.34,-83.173,-83.755,-122.569,-97.1,-108.504,-122.276,-87.99,-112.076,-77.44,-118.165,-117.269,-111.926,-117.842,-111.541,-77.107,-88.414,-93.699,-81.418,-115.673,-112.152,-81.385,-118.233,null,-90.294,-110.956,-84.51,-84.622,-80.141,-78.844,-121.888,-70.527,-121.956,-117.371,-115.038,-85.281,-89.259,-81.777,-81.465,-97.243,-119.809,-89.528,-76.511,-118.099,-75.119,-95.993,-122.224,-87.874,-91.901,-90.319,null,-91.152,-90.216,-122.33,-71.021,-117.352,-120.058,-89.624,-121.824,-118.128,-122.262,-147.76,-96.642,-118.205,-86.832,-84.517,-115.271,-122.559,-95.015,-118.346,-112.022,-124.101,-88.31,-122.209,-97.516,-105.672,-101.806,-118.263,-86.802,-84.504,-81.264,-104.992,-105.03,-105.035,-112.234,-87.734,-105.087,-76.202,-122.948,-105.008,-106.722,-84.191,-111.9,-90.014,null,-93.601,-117.253,-82.105,-92.407,-84.477,null,null,-81.531,-81.364,null,-87.752,-77.206,null,null,-115.229,-97.567,-79.252,-118.428,-93.318,-117.273,-97.169,-76.315,-98.54,-86.613,-109.292,-121.264,-105.951,-84.006,-90.26,-117.876,-121.837,-90.336,-77.442,-81.771,-112.299,-112.135,-98.606,-84.198,-120.131,-120.325,-120.258,null,-117.317,-106.665,-73.923,-94.552,-117.571,-73.963,-88.56,-120.82,-97.174,null,-121.263,-115.195,-93.329,-84.256,-80.294,-78.97,-119.703,-88.594,-82.502,-82.234,-122.742,-87.434,-94.553,-97.339,-94.476,-96.86,-122.202,-87.518,-95.135,-75.163,-122.355,-83.446,-81.736,-83.979,-118.253,-112.029,-79.757,-81.731,-86.824,-74.098,-119.794,-87.664,-90.268,-120.422,-94.806,-83.34,-117.016,-74.23,-80.277,-108.156,-84.121,-83.865,-97.323,-92.786,-80.223,-121.383,-119.021,-73.181,-73.259,-116.957,-87.961,-81.45,-78.907,-95.427,-80.788,-73.834,-124.087,-112.302,-96.726,-87.756,-111.254,-117.977,-114.229,-121.842,null,-122.643,-80.404,-118.213,-85.557,-80.569,-95.073,-117.045,-97.506,-89.636,-86.615,-122.402,-105.109,-96.463,-117.298,-118.024,-104.911,-111.85,null,-122.413,-85.372,-82.566,-115.167,-123.125,-111.877,-95.655,-81.669,-80.327,-91.107,-80.291,-105.077,-90.311,-79.019,-92.197,-92.175,null,-83.977,-84.774,-100.89,-93.056,-86.577,-97.699,-117.938,-81.332,-81.63,-82.046,-111.849,-85.705,-80.132,-86.829,-111.614,-121.536,-76.558,-82.245,-111.199,-95.241,-76.393,-110.825,-82.748,-81.333,-86.7,-84.251,-94.605,null,-121.012,-94.848,null,-121.276,-85.219,-100.682,-76.019,-95.565,-82.699,-81.623,-87.869,-76.747,-104.722,null,-75.386,-122.313,-122.017,-117.343,-85.341,-97.176,-106.845,-85.843,-82.847,-83.307,-86.055,-88.407,-104.776,-108.58,-86.757,-119.021,-88.705,-105.647,-84.48,-115.252,-84.369,-84.12,-79.931,-80.499,-71.419,-89.124,-82.727,-82.727,-104.995,-90.546,-94.206,-71.146,-91.136,-112.21,-97.541,-118.457,-90.194,-106.708,-106.708,-77.058,-81.62,-108.513,-120.449,-82.425,-90.57,-121.765,-92.411,-86.271,-98.099,-105.663,-86.527,-117.864,-120.742,-118.223,-119.813,null,-87.616,-82.438,-118.407,-81.186,-117.36,-104.822,-79.997,-87.749,-104.966,null,-110.88,-122.326,-117.248,-97.424,-88.09,-122.253,-104.968,-88.086,-72.761,-85.802,-73.871,-75.652,-84.762,-96.872,-122.194,-84.245,-108.172,-117.295,-98.257,-104.803,-92.465,-118.589,-72.051,-147.716,-112.048,-95.967,-120.51,-120.507,-119.327,-86.014,-116.481,-96.889,null,-117.428,-75.15,-97.353,-77.356,-76.844,-86.8,-85.979,-84.958,-122.226,null,-118.567,-104.961,-119.241,-100.011,-122.296,-116.224,-88.92,-82.854,-118.143,-106.545,-97.125,-97.641,-90.824,-76.751,-106.733,-80.201,-120.431,-122.436,-90.009,-82.752,-94.568,-94.57,-121.745,-118.043,null,-115.763,-86.398,-82.858,-122.336,null,-118.195,null,-72.584,-97.154,-104.987,-92.549,-90.024,-87.786,null,-76.862,-94.447,-122.162,-85.19,-96.989,-94.789,-104.866,-96.01,-124.201,-81.072,-82.568,-119.761,-98.492,-84.03,-90.153,-76.669,-84.275,-95.486,-97.105,-94.628,-105.074,-82.964,-76.859,-89.617,-95.459,-85.637,-83.389,-111.893,null,-80.91,-99.987,-84.419,-122.857,-104.75,-105.017,-118.159,-80.068,-121.805,-80.518,-84.11,-84.395,-83.089,-79.888,null,-122.258,-97.316,-87.349,-86.128,-94.494,-108.901,-81.657,-78.038,null,-106.764,-98.133,-97.736,-76.993,-86.33,-98.991,-90.206,-102.07,-82.713,-112.272,-77.33,-97.558,-106.276,-118.316,-82.803,-111.705,-96.301,-90.208,-118.457,-96.656,-81.198,-116.786,-77.522,-110.983,-74.841,-111.636,-117.85,-95.052,-111.065,-75.112,-116.572,-85.009,-94.492,null,-108.188,-85.795,-87.385,-122.418,-93.78,-111.676,-75.654,null,-117.5,-82.765,-112.164,-97.14,-122.926,-122.274,-88.283,-96.918,-104.822,-119.337,-111.886,-123.011,-91.127,null,-111.721,-82.46,-122.375,-95.522,-96.768,-121.475,-118.047,-104.902,-82.411,-84.546,null,-95.807,-81.445,-122.44,-88.312,-95.4,-99.771,-89.859,null,-82.788,-83.636,-111.884,-112.221,-149.817,-82.835,-97.756,null,-86.992,-116.543,-86.283,-97.063,-75.58,-80.992,-81.657,-87.304,-115.153,-97.416,-119.78,-98.487,-90.193,-84.405,-97.478,-94.538,-95.973,-97.364,-73.932,-111.74,-80.259,-86.279,-116.994,null,-92.599,-122.297,-115.041,-121.567,-116.465,-79.384,-111.948,-118.562,-94.86,-83.116,-108.51,-110.959,-118.339,-83.187,-118.318,-81.12,-84.434,-92.88,-90.636,-104.511,-97.15,-104.974,-112.089,-85.127,-117.934,-107.37,-84.555,-96.689,-85.327,-84.722,-80.154,-111.86,-89.864,-86.142,-85.665,-85.796,-95.107,-101.899,-104.903,-97.037,-99.264,-83.031,-84.176,-121.483,-93.745,-94.359,-98.524,-114.235,-94.656,-84.98,-119.296,-97.88,-87.398,-84.136,-93.718,-96.686,-84.485,-106.298,-81.352,-95.851,-110.91,-81.781,-90.244,-79.729,-93.51,-112.356,-76.367,-90.293,-83.274,-76.882,-83.127,-98.47,-77.442,-81.347,-97.257,-83.42,-99.489,-122.468,-83.035,-104.488,-83.329,-87.943,null,-99.48,-82.11,-81.68,-101.999,-103.773,null,null,-112.121,-111.828,-118.43,-80.48,-81.612,-118.352,-97.936,-116.079,-117.482,-93.307,-77.836,-87.619,-106.638,-97.698,-87.346,-90.058,-75.097,-105.084,-118.024,-87.642,-112.074,-77.006,-83.751,-74.919,-104.979,-81.685,-105.003,-83.856,-94.586,-94.531,-94.586,-122.176,-89.289,-74.36,-118.444,-74.753,-84.196,-81.653,-81.77,-84.565,-74.435,-78.849,-118.355,-73.778,-93.289,-92.097,-117.169,-104.904,-158.036,-96.671,-89.838,-75.334,-104.884,-104.819,-93.138,-117.812,-112.145,-147.425,-87.323,-117.874,-116.296,-94.371,-78.971,-87.743,-84.345,-104.613,-122.221,-98.865,-111.978,-120.613,-145.331,-123.202,-104.987,-75.027,-118.021,-110.767,-95.667,-106.353,-120.845,-115.124,-99.169,-87.576,null,-95.259,-106.639,-93.466,-110.926,-106.716,-82.503,-95.992,-89.621,-118.09,-119.829,-98.709,-154.951,-81.96,-111.087,-111.875,-118.272,-117.325,-117.222,-73.18,-76.95,-85.169,-82.109,-101.81,-86.8,-88.183,-118.366,-94.043,-118.462,-83.542,-105.02,-92.414,-79.478,-104.824,null,-111.774,-76.99,-102.415,-92.031,-117.459,-81.493,-94.439,-80.101,-115.159,-106.768,-84.449,-86.606,-93.746,-85.95,-115.054,-78.995,-76.871,-82.999,-90.72,-118.162,-78.889,-97.601,-87.701,-94.386,-119.736,-149.439,-97.743,-118.401,-112.091,-119.053,-84.408,-111.241,-75.041,-70.982,-106.648,-82.999,-84.484,-76.734,-105.87,-112.143,-112.134,-122.353,-77.572,-88.666,-97.149,-117.582,-105.03,-80.201,-86.807,-121.492,-71.354,-77.371,-95.565,-78.892,-87.288,-115.056,-84.091,-111.672,-93.624,-76.297,-118.369,-87.691,-93.793,-76.952,-122.154,null,null,-80.312,null,-115.029,-76.63,null,-84.115,-112.229,-81.412,-74.209,-97.878,-106.763,-90.462,-157.878,-80.122,-71.08,-122.674,-84.06,-92.859,-81.377,null,-84.563,-117.307,-89.887,-91.082,null,-86.823,-121.107,-82.116,-103.196,-97.977,-84.218,null,-122.578,-77.58,null,-115.244,-88.038,-118.003,-111.985,null,-84.451,-94.374,-154.873,-83.542,-122.931,-89.884,-96.126,-111.878,-88.543,-75.044,null,-80.203,null,-95.536,-80.221,-77.056,-84.591,-111.931,-95.923,-90.572,-122.239,-121.888,-90.219,-95.177,-118.327,null,null,-76.565,-81.031,-81.686,-115.105,-112.032,-81.666,-121.999,null,-82.898,-105.043,null,-83.224,-98.49,null,-93.304,null,-111.946,-87.692,null,-74.048,-95.636,-116.757,-85.283,-112.203,-98.739,-80.949,null,-122.078,-82.083,-95.525,-80.397,-118.245,-93.232,-92.808,-118.16,null,-86.811,null,-83.124,null,null,-104.877,-95.661,-105.054,-85.572,-122.561,-94.896,-68.676,null,null,-80.255,-122.285,-77.466,-81.2,-118.311,-79.322,-122.229,-83.762,-154.92,null,-84.951,-90.263,-106.587,-82.129,-119.591,null,null,null,-77.293,null,-75.653,-79.847,-97.276,-112.004,-117.333,-83.534,-106.559,-156.502,-106.606,-121.923,-112.571,-90.293,-82.779,-86.24,-93.957,-122.345,-105.107,-80.145,-78.368,-80.754,-90.02,-98.409,-98.504,-93.371,-119.291,-86.392,-111.056,-90.079,-101.841,-97.955,-95.4,-119.759,-117.033,-117.317,-98.633,-122.564,-95.496,-122.215,null,-102.004,-97.339,-93.183,-97.132,-123.166,-112.255,-95.571,-118.665,-116.458,null,null,-121.98,-102.402,-75.377,-90.261,-90.163,-90.163,-80.915,-77.031,-93.374,-83.972,-108.508,-115.144,-84.491,-111.681,-108.682,-111.679,-90.25,-114.505,-100.853,-84.402,-116.046,-75.79,-97.726,-74.134,-121.354,-87.845,-93.81,-104.697,-89.171,-88.086,-122.343,-100.938,-116.866,-89.866,-119.257,-73.988,-122.222,-78.017,-97.426,-82.418,null,-85.49,-122.346,-95.756,-95.756,-147.678,-77.233,-121.928,-90.319,null,-90.091,-157.857,-89.789,-76.779,-72.195,-158.016,-92.356,-71.072,-81.435,-80.204,-98.575,-96.907,-117.273,-87.431,-93.314,-104.996,-81.447,-95.291,-97.74,-93.298,-122.681,-104.874,-121.621,-96.165,-81.019,-82.894,-97.128,-122.1,-93.602,-98.623,-104.876,-84.254,-93.295,-118.95,-91.141,-81.579,-79.951,-122.646,-149.818,-83.408,-111.995,-112.477,-102.893,-122.351,-117.282,-76.987,-80.213,-85.582,-98.34,-112.102,-94.78,-122.31,-81.631,-88.415,-116.951,-81.677,-82.536,-91.937,-120.419,-77.848,-115.134,-98.572,-84.383,-121.022,-80.651,-80.872,-77.412,-79.137,-98.219,null,-90.04,-90.04,-118.352,-80.226,-81.575,-78.822,-122.972,-111.123,-84.407,-147.838,-84.117,-84.565,-149.883,-96.165,-81.203,-85.546,-117.974,-88.097,-85.85,-82.813,-89.916,-111.887,-104.64,-86.061,null,-93.797,-116.237,-106.597,-90.238,-98.74,-81.303,-111.98,null,-112.5,-102.53,-73.944,-102.455,-122.777,-83.574,-75.536,-82.196,-83.4,-93.276,-121.976,-78.55,-104.844,null,-83.807,-104.77,-119.783,-105.006,-112.134,-89.443,-118.239,-117.195,null,-84.195,-82.434,-96.947,-121.825,null,-117.238,-121.3,null,-111.836,-87.92,-119.79,-81.086,-122.331,-112.083,-95.993,-87.718,-81.1,null,-96.413,-118.305,-88.406,-85.58,-80.105,-80.244,-89.999,-118.155,-110.963,-117.922,-97.288,-122.214,-118.198,-70.2,-90.882,null,null,-81.787,-89.621,-95.328,null,-87.575,-117.655,-86.608,-101.831,-70.439,-122.214,-95.917,-122.298,-93.745,-97.341,-122.062,-117.047,-106.545,-90.553,-120.997,-118.27,-118.2,-120.992,-118.098,-90.23,-82.792,-119.805,-97.241,-122.685,-117.154,-82.574,null,-98.469,-94.629,-81.286,-89.994,-96.926,-92.127,-119.266,-122.207,-87.001,-120.306,-95.395,-111.003,-97.507,-106.743,-96.802,-105.146,-98.302,-95.851,-82.951,-121.777,-83.729,-71.063,-102.645,-98.482,-80.197,-81.641,-83.395,-95.956,-104.574,-95.555,-90.051,-94.986,-104.925,-83.399,-93.206,-106.55,-82.097,-122.648,-93.765,-106.429,-105.158,-111.982,-119.3,-82.414,-87.228,-81.753,-118.981,-77.431,-121.266,-116.411,-117.425,-81.662,-90.025,-122.197,-80.115,-79.863,-96.717,-95.457,-95.457,-95.764,-86.81,null,-90.153,-97.454,-95.105,-106.658,-122.438,-90.398,-74.001,-80.005,-104.77,-91.207,null,-95.156,-122.651,-112.062,-98.529,-95.81,-118.331,-75.545,-97.097,-81.633,-93.294,-104.771,-71.031,-82.7,-119.725,-83.955,-84.184,null,-118.881,-74.221,-88.519,-116.969,-94.63,null,null,-85.796,null,-82.443,-105.038,null,null,-87.32,-76.395,-96.749,-118.175,-87.924,-118.418,-117.968,-84.575,-117.955,-84.239,-81.924,-111.958,-122.884,-83.986,-149.911,-90.655,-76.597,-97.627,-73.794,-73.794,-75.537,-90.347,-78.69,-93.333,-102.379,-105.01,-73.919,-113.991,-82.234,-88.268,-116.801,-90.241,null,-94.432,-122.409,-97.621,-110.719,-91.114,-95.364,-94.462,-118.575,-100.409,-97.103,-101.722,null,-93.152,-95.783,-82.212,-97.198,-95.528,-87.076,-73.973,-74.083,-90.024,-83.82,-96.665,-85.102,-94.138,-89.942,-81.334,-117.933,-96.713,-76.655,-71.106,-104.868,-80.394,-73.846,-91.758,-94.713,-116.432,-83.832,-87.798,null,-97.521,-81.639,-96.937,-118.073,-94.313,-94.128,-111.978,-97.568,-92.015,-95.864,null,-78.833,-118.042,-97.413,-112.544,-106.557,-91.124,-79.935,-119.758,-73.99,-114.704,-84.146,-79.962,-118.457,-73.878,-122.479,-92.065,-91.061,-111.988,-74.171,-95.761,-90.193,-116.234,-84.293,-122.974,-115.119,-105.016,null,-73.947,-85.488,-83.961,-83.338,-87.552,-73.906,-106.604,-84.963,-115.57,-84.925,-121.33,-86.751,-87.504,-76.611,-82.244,-119.786,-85.119,-121.85,-102.372,-105.968,-80.422,-112.021,-106.56,-112.152,-106.752,-87.568,-90.82,-94.967,-95.981,-98.634,-78.934,-81.729,-85.805,-80.768,-81.202,-121.874,-81.558,-105.062,-82.028,-97.707,-158.077,-77.912,-81.593,-118.244,-88.494,-80.842,-71.588,-81.584,-117.389,-111.858,-119.177,-94.495,-90.079,-118.256,-116.382,-87.599,-87.895,-121.925,-78.61,-81.219,-104.649,-85.549,-118.338,-82.531,-94.315,-82.459,null,-104.508,-122.359,-123.091,-82.144,null,-81.06,-118.056,-97.337,-96.69,-94.545,-76.173,-94.386,-105.027,-94.161,-79.55,-89.025,-95.109,-90.246,-98.976,-117.903,-85.644,-82.402,-81.633,-87.971,-81.467,-97.538,-157.882,-118.192,-117.334,-77.848,-86.621,-158.11,-96.007,-85.995,-121.752,-81.505,-81.685,-73.238,-111.926,-110.712,-85.093,-79.882,-122.387,-112.226,-92.526,-98.504,-84.509,-90.0,-81.78,-76.677,-82.214,-118.985,-82.569,-122.665,-103.203,-134.582,-115.57,-91.96,null,-90.661,-90.79,-122.316,-76.875,-122.993,-105.03,-121.061,-94.345,-115.188,-87.777,-73.07,-87.561,-75.438,-101.902,-79.757,-112.075,-106.565,-104.831,null,-90.627,null,-73.984,null,-88.229,-117.351,-117.422,-107.324,-118.414,-87.368,-114.017,null,-89.651,-72.953,-84.701,-117.95,-86.871,null,-81.658,-88.418,-97.132,-105.07,-111.849,-97.502,-81.089,-95.554,null,null,-84.344,-74.331,-100.462,-117.08,-88.169,-104.791,-83.026,null,null,-111.926,-110.998,-82.566,-79.386,-75.385,-151.38,-94.547,-82.487,-97.132,-96.418,-119.635,-95.669,-82.146,-96.107,-94.546,-81.156,-87.669,-90.795,-92.027,-86.278,-76.549,-102.786,-101.829,-119.716,-122.775,-117.369,-70.936,-118.181,-81.458,-86.144,-82.78,-109.946,-81.459,-122.236,-83.969,-105.096,-90.764,-112.116,-107.759,-87.938,-100.193,-98.172,-87.694,-93.764,-73.743,-112.433,-117.848,-94.587,-82.616,-104.703,-94.938,-117.92,-93.264,-112.064,-81.656,-119.317,-104.605,-118.551,-117.898,-95.178,-80.592,-93.83,-119.506,null,-85.779,-77.616,-80.003,-84.525,-80.175,-95.976,-119.813,-75.195,-118.335,-95.27,-149.597,-119.377,-81.426,-151.743,-77.206,-85.817,null,-86.311,-105.573,-85.857,-123.045,-121.258,-104.625,null,-118.161,null,-93.821,-80.426,-84.376,-99.753,null,null,null,-75.979,-118.17,-111.967,-73.937,-122.958,-106.363,-115.973,-80.401,null,-81.625,null,-76.587,-117.737,-82.549,-78.996,null,-88.408,null,-111.823,-72.511,-80.319,-96.83,null,-80.176,-122.359,null,-112.317,-90.188,-93.971,null,-86.101,-102.44,-121.808,-75.189,-75.664,-81.676,null,-90.186,null,null,-77.203,-96.128,-82.046,null,null,-101.822,-87.894,-122.13,null,-94.02,-115.085,-104.813,-115.153,-95.304,-79.746,-102.683,-118.264,-95.519,-115.132,-81.577,-122.269,-76.965,-95.287,-83.873,-112.556,-82.422,-115.311,-120.187,-85.708,-118.263,-104.949,-117.165,-122.332,-80.13,-92.378,-122.522,-70.265,-121.902,-94.683,-103.207,-118.13,-95.387,-90.353,-94.541,-115.088,null,-98.615,-86.202,-122.187,-104.905,-118.182,-86.199,-119.335,-76.979,-78.102,-108.515,-82.383,-117.687,-81.266,-78.587,-95.366,-118.289,-103.167,-104.577,-89.522,-76.44,-95.528,-119.072,-90.915,-88.372,-88.164,-85.035,-83.691,-80.741,-122.062,-112.056,-111.9,-74.445,-74.162,-95.308,-111.974,-121.001,-95.116,-120.422,-84.557,-97.434,-84.299,-117.975,-95.317,null,-90.064,-104.88,-92.213,-122.765,-82.394,-118.162,-117.092,-75.08,-83.991,-118.162,-88.731,-115.142,-94.19,-122.257,null,-94.618,-97.451,-92.47,-73.773,-122.167,-85.017,-73.214,-117.93,null,-104.998,-81.409,null,null,null,-84.4,-87.322,-93.27,-94.528,-117.25,-118.092,-95.236,-87.876,-112.1,-118.158,-118.473,-105.043,-108.535,-81.094,-94.79,null,null,-121.877,-104.819,-116.355,null,-96.64,-117.699,-117.749,-96.75,-95.151,-84.446,-79.995,-81.776,-115.754,-85.459,-84.696,-82.72,-117.159,-122.191,-102.161,null,-94.418,-107.876,-94.521,-87.725,-112.208,-117.731,-85.386,-87.976,-75.074,-119.776,-95.429,-88.519,-83.146,-85.804,-104.858,-82.436,-79.918,-84.293,-93.595,-83.926,-107.745,-74.487,-121.374,-85.718,-122.353,-99.812,-108.72,-95.333,-87.623,-86.113,-116.983,-97.548,-121.418,-88.249,-83.046,-80.457,-111.877,-80.618,-86.069,-82.814,-115.125,-122.207,-93.208,-98.312,-83.168,null,-80.806,-118.388,-112.019,null,-122.663,-100.509,-74.474,-122.177,null,-81.401,null,-95.94,-112.058,-93.709,-111.804,-106.282,-122.24,-115.064,-79.586,-98.331,-118.536,-112.111,-80.158,-80.175,-118.149,-87.07,-120.618,-116.959,-97.111,-117.299,-116.995,-78.895,-77.211,-81.556,-114.295,-97.63,-95.969,-92.072,-74.012,-92.001,-121.318,-99.745,-106.57,-81.208,-83.978,-117.56,-98.712,-95.394,-111.892,-76.764,-117.879,-119.696,-118.296,-108.036,-87.633,-117.987,-76.148,-116.832,-85.272,-87.747,null,-80.085,-115.173,-82.506,-117.319,-105.036,-76.314,-111.883,-104.94,-81.391,-117.174,-117.985,-111.914,-81.495,-122.222,-122.127,-90.224,-110.782,-84.368,-83.406,-90.166,-120.698,null,-81.512,-111.883,-94.185,-84.235,null,-84.374,-118.174,-122.938,-78.901,-96.069,-117.069,-106.764,-119.071,-75.176,-73.933,-85.816,-92.888,-97.63,-95.309,-122.42,-108.572,null,-118.994,-90.733,-81.531,-118.283,null,null,-96.756,-118.265,-90.568,-81.764,-81.436,-80.329,-119.821,-112.298,-79.677,-71.661,-117.118,-87.833,-87.426,-82.402,-82.641,-111.757,null,-117.017,-87.717,null,null,null,-117.047,-99.464,null,-83.829,-83.047,-94.19,-75.244,-77.044,-80.165,-112.017,-85.112,-115.098,-110.998,-118.98,-122.663,-123.02,-85.22,-104.941,-122.263,-94.986,-118.293,-93.28,-70.963,-71.135,-115.05,-122.173,-104.79,-90.152,-81.645,-83.134,-95.851,-119.27,-115.579,-86.568,-117.368,-114.035,-87.567,-76.671,-122.208,-93.971,-119.034,-76.883,-109.056,-97.528,-75.121,-89.093,-81.647,-105.488,-109.392,-87.235,-121.424,-71.5,-118.318,-80.164,-85.234,-86.556,-81.333,-76.868,-80.202,-95.953,-106.678,-98.48,-90.335,-75.273,-80.946,-85.946,-91.468,-116.977,-107.762,-98.377,-102.03,-122.834,-117.29,-84.463,-112.112,-100.475,-87.197,-81.948,-82.968,-82.671,-82.974,-82.572,-74.006,-83.52,-92.571,-117.904,-90.26,-84.138,-115.286,-122.417,-82.32,-94.977,-103.359,-88.837,-75.117,-87.401,-102.38,-115.591,-95.474,-81.689,-87.47,-111.9,-121.534,-95.249,-95.372,-96.016,-80.709,-81.317,-83.522,-122.205,-81.071,-116.557,-85.679,-118.353,-119.032,-149.803,-88.062,-89.523,-122.342,null,-95.315,-72.678,-116.928,-117.32,-157.797,-71.031,-123.933,-102.306,-112.117,-79.943,-121.04,-117.246,-111.981,-97.355,null,-75.285,-87.799,-94.172,-74.202,-120.282,-118.09,-80.475,-111.321,-86.581,-71.207,-117.436,-95.426,-97.726,-77.009,-122.764,-72.685,-84.113,-77.198,-87.69,-112.013,-94.217,-87.509,-98.189,-84.388,-105.101,null,null,-77.405,-95.025,-106.582,-121.324,-85.634,-98.404,-112.428,-83.55,-104.716,-119.748,-86.832,-111.013,-73.855,-96.29,-121.83,-86.486,-82.537,-98.431,-117.47,-104.583,-88.038,-98.534,null,null,-121.841,-94.739,-110.968,-89.535,-88.709,-88.159,null,-106.795,-97.623,-76.645,-80.042,-122.67,-121.064,-79.856,-73.12,-84.296,-118.198,-111.973,-111.875,-112.151,-122.381,-97.09,-112.009,-89.519,-81.208,-75.491,-97.681,-81.587,-82.837,-89.087,-95.408,-77.085,-93.099,-69.639,-80.284,-112.449,-117.444,null,-106.286,-105.544,-118.011,-116.292,null,null,-82.231,-83.401,null,null,-75.456,null,null,-96.643,-96.643,-91.724,-106.586,null,-93.193,-81.624,-85.043,-82.084,null,-122.799,-109.096,-83.347,null,-76.624,-121.549,-80.336,-92.131,null,-87.302,-78.482,-98.452,-87.09,-94.937,-81.751,-95.37,null,-82.268,-147.87,-81.942,-118.338,-124.111,-117.344,-77.617,null,-121.991,null,-86.781,-84.191,-91.988,null,null,-80.613,-100.81,-118.187,null,-118.256,-122.065,-96.548,-87.143,-95.65,-118.274,-85.282,-83.666,null,null,null,null,-122.051,-87.808,null,null,-77.032,null,null,null,-90.519,-75.977,-104.564,-71.005,-120.458,-118.264,-97.407,-81.743,-82.211,-72.353,-94.449,-119.301,-87.757,-105.116,-90.582,-121.94,-117.588,-79.013,-123.046,-118.202,-77.007,-104.87,-117.215,-112.221,-123.26,-73.914,-86.841,-98.246,-75.077,-80.196,-122.391,-75.147,-84.317,-116.642,-84.534,-107.72,-90.21,-88.999,-97.933,null,-93.341,null,-84.992,-84.19,-82.946,-117.153,-67.867,-157.848,-98.468,-80.222,null,-87.539,null,-98.624,-98.624,-114.039,-122.06,-93.266,-97.296,-96.705,-82.968,null,-85.379,-98.486,-98.499,null,-71.77,-104.845,-108.628,-95.171,-86.831,-118.362,-118.943,null,-117.827,-90.982,-94.576,-77.017,-105.234,-87.143,-86.691,null,-81.665,-96.623,-97.583,-117.392,-71.903,null,-96.806,-80.092,-121.296,null,null,-96.476,-77.64,-103.091,-105.04,null,null,-86.8,-95.975,-102.779,-112.27,null,-86.141,-123.187,-104.97,null,-84.297,-84.854,null,-81.899,-121.872,-84.158,-91.115,-95.542,-80.954,-83.428,-83.357,-81.547,-96.301,-120.124,-90.008,-110.933,-76.986,-87.974,-94.706,null,-92.308,null,null,null,null,-85.793,-105.005,-110.973,-121.866,null,null,-84.514,-91.221,-105.102,-96.572,-93.195,-93.296,-118.045,-77.608,null,null,-95.993,-93.439,-84.29,null,-92.255,-97.687,-84.82,-106.062,-84.473,null,-111.901,null,-74.388,-84.721,-155.093,-104.885,-118.985,-90.151,-117.182,null,-79.246,-85.398,-93.109,-73.986,null,-84.502,-155.071,-117.297,-83.676,-97.342,-85.181,-94.65,-83.768,-105.08,null,-83.915,-111.871,-78.468,-90.559,null,-105.938,-105.993,-82.458,-118.077,-88.715,null,-122.661,-84.129,-83.835,-119.023,-147.864,-108.563,-122.342,null,null,-94.036,null,-98.59,-99.298,-104.561,-97.41,-104.931,-117.918,-122.192,null,-97.295,-84.385,-84.624,null,null,-82.401,-94.988,-74.753,-81.273,null,-120.659,-95.293,-84.767,-105.922,-122.855,-73.918,-122.987,-87.743,-84.183,-75.958,-108.696,-117.651,-87.235,-106.242,-76.75,-95.263,null,-118.336,-77.165,-81.084,-105.235,-90.067,-87.853,-95.474,null,null,null,-76.781,-112.017,null,-98.715,-75.129,-117.079,-116.215,-84.475,-92.391,-85.879,null,-87.607,null,null,null,-82.527,-81.539,-119.201,-75.299,null,-77.056,-82.392,-117.862,-72.319,-122.361,-86.865,-94.456,-117.946,-119.057,null,-76.546,-83.086,-117.841,-112.324,-86.926,-98.502,-118.675,-105.006,null,-119.035,-98.397,-71.02,-85.336,-89.571,-82.678,-106.55,-117.015,-81.106,-89.939,-105.075,-105.11,-75.104,-84.559,-117.226,-104.98,-160.007,-116.941,-101.82,-95.449,-90.005,-87.936,-79.899,-111.323,-84.459,-87.64,-77.005,-72.97,-118.391,-121.959,-124.163,-81.294,-149.511,-87.964,-122.683,-157.852,-85.978,-117.231,-94.393,-74.817,-114.337,-84.399,-117.303,null,-80.183,-80.653,-77.032,-86.074,-104.51,-95.367,-105.053,-87.95,-104.829,-106.735,-122.537,-78.95,-82.748,-121.571,-124.122,-92.854,-76.982,-111.881,-95.682,-93.763,-78.83,-98.271,-84.538,-122.221,-97.108,-112.03,-94.451,-95.498,-90.415,null,-117.048,-95.205,-85.0,-90.21,-80.507,-84.471,null,-87.634,-95.313,-115.136,-76.591,-84.291,-89.839,-96.676,-118.154,-82.607,null,-86.169,-119.239,-84.28,-96.676,-70.227,-122.514,-117.885,null,-111.937,-82.897,-86.245,-98.716,-85.164,-82.981,-104.766,-115.018,-118.57,-115.199,-90.726,null,-110.97,-118.322,null,null,-77.632,-97.996,-90.821,-80.851,-91.193,null,null,null,null,-120.466,-83.714,-106.794,-85.098,null,-82.539,-69.766,-90.57,null,null,-77.588,-116.546,-82.65,-81.783,-99.471,-80.06,-94.399,-122.548,-93.316,-76.988,null,-87.254,-76.183,-97.094,null,-84.232,-80.345,null,null,-108.534,-92.474,-87.494,null,null,-88.749,-85.699,-116.205,-75.24,-92.395,-96.758,-104.819,-90.236,-118.436,-90.694,-84.615,-91.516,-112.193,-95.905,-80.718,null,-76.861,-88.074,-73.991,null,-76.569,-79.699,-75.108,-122.223,-71.077,null,null,null,null,null,null,null,null,null,null,null,null,null,null,null,null,null,null,null,null,null,null,null,null,null,null,null,null,null,null,null,null,null,null,null,null,null,null,null,null,null,null,null,null,null,null,null,null,null,null,null,null,null,null,null,null,null,null,null,null,null,null,null,null,null,null,null,null,null,null,-83.666,-104.8,-75.314,null,null,null,null,null,null,null,null,null,null,null,null,null,null,null,null,null,null,null,null,null,null,null,null,-96.984,null,null,null,null,null,null,null,null,null,null,null,null,null,null,-76.879,null,null,null,null,null,null,null,null,null,null,null,null,null,null,null,-122.562,null,null,null,null,null,null,null,null,null,null,null,null,null,null,-120.826,null,-159.541,null,null,-83.811,null,null,null,null,null,null,null,null,null,null,-84.538,-117.696,null,null,-104.806,null,null,null,null,null,null,null,-106.176,null,null,null,-101.88,null,null,null,null,null,null,null,null,null,null,null,null,null,null,-83.712,null,-103.141,-119.8,null,-95.514,-106.204,-122.435,-106.797,null,-95.913,-112.137,-95.286,-119.394,-70.0,-79.586,-81.752,-97.49,null,-85.206,-118.151,-85.961,null,-97.705,-112.28,-85.634,-104.777,-80.213,-94.494,-84.634,-94.413,-80.307,-90.404,null,-83.885,null,-118.006,null,-106.65,-88.138,-98.527,-88.185,-122.435,-80.522,-97.18,-122.486,-122.288,-90.538,-81.714,-77.387,-85.731,-101.418,-106.269,-75.075,-81.055,-106.498,-97.716,-111.283,-85.59,-94.03,-105.498,-121.622,-111.829,-80.178,-73.263,-96.678,-103.245,-80.393,-111.944,-114.57,-104.422,-110.809,-119.788,-76.308,-149.62,-92.964,-84.29,-122.88,-96.752,-76.421,null,-106.67,-97.274,-84.749,-81.141,-88.597,-83.195,-87.756,-110.864,-90.742,-87.726,-85.638,-117.506,-117.506,-104.767,-88.626,-97.755,-84.573,-118.452,-106.533,-79.034,-81.72,-117.475,-86.442,-83.301,-108.187,-117.89,-111.755,-81.089,-84.502,-123.017,-95.904,-80.79,-82.213,-79.84,-112.186,-118.253,-105.117,-96.921,-84.463,-108.052,-95.162,-95.451,-121.547,-95.196,-83.745,-119.02,-77.061,-92.878,-73.891,-102.319,-90.954,-95.094,-101.793,-75.69,-122.761,-104.748,-81.471,-81.756,-95.27,-118.781,-84.505,-73.91,-84.125,-96.735,-102.117,-94.761,-84.229,-122.316,-76.471,-118.169,-79.391,-95.647,-110.255,-80.127,-78.599,-120.314,-94.144,-95.993,-114.626,-73.895,-82.488,-96.825,-89.578,-73.889,-80.06,-71.622,-102.004,-81.075,-86.111,-88.356,-84.37,-95.294,-90.03,-111.963,-81.431,-75.527,-81.628,-95.036,-119.831,-84.579,-92.288,-87.789,-85.812,-81.961,-80.302,-119.413,-108.552,-111.68,-84.491,-82.948,-97.478,-122.36,-117.718,-104.787,-93.238,-80.377,-108.506,-82.013,-83.378,-79.479,-81.61,-80.431,-105.008,-121.854,-122.213,-101.858,-118.294,-110.167,-81.111,-74.016,-88.202,-86.592,-80.755,-120.346,-68.014,-82.911,-87.899,-86.056,-78.9,-82.155,-111.645,-81.53,-122.301,-84.504,-83.357,-97.694,-124.213,-116.49,-80.434,-108.086,-112.469,-80.519,-85.83,-122.609,-119.742,-109.331,-98.14,-122.253,-118.432,-71.433,-82.452,-97.067,-95.378,-117.399,-117.436,-68.512,-121.805,null,-95.665,null,null,null,null,null,null,null,null,-96.96,-106.27,null,-77.176,null,null,null,null,null,null,null,null,null,null,null,null,null,null,null,null,null,null,null,null,-93.243,null,null,-121.656,-91.024,-104.964,-117.557,-80.161,-120.95,-117.99,-106.576,-69.234,-104.984,null,null,null,null,null,null,null,null,null,null,null,null,null,null,null,null,null,null,null,null,null,null,null,-122.534,-96.683,-122.903,null,null,null,null,null,null,null,null,null,-82.289,null,null,-121.776,-104.983,-80.388,-120.262,-81.402,-94.555,-93.591,-95.31,-91.073,-96.76,null,null,null,-108.765,null,null,null,null,null,null,null,null,-87.78,-110.981,-122.844,-119.763,-95.479,-90.312,-94.258,-95.166],\"marker\":{\"color\":\"#EF553B\",\"symbol\":\"circle\"},\"mode\":\"markers\",\"name\":\"Age between 18 and 40\",\"showlegend\":true,\"type\":\"scattergeo\"},{\"geo\":\"geo\",\"hovertemplate\":\"Age_of_the_Person=Age less than 18<br>latitude=%{lat}<br>longitude=%{lon}<extra></extra>\",\"lat\":[35.877,32.495,39.754,43.599,39.299,32.53,42.756,41.529,30.379,42.452,41.761,36.83,35.951,27.82,39.074,42.14,32.301,40.469,28.36,29.595,37.15,40.279,38.253,39.817,38.658,34.019,38.704,35.45,33.718,25.507,28.03,35.551,31.125,37.365,40.028,33.779,33.917,35.352,40.398,34.063,30.396,39.001,37.241,32.94,29.641,35.331,39.309,41.867,33.798,38.654,45.14,33.478,35.291,30.706,38.634,37.368,33.935,29.999,null,40.043,34.038,33.945,37.704,39.963,40.767,40.767,33.939,34.0,34.592,32.504,36.971,39.179,39.998,39.312,41.856,40.68,36.679,40.034,47.408,33.742,33.887,39.287,34.695,45.536,44.416,40.673,40.702,39.9,37.661,40.328,36.801,33.553,29.878,null,32.712,42.934,32.957,41.175,39.578,36.151,41.76,34.582,34.712,35.226,41.583,41.659,34.25,25.707,38.81,37.356,45.059,46.597,36.831,30.451,38.677,39.163,29.552,34.806,null,38.857,29.495,33.939,33.928,37.568,40.529,36.189,40.397,29.289,44.891,35.926,38.564,47.385,28.624,37.58,37.152,34.023,29.784,null,40.299,36.093,29.44,39.786,null,30.027,35.058,39.595,41.245,39.973,30.429,28.039,34.194,38.366,null,33.744,30.126,41.854,45.612,29.403,38.566,null,35.65,33.461,39.053,42.7,46.73,34.03,33.854,32.533,32.766,32.427,30.053,null,33.784,33.573,36.056,27.445,33.408,36.34,46.245,43.694,29.675,30.372,39.556,39.972,43.064,61.217,40.089,30.663,36.738,null,34.047,33.937,33.89,30.255,33.775,40.612,32.171,38.846,33.926,35.951,33.942,28.374,null,30.282,35.388,40.662,33.725,33.311,null,37.803,30.689,35.77,42.981,42.981,41.81,41.85,21.275,35.99,38.3,39.917,null,37.624,null,34.784,36.969,39.908,32.735,null,null,34.0,28.148,27.741,null,null,null,null,38.795,null,null,29.738,32.046,32.176,37.024,40.019,30.25,29.199,29.345,null,null,36.069],\"legendgroup\":\"Age less than 18\",\"lon\":[-97.423,-94.746,-104.909,-83.873,-76.44,-86.362,-84.837,-81.609,-81.68,-87.845,-87.572,-76.34,-78.526,-82.659,-108.556,-83.216,-96.864,-86.165,-80.792,-95.519,-122.127,-76.571,-85.752,-86.08,-90.256,-117.593,-104.694,-97.413,-116.235,-80.413,-82.516,-87.552,-92.05,-120.425,-75.179,-84.387,-118.082,-80.851,-77.034,-118.294,-97.667,-94.288,-79.995,-96.856,-82.405,-77.634,-76.61,-87.711,-84.564,-90.219,-89.152,-117.09,-80.757,-88.096,-121.333,-121.807,-118.249,-90.175,null,-74.293,-118.215,-118.281,-97.444,-82.987,-74.184,-74.184,-118.307,-118.25,-92.601,-85.004,-121.791,-94.594,-83.01,-76.657,-87.978,-73.961,-121.635,-76.301,-122.296,-117.871,-98.527,-76.647,-85.807,-122.578,-69.666,-73.876,-73.92,-105.042,-122.065,-122.281,-119.772,-112.172,-95.645,null,-96.615,-85.636,-117.226,-73.199,-104.896,-95.861,-87.624,-118.112,-86.612,-90.199,-87.401,-87.587,-91.988,-80.428,-77.662,-120.583,-123.609,-90.65,-86.545,-89.14,-90.212,-75.558,-98.257,-92.266,null,-94.694,-95.058,-118.296,-102.335,-122.024,-89.279,-115.021,-79.839,-94.827,-93.584,-95.883,-104.474,-122.233,-81.543,-120.801,-80.512,-117.116,-95.271,null,-111.682,-119.197,-98.528,-105.11,null,-95.53,-106.569,-104.876,-111.995,-82.967,-81.657,-81.95,-118.429,-104.713,null,-84.404,-81.795,-87.626,-122.561,-98.461,-90.242,null,-97.51,-112.048,-77.107,-87.794,-122.941,-118.144,-117.913,-94.808,-97.229,-104.252,-99.134,null,-118.134,-112.206,-115.037,-80.332,-111.788,-94.254,-119.112,-70.791,-95.336,-81.687,-119.762,-82.913,-88.045,-149.889,-82.995,-97.68,-78.479,null,-81.043,-118.294,-118.304,-81.815,-84.561,-111.952,-110.992,-77.003,-84.175,-79.981,-118.073,-80.765,null,-81.73,-97.53,-73.913,-84.406,-111.836,null,-77.921,-88.212,-95.394,-76.075,-76.075,-87.684,-87.708,-157.825,-83.887,-76.634,-82.839,null,-120.93,null,-91.9,-82.734,-75.269,-97.435,null,null,-118.068,-82.757,-97.429,null,null,null,null,-90.679,null,null,-95.517,-102.171,-111.079,-94.736,-75.087,-92.032,-99.789,-98.6,null,null,-79.872],\"marker\":{\"color\":\"#00cc96\",\"symbol\":\"circle\"},\"mode\":\"markers\",\"name\":\"Age less than 18\",\"showlegend\":true,\"type\":\"scattergeo\"},{\"geo\":\"geo\",\"hovertemplate\":\"Age_of_the_Person=Age greater than 60<br>latitude=%{lat}<br>longitude=%{lon}<extra></extra>\",\"lat\":[34.542,40.405,29.031,37.565,30.167,45.036,35.266,46.159,33.564,41.45,30.461,29.993,33.638,37.176,36.092,35.404,38.446,36.897,36.211,33.933,47.838,33.631,35.633,37.08,36.446,33.597,41.289,39.398,29.689,37.511,41.326,38.265,40.908,41.338,34.933,37.386,33.477,36.669,44.813,38.855,38.909,33.593,41.063,38.811,37.567,39.095,34.985,37.53,39.469,34.659,37.291,41.05,44.477,29.873,44.824,null,45.389,33.593,46.609,37.095,41.656,38.943,21.303,35.178,null,32.411,34.922,38.307,null,36.155,34.203,33.726,40.599,39.602,38.851,36.377,47.317,37.354,37.292,28.558,41.042,41.073,40.819,39.161,39.938,35.365,35.301,36.147,30.048,29.543,40.643,37.602,38.983,39.498,38.583,40.331,null,34.041,40.259,44.245,38.311,27.439,35.74,34.527,39.754,33.405,36.2,44.482,36.222,35.881,39.39,32.68,35.819,25.744,33.06,null,43.03,44.068,34.773,27.615,31.759,37.956,43.532,35.203,41.583,33.775,35.548,35.407,34.03,33.415,30.438,28.089,45.05,40.847,29.637,null,29.37,40.808,26.245,35.331,42.883,34.939,28.944,37.101,33.637,36.038,32.555,43.588,39.647,33.598,35.198,35.225,25.515,null,38.831,30.421,31.639,29.669,35.812,35.933,33.163,33.639,33.06,43.245,31.826,43.026,35.528,40.05,32.807,40.057,40.076,39.093,39.077,34.231,38.174,34.187,36.606,36.428,35.472,36.183,34.009,39.671,28.78,39.438,35.318,31.066,31.783,33.335,40.648,33.804,36.073,43.089,39.194,26.96,null,33.899,44.791,36.862,39.676,null,41.146,null,41.103,34.728,32.677,34.328,38.795,30.962,34.081,39.292,33.763,45.595,null,33.998,39.375,36.357,34.177,32.025,33.063,43.016,26.942,35.976,33.102,33.102,27.25,30.303,39.105,47.249,38.492,42.328,26.548,40.987,34.084,44.264,38.91,35.163,37.98,33.318,34.538,33.055,null,35.063,35.315,30.33,33.782,34.816,35.465,34.387,36.809,33.422,36.036,34.986,47.69,43.032,37.237,34.668,33.685,40.787,33.582,27.128,30.834,41.988,42.394,31.916,36.093,28.89,null,45.521,38.986,32.743,33.488,39.885,33.818,35.991,33.67,35.087,32.343,33.415,40.557,30.331,null,32.818,42.981,28.18,null,33.183,38.319,34.993,30.477,43.06,30.255,40.396,32.317,null,36.243,39.718,36.353,33.423,35.323,37.999,27.303,32.756,36.138,35.354,null,38.58,33.677,34.995,28.448,38.585,45.629,38.719,33.698,27.725,32.337,32.405,38.52,45.358,40.586,31.979,38.599,34.443,41.411,41.46,34.536,34.668,38.347,33.541,37.441,40.412,39.138,28.398,40.061,44.497,null,43.699,33.176,33.052,33.856,41.105,32.668,33.553,33.364,31.518,30.074,34.804,35.026,28.431,41.215,30.466,30.241,40.542,30.005,42.17,null,null,null,null,null,null,null,null,null,null,null,null,null,null,null,36.007,32.845,33.849,33.508,26.231,34.92,27.33,35.423,39.237,38.858,32.319,34.289,41.746,41.615,41.265,39.401,25.879,null,null,null,null,null,null,null,null,null,null,null,36.866,37.095],\"legendgroup\":\"Age greater than 60\",\"lon\":[-91.966,-74.301,-95.428,-82.921,-97.789,-93.386,-81.227,-68.104,-86.724,-81.641,-84.279,-90.265,-112.203,-88.677,-96.134,-97.34,-105.192,-94.887,-119.601,-84.087,-122.014,-112.257,-86.943,-119.659,-81.426,-112.1,-80.984,-101.04,-95.557,-77.791,-75.789,-77.17,-73.825,-81.445,-95.77,-84.419,-116.819,-85.365,-116.407,-76.968,-104.878,-112.298,-102.074,-90.239,-86.224,-84.546,-85.269,-122.052,-76.309,-93.691,-77.289,-85.133,-73.216,-97.669,-91.546,null,-122.776,-84.19,-87.688,-85.821,-71.199,-77.006,-157.842,-82.216,null,-87.033,-80.277,-77.444,null,-81.274,-81.262,-116.216,-105.077,-79.999,-81.399,-82.465,-122.21,-81.248,-122.009,-82.554,-81.563,-85.091,-73.854,-119.761,-77.661,-93.082,-119.09,-96.045,-81.925,-95.367,-73.897,-84.591,-94.569,-85.794,-90.232,-75.914,null,-118.257,-79.998,-86.329,-122.316,-82.568,-97.372,-112.478,-76.585,-84.56,-115.06,-69.808,-116.052,-83.89,-78.109,-116.512,-81.49,-80.328,-96.795,null,-88.256,-123.018,-112.455,-80.45,-86.181,-104.802,-89.309,-106.703,-73.396,-85.762,-87.552,-80.861,-95.875,-111.831,-88.953,-81.965,-93.344,-73.892,-95.754,null,-94.959,-73.92,-80.276,-91.969,-112.433,-85.312,-80.911,-94.51,-86.66,-95.805,-94.647,-84.826,-78.368,-117.707,-111.657,-114.014,-80.415,null,-93.754,-87.861,-93.955,-98.669,-80.354,-82.354,-86.28,-112.325,-84.405,-77.7,-92.932,-78.399,-113.231,-82.963,-96.679,-81.234,-76.299,-119.772,-108.511,-84.231,-85.762,-79.835,-82.162,-83.996,-94.368,-115.17,-118.257,-83.335,-82.242,-104.959,-106.544,-88.29,-106.326,-111.859,-111.997,-83.711,-83.182,-124.415,-76.651,-82.069,null,-117.517,-93.531,-119.78,-86.184,null,-112.055,null,-72.359,-81.587,-86.1,-83.885,-90.722,-87.483,-84.028,-80.349,-116.401,-121.162,null,-83.327,-76.541,-105.298,-77.9,-89.97,-95.46,-76.148,-82.298,-86.526,-97.126,-97.125,-80.402,-81.717,-94.631,-122.421,-85.775,-122.869,-80.091,-75.195,-86.78,-72.573,-86.573,-114.572,-121.261,-87.908,-117.327,-85.126,null,-85.112,-85.15,-97.679,-118.279,-77.561,-79.15,-80.087,-87.15,-82.242,-79.985,-82.556,-117.361,-89.494,-121.795,-118.076,-83.987,-74.075,-84.296,-82.455,-88.267,-77.265,-83.297,-106.441,-80.214,-81.27,null,-122.87,-119.163,-114.487,-86.7,-104.823,-84.277,-79.958,-96.617,-78.939,-86.196,-111.581,-79.755,-92.496,null,-96.934,-71.398,-80.677,null,-84.903,-87.279,-90.787,-84.3,-76.024,-81.465,-122.22,-106.775,null,-115.15,-84.143,-82.331,-111.719,-84.518,-121.228,-82.488,-79.988,-115.273,-119.009,null,-121.534,-116.296,-79.022,-82.603,-81.478,-88.359,-121.262,-111.874,-97.419,-95.285,-110.986,-78.019,-88.065,-122.348,-81.17,-77.319,-116.95,-86.469,-87.065,-117.293,-112.307,-121.986,-111.928,-100.015,-75.928,-76.442,-82.66,-79.436,-88.121,null,-86.0,-111.617,-86.77,-87.302,-76.879,-115.497,-112.117,-104.534,-97.203,-95.514,-85.025,-76.894,-81.345,-98.454,-97.64,-89.591,-88.983,-90.219,-75.125,null,null,null,null,null,null,null,null,null,null,null,null,null,null,null,-83.399,-83.643,-112.251,-84.366,-80.221,-81.978,-82.54,-76.316,-80.677,-104.917,-106.773,-86.227,-124.149,-88.123,-81.085,-76.6,-80.227,null,null,null,null,null,null,null,null,null,null,null,-83.889,-113.567],\"marker\":{\"color\":\"#ab63fa\",\"symbol\":\"circle\"},\"mode\":\"markers\",\"name\":\"Age greater than 60\",\"showlegend\":true,\"type\":\"scattergeo\"}],                        {\"template\":{\"data\":{\"bar\":[{\"error_x\":{\"color\":\"#2a3f5f\"},\"error_y\":{\"color\":\"#2a3f5f\"},\"marker\":{\"line\":{\"color\":\"#E5ECF6\",\"width\":0.5},\"pattern\":{\"fillmode\":\"overlay\",\"size\":10,\"solidity\":0.2}},\"type\":\"bar\"}],\"barpolar\":[{\"marker\":{\"line\":{\"color\":\"#E5ECF6\",\"width\":0.5},\"pattern\":{\"fillmode\":\"overlay\",\"size\":10,\"solidity\":0.2}},\"type\":\"barpolar\"}],\"carpet\":[{\"aaxis\":{\"endlinecolor\":\"#2a3f5f\",\"gridcolor\":\"white\",\"linecolor\":\"white\",\"minorgridcolor\":\"white\",\"startlinecolor\":\"#2a3f5f\"},\"baxis\":{\"endlinecolor\":\"#2a3f5f\",\"gridcolor\":\"white\",\"linecolor\":\"white\",\"minorgridcolor\":\"white\",\"startlinecolor\":\"#2a3f5f\"},\"type\":\"carpet\"}],\"choropleth\":[{\"colorbar\":{\"outlinewidth\":0,\"ticks\":\"\"},\"type\":\"choropleth\"}],\"contour\":[{\"colorbar\":{\"outlinewidth\":0,\"ticks\":\"\"},\"colorscale\":[[0.0,\"#0d0887\"],[0.1111111111111111,\"#46039f\"],[0.2222222222222222,\"#7201a8\"],[0.3333333333333333,\"#9c179e\"],[0.4444444444444444,\"#bd3786\"],[0.5555555555555556,\"#d8576b\"],[0.6666666666666666,\"#ed7953\"],[0.7777777777777778,\"#fb9f3a\"],[0.8888888888888888,\"#fdca26\"],[1.0,\"#f0f921\"]],\"type\":\"contour\"}],\"contourcarpet\":[{\"colorbar\":{\"outlinewidth\":0,\"ticks\":\"\"},\"type\":\"contourcarpet\"}],\"heatmap\":[{\"colorbar\":{\"outlinewidth\":0,\"ticks\":\"\"},\"colorscale\":[[0.0,\"#0d0887\"],[0.1111111111111111,\"#46039f\"],[0.2222222222222222,\"#7201a8\"],[0.3333333333333333,\"#9c179e\"],[0.4444444444444444,\"#bd3786\"],[0.5555555555555556,\"#d8576b\"],[0.6666666666666666,\"#ed7953\"],[0.7777777777777778,\"#fb9f3a\"],[0.8888888888888888,\"#fdca26\"],[1.0,\"#f0f921\"]],\"type\":\"heatmap\"}],\"heatmapgl\":[{\"colorbar\":{\"outlinewidth\":0,\"ticks\":\"\"},\"colorscale\":[[0.0,\"#0d0887\"],[0.1111111111111111,\"#46039f\"],[0.2222222222222222,\"#7201a8\"],[0.3333333333333333,\"#9c179e\"],[0.4444444444444444,\"#bd3786\"],[0.5555555555555556,\"#d8576b\"],[0.6666666666666666,\"#ed7953\"],[0.7777777777777778,\"#fb9f3a\"],[0.8888888888888888,\"#fdca26\"],[1.0,\"#f0f921\"]],\"type\":\"heatmapgl\"}],\"histogram\":[{\"marker\":{\"pattern\":{\"fillmode\":\"overlay\",\"size\":10,\"solidity\":0.2}},\"type\":\"histogram\"}],\"histogram2d\":[{\"colorbar\":{\"outlinewidth\":0,\"ticks\":\"\"},\"colorscale\":[[0.0,\"#0d0887\"],[0.1111111111111111,\"#46039f\"],[0.2222222222222222,\"#7201a8\"],[0.3333333333333333,\"#9c179e\"],[0.4444444444444444,\"#bd3786\"],[0.5555555555555556,\"#d8576b\"],[0.6666666666666666,\"#ed7953\"],[0.7777777777777778,\"#fb9f3a\"],[0.8888888888888888,\"#fdca26\"],[1.0,\"#f0f921\"]],\"type\":\"histogram2d\"}],\"histogram2dcontour\":[{\"colorbar\":{\"outlinewidth\":0,\"ticks\":\"\"},\"colorscale\":[[0.0,\"#0d0887\"],[0.1111111111111111,\"#46039f\"],[0.2222222222222222,\"#7201a8\"],[0.3333333333333333,\"#9c179e\"],[0.4444444444444444,\"#bd3786\"],[0.5555555555555556,\"#d8576b\"],[0.6666666666666666,\"#ed7953\"],[0.7777777777777778,\"#fb9f3a\"],[0.8888888888888888,\"#fdca26\"],[1.0,\"#f0f921\"]],\"type\":\"histogram2dcontour\"}],\"mesh3d\":[{\"colorbar\":{\"outlinewidth\":0,\"ticks\":\"\"},\"type\":\"mesh3d\"}],\"parcoords\":[{\"line\":{\"colorbar\":{\"outlinewidth\":0,\"ticks\":\"\"}},\"type\":\"parcoords\"}],\"pie\":[{\"automargin\":true,\"type\":\"pie\"}],\"scatter\":[{\"marker\":{\"colorbar\":{\"outlinewidth\":0,\"ticks\":\"\"}},\"type\":\"scatter\"}],\"scatter3d\":[{\"line\":{\"colorbar\":{\"outlinewidth\":0,\"ticks\":\"\"}},\"marker\":{\"colorbar\":{\"outlinewidth\":0,\"ticks\":\"\"}},\"type\":\"scatter3d\"}],\"scattercarpet\":[{\"marker\":{\"colorbar\":{\"outlinewidth\":0,\"ticks\":\"\"}},\"type\":\"scattercarpet\"}],\"scattergeo\":[{\"marker\":{\"colorbar\":{\"outlinewidth\":0,\"ticks\":\"\"}},\"type\":\"scattergeo\"}],\"scattergl\":[{\"marker\":{\"colorbar\":{\"outlinewidth\":0,\"ticks\":\"\"}},\"type\":\"scattergl\"}],\"scattermapbox\":[{\"marker\":{\"colorbar\":{\"outlinewidth\":0,\"ticks\":\"\"}},\"type\":\"scattermapbox\"}],\"scatterpolar\":[{\"marker\":{\"colorbar\":{\"outlinewidth\":0,\"ticks\":\"\"}},\"type\":\"scatterpolar\"}],\"scatterpolargl\":[{\"marker\":{\"colorbar\":{\"outlinewidth\":0,\"ticks\":\"\"}},\"type\":\"scatterpolargl\"}],\"scatterternary\":[{\"marker\":{\"colorbar\":{\"outlinewidth\":0,\"ticks\":\"\"}},\"type\":\"scatterternary\"}],\"surface\":[{\"colorbar\":{\"outlinewidth\":0,\"ticks\":\"\"},\"colorscale\":[[0.0,\"#0d0887\"],[0.1111111111111111,\"#46039f\"],[0.2222222222222222,\"#7201a8\"],[0.3333333333333333,\"#9c179e\"],[0.4444444444444444,\"#bd3786\"],[0.5555555555555556,\"#d8576b\"],[0.6666666666666666,\"#ed7953\"],[0.7777777777777778,\"#fb9f3a\"],[0.8888888888888888,\"#fdca26\"],[1.0,\"#f0f921\"]],\"type\":\"surface\"}],\"table\":[{\"cells\":{\"fill\":{\"color\":\"#EBF0F8\"},\"line\":{\"color\":\"white\"}},\"header\":{\"fill\":{\"color\":\"#C8D4E3\"},\"line\":{\"color\":\"white\"}},\"type\":\"table\"}]},\"layout\":{\"annotationdefaults\":{\"arrowcolor\":\"#2a3f5f\",\"arrowhead\":0,\"arrowwidth\":1},\"autotypenumbers\":\"strict\",\"coloraxis\":{\"colorbar\":{\"outlinewidth\":0,\"ticks\":\"\"}},\"colorscale\":{\"diverging\":[[0,\"#8e0152\"],[0.1,\"#c51b7d\"],[0.2,\"#de77ae\"],[0.3,\"#f1b6da\"],[0.4,\"#fde0ef\"],[0.5,\"#f7f7f7\"],[0.6,\"#e6f5d0\"],[0.7,\"#b8e186\"],[0.8,\"#7fbc41\"],[0.9,\"#4d9221\"],[1,\"#276419\"]],\"sequential\":[[0.0,\"#0d0887\"],[0.1111111111111111,\"#46039f\"],[0.2222222222222222,\"#7201a8\"],[0.3333333333333333,\"#9c179e\"],[0.4444444444444444,\"#bd3786\"],[0.5555555555555556,\"#d8576b\"],[0.6666666666666666,\"#ed7953\"],[0.7777777777777778,\"#fb9f3a\"],[0.8888888888888888,\"#fdca26\"],[1.0,\"#f0f921\"]],\"sequentialminus\":[[0.0,\"#0d0887\"],[0.1111111111111111,\"#46039f\"],[0.2222222222222222,\"#7201a8\"],[0.3333333333333333,\"#9c179e\"],[0.4444444444444444,\"#bd3786\"],[0.5555555555555556,\"#d8576b\"],[0.6666666666666666,\"#ed7953\"],[0.7777777777777778,\"#fb9f3a\"],[0.8888888888888888,\"#fdca26\"],[1.0,\"#f0f921\"]]},\"colorway\":[\"#636efa\",\"#EF553B\",\"#00cc96\",\"#ab63fa\",\"#FFA15A\",\"#19d3f3\",\"#FF6692\",\"#B6E880\",\"#FF97FF\",\"#FECB52\"],\"font\":{\"color\":\"#2a3f5f\"},\"geo\":{\"bgcolor\":\"white\",\"lakecolor\":\"white\",\"landcolor\":\"#E5ECF6\",\"showlakes\":true,\"showland\":true,\"subunitcolor\":\"white\"},\"hoverlabel\":{\"align\":\"left\"},\"hovermode\":\"closest\",\"mapbox\":{\"style\":\"light\"},\"paper_bgcolor\":\"white\",\"plot_bgcolor\":\"#E5ECF6\",\"polar\":{\"angularaxis\":{\"gridcolor\":\"white\",\"linecolor\":\"white\",\"ticks\":\"\"},\"bgcolor\":\"#E5ECF6\",\"radialaxis\":{\"gridcolor\":\"white\",\"linecolor\":\"white\",\"ticks\":\"\"}},\"scene\":{\"xaxis\":{\"backgroundcolor\":\"#E5ECF6\",\"gridcolor\":\"white\",\"gridwidth\":2,\"linecolor\":\"white\",\"showbackground\":true,\"ticks\":\"\",\"zerolinecolor\":\"white\"},\"yaxis\":{\"backgroundcolor\":\"#E5ECF6\",\"gridcolor\":\"white\",\"gridwidth\":2,\"linecolor\":\"white\",\"showbackground\":true,\"ticks\":\"\",\"zerolinecolor\":\"white\"},\"zaxis\":{\"backgroundcolor\":\"#E5ECF6\",\"gridcolor\":\"white\",\"gridwidth\":2,\"linecolor\":\"white\",\"showbackground\":true,\"ticks\":\"\",\"zerolinecolor\":\"white\"}},\"shapedefaults\":{\"line\":{\"color\":\"#2a3f5f\"}},\"ternary\":{\"aaxis\":{\"gridcolor\":\"white\",\"linecolor\":\"white\",\"ticks\":\"\"},\"baxis\":{\"gridcolor\":\"white\",\"linecolor\":\"white\",\"ticks\":\"\"},\"bgcolor\":\"#E5ECF6\",\"caxis\":{\"gridcolor\":\"white\",\"linecolor\":\"white\",\"ticks\":\"\"}},\"title\":{\"x\":0.05},\"xaxis\":{\"automargin\":true,\"gridcolor\":\"white\",\"linecolor\":\"white\",\"ticks\":\"\",\"title\":{\"standoff\":15},\"zerolinecolor\":\"white\",\"zerolinewidth\":2},\"yaxis\":{\"automargin\":true,\"gridcolor\":\"white\",\"linecolor\":\"white\",\"ticks\":\"\",\"title\":{\"standoff\":15},\"zerolinecolor\":\"white\",\"zerolinewidth\":2}}},\"geo\":{\"domain\":{\"x\":[0.0,1.0],\"y\":[0.0,1.0]},\"center\":{}},\"legend\":{\"title\":{\"text\":\"Age_of_the_Person\"},\"tracegroupgap\":0},\"margin\":{\"t\":60},\"title\":{\"text\":\"Killings on Map\",\"x\":1}},                        {\"responsive\": true}                    ).then(function(){\n",
              "                            \n",
              "var gd = document.getElementById('dca6fd9c-0ee7-4102-82b9-8784acb3303c');\n",
              "var x = new MutationObserver(function (mutations, observer) {{\n",
              "        var display = window.getComputedStyle(gd).display;\n",
              "        if (!display || display === 'none') {{\n",
              "            console.log([gd, 'removed!']);\n",
              "            Plotly.purge(gd);\n",
              "            observer.disconnect();\n",
              "        }}\n",
              "}});\n",
              "\n",
              "// Listen for the removal of the full notebook cells\n",
              "var notebookContainer = gd.closest('#notebook-container');\n",
              "if (notebookContainer) {{\n",
              "    x.observe(notebookContainer, {childList: true});\n",
              "}}\n",
              "\n",
              "// Listen for the clearing of the current output cell\n",
              "var outputEl = gd.closest('.output');\n",
              "if (outputEl) {{\n",
              "    x.observe(outputEl, {childList: true});\n",
              "}}\n",
              "\n",
              "                        })                };                            </script>        </div>\n",
              "</body>\n",
              "</html>"
            ]
          },
          "metadata": {}
        }
      ]
    },
    {
      "cell_type": "code",
      "source": [
        "forPlat=df1['city'].value_counts().reset_index().rename(columns={'index':'city','city':'deaths'}).head(20)\n",
        "\n",
        "sns.barplot(y=\"city\", x=\"deaths\", data=forPlat,\n",
        "            label=\"deaths\")"
      ],
      "metadata": {
        "colab": {
          "base_uri": "https://localhost:8080/",
          "height": 296
        },
        "id": "VBALbPw-O3eD",
        "outputId": "8bf79c81-d6ae-4509-8db1-80a96c7623c2"
      },
      "execution_count": 29,
      "outputs": [
        {
          "output_type": "execute_result",
          "data": {
            "text/plain": [
              "<matplotlib.axes._subplots.AxesSubplot at 0x7faaf482b690>"
            ]
          },
          "metadata": {},
          "execution_count": 29
        },
        {
          "output_type": "display_data",
          "data": {
            "text/plain": [
              "<Figure size 432x288 with 1 Axes>"
            ],
            "image/png": "[encoded data removed]"
          },
          "metadata": {
            "needs_background": "light"
          }
        }
      ]
    },
    {
      "cell_type": "code",
      "source": [
        "import plotly.graph_objects as pgo\n",
        "forPlat=df1['manner_of_death'].value_counts().reset_index().rename(columns={'index':'manner_of_death','manner_of_death':'count'})\n",
        "\n",
        "fig = pgo.Figure(pgo.Bar(\n",
        "    x=forPlat['manner_of_death'],y=forPlat['count'],marker_color='purple'\n",
        "))\n",
        "fig.update_layout(title_text='Reason of death',xaxis_title=\"manner of death\",yaxis_title=\"count\",height=750,width=750)\n",
        "fig.show()"
      ],
      "metadata": {
        "colab": {
          "base_uri": "https://localhost:8080/",
          "height": 767
        },
        "id": "syJ5RU8xS0W0",
        "outputId": "c64ec96f-f1ed-405c-a9aa-6ee375dde565"
      },
      "execution_count": 30,
      "outputs": [
        {
          "output_type": "display_data",
          "data": {
            "text/html": [
              "<html>\n",
              "<head><meta charset=\"utf-8\" /></head>\n",
              "<body>\n",
              "    <div>            <script src=\"https://cdnjs.cloudflare.com/ajax/libs/mathjax/2.7.5/MathJax.js?config=TeX-AMS-MML_SVG\"></script><script type=\"text/javascript\">if (window.MathJax) {MathJax.Hub.Config({SVG: {font: \"STIX-Web\"}});}</script>                <script type=\"text/javascript\">window.PlotlyConfig = {MathJaxConfig: 'local'};</script>\n",
              "        <script src=\"https://cdn.plot.ly/plotly-2.8.3.min.js\"></script>                <div id=\"6737b4ab-e5a9-425f-8feb-76f1625969da\" class=\"plotly-graph-div\" style=\"height:750px; width:750px;\"></div>            <script type=\"text/javascript\">                                    window.PLOTLYENV=window.PLOTLYENV || {};                                    if (document.getElementById(\"6737b4ab-e5a9-425f-8feb-76f1625969da\")) {                    Plotly.newPlot(                        \"6737b4ab-e5a9-425f-8feb-76f1625969da\",                        [{\"marker\":{\"color\":\"purple\"},\"x\":[\"shot\",\"shot and Tasered\"],\"y\":[7343,339],\"type\":\"bar\"}],                        {\"template\":{\"data\":{\"bar\":[{\"error_x\":{\"color\":\"#2a3f5f\"},\"error_y\":{\"color\":\"#2a3f5f\"},\"marker\":{\"line\":{\"color\":\"#E5ECF6\",\"width\":0.5},\"pattern\":{\"fillmode\":\"overlay\",\"size\":10,\"solidity\":0.2}},\"type\":\"bar\"}],\"barpolar\":[{\"marker\":{\"line\":{\"color\":\"#E5ECF6\",\"width\":0.5},\"pattern\":{\"fillmode\":\"overlay\",\"size\":10,\"solidity\":0.2}},\"type\":\"barpolar\"}],\"carpet\":[{\"aaxis\":{\"endlinecolor\":\"#2a3f5f\",\"gridcolor\":\"white\",\"linecolor\":\"white\",\"minorgridcolor\":\"white\",\"startlinecolor\":\"#2a3f5f\"},\"baxis\":{\"endlinecolor\":\"#2a3f5f\",\"gridcolor\":\"white\",\"linecolor\":\"white\",\"minorgridcolor\":\"white\",\"startlinecolor\":\"#2a3f5f\"},\"type\":\"carpet\"}],\"choropleth\":[{\"colorbar\":{\"outlinewidth\":0,\"ticks\":\"\"},\"type\":\"choropleth\"}],\"contour\":[{\"colorbar\":{\"outlinewidth\":0,\"ticks\":\"\"},\"colorscale\":[[0.0,\"#0d0887\"],[0.1111111111111111,\"#46039f\"],[0.2222222222222222,\"#7201a8\"],[0.3333333333333333,\"#9c179e\"],[0.4444444444444444,\"#bd3786\"],[0.5555555555555556,\"#d8576b\"],[0.6666666666666666,\"#ed7953\"],[0.7777777777777778,\"#fb9f3a\"],[0.8888888888888888,\"#fdca26\"],[1.0,\"#f0f921\"]],\"type\":\"contour\"}],\"contourcarpet\":[{\"colorbar\":{\"outlinewidth\":0,\"ticks\":\"\"},\"type\":\"contourcarpet\"}],\"heatmap\":[{\"colorbar\":{\"outlinewidth\":0,\"ticks\":\"\"},\"colorscale\":[[0.0,\"#0d0887\"],[0.1111111111111111,\"#46039f\"],[0.2222222222222222,\"#7201a8\"],[0.3333333333333333,\"#9c179e\"],[0.4444444444444444,\"#bd3786\"],[0.5555555555555556,\"#d8576b\"],[0.6666666666666666,\"#ed7953\"],[0.7777777777777778,\"#fb9f3a\"],[0.8888888888888888,\"#fdca26\"],[1.0,\"#f0f921\"]],\"type\":\"heatmap\"}],\"heatmapgl\":[{\"colorbar\":{\"outlinewidth\":0,\"ticks\":\"\"},\"colorscale\":[[0.0,\"#0d0887\"],[0.1111111111111111,\"#46039f\"],[0.2222222222222222,\"#7201a8\"],[0.3333333333333333,\"#9c179e\"],[0.4444444444444444,\"#bd3786\"],[0.5555555555555556,\"#d8576b\"],[0.6666666666666666,\"#ed7953\"],[0.7777777777777778,\"#fb9f3a\"],[0.8888888888888888,\"#fdca26\"],[1.0,\"#f0f921\"]],\"type\":\"heatmapgl\"}],\"histogram\":[{\"marker\":{\"pattern\":{\"fillmode\":\"overlay\",\"size\":10,\"solidity\":0.2}},\"type\":\"histogram\"}],\"histogram2d\":[{\"colorbar\":{\"outlinewidth\":0,\"ticks\":\"\"},\"colorscale\":[[0.0,\"#0d0887\"],[0.1111111111111111,\"#46039f\"],[0.2222222222222222,\"#7201a8\"],[0.3333333333333333,\"#9c179e\"],[0.4444444444444444,\"#bd3786\"],[0.5555555555555556,\"#d8576b\"],[0.6666666666666666,\"#ed7953\"],[0.7777777777777778,\"#fb9f3a\"],[0.8888888888888888,\"#fdca26\"],[1.0,\"#f0f921\"]],\"type\":\"histogram2d\"}],\"histogram2dcontour\":[{\"colorbar\":{\"outlinewidth\":0,\"ticks\":\"\"},\"colorscale\":[[0.0,\"#0d0887\"],[0.1111111111111111,\"#46039f\"],[0.2222222222222222,\"#7201a8\"],[0.3333333333333333,\"#9c179e\"],[0.4444444444444444,\"#bd3786\"],[0.5555555555555556,\"#d8576b\"],[0.6666666666666666,\"#ed7953\"],[0.7777777777777778,\"#fb9f3a\"],[0.8888888888888888,\"#fdca26\"],[1.0,\"#f0f921\"]],\"type\":\"histogram2dcontour\"}],\"mesh3d\":[{\"colorbar\":{\"outlinewidth\":0,\"ticks\":\"\"},\"type\":\"mesh3d\"}],\"parcoords\":[{\"line\":{\"colorbar\":{\"outlinewidth\":0,\"ticks\":\"\"}},\"type\":\"parcoords\"}],\"pie\":[{\"automargin\":true,\"type\":\"pie\"}],\"scatter\":[{\"marker\":{\"colorbar\":{\"outlinewidth\":0,\"ticks\":\"\"}},\"type\":\"scatter\"}],\"scatter3d\":[{\"line\":{\"colorbar\":{\"outlinewidth\":0,\"ticks\":\"\"}},\"marker\":{\"colorbar\":{\"outlinewidth\":0,\"ticks\":\"\"}},\"type\":\"scatter3d\"}],\"scattercarpet\":[{\"marker\":{\"colorbar\":{\"outlinewidth\":0,\"ticks\":\"\"}},\"type\":\"scattercarpet\"}],\"scattergeo\":[{\"marker\":{\"colorbar\":{\"outlinewidth\":0,\"ticks\":\"\"}},\"type\":\"scattergeo\"}],\"scattergl\":[{\"marker\":{\"colorbar\":{\"outlinewidth\":0,\"ticks\":\"\"}},\"type\":\"scattergl\"}],\"scattermapbox\":[{\"marker\":{\"colorbar\":{\"outlinewidth\":0,\"ticks\":\"\"}},\"type\":\"scattermapbox\"}],\"scatterpolar\":[{\"marker\":{\"colorbar\":{\"outlinewidth\":0,\"ticks\":\"\"}},\"type\":\"scatterpolar\"}],\"scatterpolargl\":[{\"marker\":{\"colorbar\":{\"outlinewidth\":0,\"ticks\":\"\"}},\"type\":\"scatterpolargl\"}],\"scatterternary\":[{\"marker\":{\"colorbar\":{\"outlinewidth\":0,\"ticks\":\"\"}},\"type\":\"scatterternary\"}],\"surface\":[{\"colorbar\":{\"outlinewidth\":0,\"ticks\":\"\"},\"colorscale\":[[0.0,\"#0d0887\"],[0.1111111111111111,\"#46039f\"],[0.2222222222222222,\"#7201a8\"],[0.3333333333333333,\"#9c179e\"],[0.4444444444444444,\"#bd3786\"],[0.5555555555555556,\"#d8576b\"],[0.6666666666666666,\"#ed7953\"],[0.7777777777777778,\"#fb9f3a\"],[0.8888888888888888,\"#fdca26\"],[1.0,\"#f0f921\"]],\"type\":\"surface\"}],\"table\":[{\"cells\":{\"fill\":{\"color\":\"#EBF0F8\"},\"line\":{\"color\":\"white\"}},\"header\":{\"fill\":{\"color\":\"#C8D4E3\"},\"line\":{\"color\":\"white\"}},\"type\":\"table\"}]},\"layout\":{\"annotationdefaults\":{\"arrowcolor\":\"#2a3f5f\",\"arrowhead\":0,\"arrowwidth\":1},\"autotypenumbers\":\"strict\",\"coloraxis\":{\"colorbar\":{\"outlinewidth\":0,\"ticks\":\"\"}},\"colorscale\":{\"diverging\":[[0,\"#8e0152\"],[0.1,\"#c51b7d\"],[0.2,\"#de77ae\"],[0.3,\"#f1b6da\"],[0.4,\"#fde0ef\"],[0.5,\"#f7f7f7\"],[0.6,\"#e6f5d0\"],[0.7,\"#b8e186\"],[0.8,\"#7fbc41\"],[0.9,\"#4d9221\"],[1,\"#276419\"]],\"sequential\":[[0.0,\"#0d0887\"],[0.1111111111111111,\"#46039f\"],[0.2222222222222222,\"#7201a8\"],[0.3333333333333333,\"#9c179e\"],[0.4444444444444444,\"#bd3786\"],[0.5555555555555556,\"#d8576b\"],[0.6666666666666666,\"#ed7953\"],[0.7777777777777778,\"#fb9f3a\"],[0.8888888888888888,\"#fdca26\"],[1.0,\"#f0f921\"]],\"sequentialminus\":[[0.0,\"#0d0887\"],[0.1111111111111111,\"#46039f\"],[0.2222222222222222,\"#7201a8\"],[0.3333333333333333,\"#9c179e\"],[0.4444444444444444,\"#bd3786\"],[0.5555555555555556,\"#d8576b\"],[0.6666666666666666,\"#ed7953\"],[0.7777777777777778,\"#fb9f3a\"],[0.8888888888888888,\"#fdca26\"],[1.0,\"#f0f921\"]]},\"colorway\":[\"#636efa\",\"#EF553B\",\"#00cc96\",\"#ab63fa\",\"#FFA15A\",\"#19d3f3\",\"#FF6692\",\"#B6E880\",\"#FF97FF\",\"#FECB52\"],\"font\":{\"color\":\"#2a3f5f\"},\"geo\":{\"bgcolor\":\"white\",\"lakecolor\":\"white\",\"landcolor\":\"#E5ECF6\",\"showlakes\":true,\"showland\":true,\"subunitcolor\":\"white\"},\"hoverlabel\":{\"align\":\"left\"},\"hovermode\":\"closest\",\"mapbox\":{\"style\":\"light\"},\"paper_bgcolor\":\"white\",\"plot_bgcolor\":\"#E5ECF6\",\"polar\":{\"angularaxis\":{\"gridcolor\":\"white\",\"linecolor\":\"white\",\"ticks\":\"\"},\"bgcolor\":\"#E5ECF6\",\"radialaxis\":{\"gridcolor\":\"white\",\"linecolor\":\"white\",\"ticks\":\"\"}},\"scene\":{\"xaxis\":{\"backgroundcolor\":\"#E5ECF6\",\"gridcolor\":\"white\",\"gridwidth\":2,\"linecolor\":\"white\",\"showbackground\":true,\"ticks\":\"\",\"zerolinecolor\":\"white\"},\"yaxis\":{\"backgroundcolor\":\"#E5ECF6\",\"gridcolor\":\"white\",\"gridwidth\":2,\"linecolor\":\"white\",\"showbackground\":true,\"ticks\":\"\",\"zerolinecolor\":\"white\"},\"zaxis\":{\"backgroundcolor\":\"#E5ECF6\",\"gridcolor\":\"white\",\"gridwidth\":2,\"linecolor\":\"white\",\"showbackground\":true,\"ticks\":\"\",\"zerolinecolor\":\"white\"}},\"shapedefaults\":{\"line\":{\"color\":\"#2a3f5f\"}},\"ternary\":{\"aaxis\":{\"gridcolor\":\"white\",\"linecolor\":\"white\",\"ticks\":\"\"},\"baxis\":{\"gridcolor\":\"white\",\"linecolor\":\"white\",\"ticks\":\"\"},\"bgcolor\":\"#E5ECF6\",\"caxis\":{\"gridcolor\":\"white\",\"linecolor\":\"white\",\"ticks\":\"\"}},\"title\":{\"x\":0.05},\"xaxis\":{\"automargin\":true,\"gridcolor\":\"white\",\"linecolor\":\"white\",\"ticks\":\"\",\"title\":{\"standoff\":15},\"zerolinecolor\":\"white\",\"zerolinewidth\":2},\"yaxis\":{\"automargin\":true,\"gridcolor\":\"white\",\"linecolor\":\"white\",\"ticks\":\"\",\"title\":{\"standoff\":15},\"zerolinecolor\":\"white\",\"zerolinewidth\":2}}},\"title\":{\"text\":\"Reason of death\"},\"xaxis\":{\"title\":{\"text\":\"manner of death\"}},\"yaxis\":{\"title\":{\"text\":\"count\"}},\"height\":750,\"width\":750},                        {\"responsive\": true}                    ).then(function(){\n",
              "                            \n",
              "var gd = document.getElementById('6737b4ab-e5a9-425f-8feb-76f1625969da');\n",
              "var x = new MutationObserver(function (mutations, observer) {{\n",
              "        var display = window.getComputedStyle(gd).display;\n",
              "        if (!display || display === 'none') {{\n",
              "            console.log([gd, 'removed!']);\n",
              "            Plotly.purge(gd);\n",
              "            observer.disconnect();\n",
              "        }}\n",
              "}});\n",
              "\n",
              "// Listen for the removal of the full notebook cells\n",
              "var notebookContainer = gd.closest('#notebook-container');\n",
              "if (notebookContainer) {{\n",
              "    x.observe(notebookContainer, {childList: true});\n",
              "}}\n",
              "\n",
              "// Listen for the clearing of the current output cell\n",
              "var outputEl = gd.closest('.output');\n",
              "if (outputEl) {{\n",
              "    x.observe(outputEl, {childList: true});\n",
              "}}\n",
              "\n",
              "                        })                };                            </script>        </div>\n",
              "</body>\n",
              "</html>"
            ]
          },
          "metadata": {}
        }
      ]
    },
    {
      "cell_type": "markdown",
      "source": [
        "### **Male Vs Female**"
      ],
      "metadata": {
        "id": "VFXE7gE0U7t0"
      }
    },
    {
      "cell_type": "code",
      "source": [
        "df_male=df1[df1['gender']=='M']['age'].values\n",
        "df_female=df1[df1['gender']=='F']['age'].values\n",
        "\n",
        "sns.distplot(df_male, hist=False, rug=True,color='red')\n",
        "sns.distplot(df_female, hist=False, rug=True,color='green')"
      ],
      "metadata": {
        "colab": {
          "base_uri": "https://localhost:8080/",
          "height": 580
        },
        "id": "WalSMZymVBQw",
        "outputId": "40ca42ce-321c-41eb-e510-6208676fcad9"
      },
      "execution_count": 31,
      "outputs": [
        {
          "output_type": "stream",
          "name": "stderr",
          "text": [
            "/usr/local/lib/python3.7/dist-packages/seaborn/distributions.py:2619: FutureWarning:\n",
            "\n",
            "`distplot` is a deprecated function and will be removed in a future version. Please adapt your code to use either `displot` (a figure-level function with similar flexibility) or `kdeplot` (an axes-level function for kernel density plots).\n",
            "\n",
            "/usr/local/lib/python3.7/dist-packages/seaborn/distributions.py:2103: FutureWarning:\n",
            "\n",
            "The `axis` variable is no longer used and will be removed. Instead, assign variables directly to `x` or `y`.\n",
            "\n",
            "/usr/local/lib/python3.7/dist-packages/seaborn/distributions.py:2619: FutureWarning:\n",
            "\n",
            "`distplot` is a deprecated function and will be removed in a future version. Please adapt your code to use either `displot` (a figure-level function with similar flexibility) or `kdeplot` (an axes-level function for kernel density plots).\n",
            "\n",
            "/usr/local/lib/python3.7/dist-packages/seaborn/distributions.py:2103: FutureWarning:\n",
            "\n",
            "The `axis` variable is no longer used and will be removed. Instead, assign variables directly to `x` or `y`.\n",
            "\n"
          ]
        },
        {
          "output_type": "execute_result",
          "data": {
            "text/plain": [
              "<matplotlib.axes._subplots.AxesSubplot at 0x7faaf267b5d0>"
            ]
          },
          "metadata": {},
          "execution_count": 31
        },
        {
          "output_type": "display_data",
          "data": {
            "text/plain": [
              "<Figure size 432x288 with 1 Axes>"
            ],
            "image/png": "[encoded data removed]"
          },
          "metadata": {
            "needs_background": "light"
          }
        }
      ]
    },
    {
      "cell_type": "markdown",
      "source": [
        "### **Signs of mental illness on a bar graph**"
      ],
      "metadata": {
        "id": "LumQSj3-W48D"
      }
    },
    {
      "cell_type": "code",
      "source": [
        "df1['signs_of_mental_illness'].value_counts().plot(kind='bar')"
      ],
      "metadata": {
        "colab": {
          "base_uri": "https://localhost:8080/",
          "height": 298
        },
        "id": "wZBXYeZBV4oT",
        "outputId": "97511701-0bd2-419b-e27e-6bf3138ba0e1"
      },
      "execution_count": 32,
      "outputs": [
        {
          "output_type": "execute_result",
          "data": {
            "text/plain": [
              "<matplotlib.axes._subplots.AxesSubplot at 0x7faaf81d9f90>"
            ]
          },
          "metadata": {},
          "execution_count": 32
        },
        {
          "output_type": "display_data",
          "data": {
            "text/plain": [
              "<Figure size 432x288 with 1 Axes>"
            ],
            "image/png": "[encoded data removed]"
          },
          "metadata": {
            "needs_background": "light"
          }
        }
      ]
    },
    {
      "cell_type": "code",
      "source": [
        "sns.countplot(data=df1,x='signs_of_mental_illness')\n",
        "plt.title(\"Count of People with Mental Illness\")\n",
        "plt.show()"
      ],
      "metadata": {
        "colab": {
          "base_uri": "https://localhost:8080/",
          "height": 296
        },
        "id": "1hP8PmHM0tUl",
        "outputId": "51a1c454-f3cf-4ef0-dc5d-048217ad98d7"
      },
      "execution_count": 33,
      "outputs": [
        {
          "output_type": "display_data",
          "data": {
            "text/plain": [
              "<Figure size 432x288 with 1 Axes>"
            ],
            "image/png": "[encoded data removed]"
          },
          "metadata": {
            "needs_background": "light"
          }
        }
      ]
    },
    {
      "cell_type": "markdown",
      "source": [
        "The data says, Most of the people didn't have mental Illness."
      ],
      "metadata": {
        "id": "ThdN5u8h1Nob"
      }
    },
    {
      "cell_type": "markdown",
      "source": [
        "# **Were the people Fleeing from the area of the incident ?**"
      ],
      "metadata": {
        "id": "XGeb7KsH28C8"
      }
    },
    {
      "cell_type": "code",
      "source": [
        "df1['flee'].value_counts().plot(kind='bar')"
      ],
      "metadata": {
        "colab": {
          "base_uri": "https://localhost:8080/",
          "height": 327
        },
        "id": "2DXBvvqk2tfs",
        "outputId": "63d517c1-f526-437e-f31c-c784db765b7a"
      },
      "execution_count": 34,
      "outputs": [
        {
          "output_type": "execute_result",
          "data": {
            "text/plain": [
              "<matplotlib.axes._subplots.AxesSubplot at 0x7faaef8e4ed0>"
            ]
          },
          "metadata": {},
          "execution_count": 34
        },
        {
          "output_type": "display_data",
          "data": {
            "text/plain": [
              "<Figure size 432x288 with 1 Axes>"
            ],
            "image/png": "[encoded data removed]"
          },
          "metadata": {
            "needs_background": "light"
          }
        }
      ]
    },
    {
      "cell_type": "markdown",
      "source": [
        "The Data says, they didn't flee from the site of the incident."
      ],
      "metadata": {
        "id": "cpqss9K23Ej8"
      }
    },
    {
      "cell_type": "code",
      "source": [
        "body_camera_footage = df1[['date','body_camera']]"
      ],
      "metadata": {
        "id": "adr4G3TfXfOH"
      },
      "execution_count": 35,
      "outputs": []
    },
    {
      "cell_type": "code",
      "source": [
        "body_camera_true = body_camera_footage.query('body_camera == True')\n",
        "body_camera_false = body_camera_footage.query('body_camera == False')\n",
        "print('False ',len(body_camera_false),'True ',len(body_camera_true))\n",
        "x = ['No footage Availabe','Footage Availabe']\n",
        "y = [len(body_camera_false),len(body_camera_true)]\n",
        "plt.pie(y, labels = x)\n",
        "plt.title(label = 'Camera Footage')\n",
        "plt.show()"
      ],
      "metadata": {
        "colab": {
          "base_uri": "https://localhost:8080/",
          "height": 281
        },
        "id": "CLxGG4NCXwKn",
        "outputId": "04f3044f-66b6-4ecd-f41b-9d7a56c64cc6"
      },
      "execution_count": 36,
      "outputs": [
        {
          "output_type": "stream",
          "name": "stdout",
          "text": [
            "False  6589 True  1093\n"
          ]
        },
        {
          "output_type": "display_data",
          "data": {
            "text/plain": [
              "<Figure size 432x288 with 1 Axes>"
            ],
            "image/png": "[encoded data removed]"
          },
          "metadata": {}
        }
      ]
    },
    {
      "cell_type": "markdown",
      "source": [
        "Most of the incidents happen when the Body Cam is OFF/ Not Available."
      ],
      "metadata": {
        "id": "VO58RkoO06up"
      }
    },
    {
      "cell_type": "markdown",
      "source": [
        "# **Predict The number of Incidents in the year 2022**"
      ],
      "metadata": {
        "id": "AOU4Ry70FhoM"
      }
    },
    {
      "cell_type": "code",
      "source": [
        "df1['date'].describe()"
      ],
      "metadata": {
        "colab": {
          "base_uri": "https://localhost:8080/"
        },
        "id": "xQeL5w-XBY_P",
        "outputId": "81f71e8c-923c-4ab0-c585-247533c91624"
      },
      "execution_count": 37,
      "outputs": [
        {
          "output_type": "execute_result",
          "data": {
            "text/plain": [
              "count           7682\n",
              "unique          2604\n",
              "top       2018-06-29\n",
              "freq               9\n",
              "Name: date, dtype: object"
            ]
          },
          "metadata": {},
          "execution_count": 37
        }
      ]
    },
    {
      "cell_type": "code",
      "source": [
        "df1['date'] = pd.to_datetime(df1['date'])"
      ],
      "metadata": {
        "id": "MTwVCeqTDZli"
      },
      "execution_count": 38,
      "outputs": []
    },
    {
      "cell_type": "code",
      "source": [
        "df1['year'] = pd.DatetimeIndex(df1['date']).year"
      ],
      "metadata": {
        "id": "Yr0IRZdtFgmX"
      },
      "execution_count": 39,
      "outputs": []
    },
    {
      "cell_type": "code",
      "source": [
        "df1['year'].nunique()"
      ],
      "metadata": {
        "colab": {
          "base_uri": "https://localhost:8080/"
        },
        "id": "zed8jBBVFyvu",
        "outputId": "36a69b5c-4f27-4ac8-f20f-8c532b24289d"
      },
      "execution_count": 40,
      "outputs": [
        {
          "output_type": "execute_result",
          "data": {
            "text/plain": [
              "8"
            ]
          },
          "metadata": {},
          "execution_count": 40
        }
      ]
    },
    {
      "cell_type": "code",
      "source": [
        "yearAndCount = pd.DataFrame();"
      ],
      "metadata": {
        "id": "O2Aw1acWHL8t"
      },
      "execution_count": 41,
      "outputs": []
    },
    {
      "cell_type": "code",
      "source": [
        "df1['year'].value_counts()"
      ],
      "metadata": {
        "colab": {
          "base_uri": "https://localhost:8080/"
        },
        "id": "KQWn7EfNF_i7",
        "outputId": "0c813cc0-13ac-4fa7-82bd-9aa5e1508f6c"
      },
      "execution_count": 42,
      "outputs": [
        {
          "output_type": "execute_result",
          "data": {
            "text/plain": [
              "2021    1055\n",
              "2020    1020\n",
              "2019     999\n",
              "2015     994\n",
              "2018     993\n",
              "2017     981\n",
              "2016     958\n",
              "2022     682\n",
              "Name: year, dtype: int64"
            ]
          },
          "metadata": {},
          "execution_count": 42
        }
      ]
    },
    {
      "cell_type": "code",
      "source": [
        "yearAndCount['year'] =  df1['year'].unique()\n",
        "yearAndCount =  yearAndCount.drop(7)"
      ],
      "metadata": {
        "id": "KZtwXd6RHUmJ"
      },
      "execution_count": 43,
      "outputs": []
    },
    {
      "cell_type": "code",
      "source": [
        "yearAndCount"
      ],
      "metadata": {
        "colab": {
          "base_uri": "https://localhost:8080/",
          "height": 269
        },
        "id": "v2komXiXH213",
        "outputId": "312d46ff-79c9-4ec9-976a-83895faaf2f0"
      },
      "execution_count": 44,
      "outputs": [
        {
          "output_type": "execute_result",
          "data": {
            "text/plain": [
              "   year\n",
              "0  2015\n",
              "1  2016\n",
              "2  2017\n",
              "3  2018\n",
              "4  2019\n",
              "5  2020\n",
              "6  2021"
            ],
            "text/html": [
              "\n",
              "  <div id=\"df-6a1defd1-bcd5-4217-9e7a-e8a10057d3a6\">\n",
              "    <div class=\"colab-df-container\">\n",
              "      <div>\n",
              "<style scoped>\n",
              "    .dataframe tbody tr th:only-of-type {\n",
              "        vertical-align: middle;\n",
              "    }\n",
              "\n",
              "    .dataframe tbody tr th {\n",
              "        vertical-align: top;\n",
              "    }\n",
              "\n",
              "    .dataframe thead th {\n",
              "        text-align: right;\n",
              "    }\n",
              "</style>\n",
              "<table border=\"1\" class=\"dataframe\">\n",
              "  <thead>\n",
              "    <tr style=\"text-align: right;\">\n",
              "      <th></th>\n",
              "      <th>year</th>\n",
              "    </tr>\n",
              "  </thead>\n",
              "  <tbody>\n",
              "    <tr>\n",
              "      <th>0</th>\n",
              "      <td>2015</td>\n",
              "    </tr>\n",
              "    <tr>\n",
              "      <th>1</th>\n",
              "      <td>2016</td>\n",
              "    </tr>\n",
              "    <tr>\n",
              "      <th>2</th>\n",
              "      <td>2017</td>\n",
              "    </tr>\n",
              "    <tr>\n",
              "      <th>3</th>\n",
              "      <td>2018</td>\n",
              "    </tr>\n",
              "    <tr>\n",
              "      <th>4</th>\n",
              "      <td>2019</td>\n",
              "    </tr>\n",
              "    <tr>\n",
              "      <th>5</th>\n",
              "      <td>2020</td>\n",
              "    </tr>\n",
              "    <tr>\n",
              "      <th>6</th>\n",
              "      <td>2021</td>\n",
              "    </tr>\n",
              "  </tbody>\n",
              "</table>\n",
              "</div>\n",
              "      <button class=\"colab-df-convert\" onclick=\"convertToInteractive('df-6a1defd1-bcd5-4217-9e7a-e8a10057d3a6')\"\n",
              "              title=\"Convert this dataframe to an interactive table.\"\n",
              "              style=\"display:none;\">\n",
              "        \n",
              "  <svg xmlns=\"http://www.w3.org/2000/svg\" height=\"24px\"viewBox=\"0 0 24 24\"\n",
              "       width=\"24px\">\n",
              "    <path d=\"M0 0h24v24H0V0z\" fill=\"none\"/>\n",
              "    <path d=\"M18.56 5.44l.94 2.06.94-2.06 2.06-.94-2.06-.94-.94-2.06-.94 2.06-2.06.94zm-11 1L8.5 8.5l.94-2.06 2.06-.94-2.06-.94L8.5 2.5l-.94 2.06-2.06.94zm10 10l.94 2.06.94-2.06 2.06-.94-2.06-.94-.94-2.06-.94 2.06-2.06.94z\"/><path d=\"M17.41 7.96l-1.37-1.37c-.4-.4-.92-.59-1.43-.59-.52 0-1.04.2-1.43.59L10.3 9.45l-7.72 7.72c-.78.78-.78 2.05 0 2.83L4 21.41c.39.39.9.59 1.41.59.51 0 1.02-.2 1.41-.59l7.78-7.78 2.81-2.81c.8-.78.8-2.07 0-2.86zM5.41 20L4 18.59l7.72-7.72 1.47 1.35L5.41 20z\"/>\n",
              "  </svg>\n",
              "      </button>\n",
              "      \n",
              "  <style>\n",
              "    .colab-df-container {\n",
              "      display:flex;\n",
              "      flex-wrap:wrap;\n",
              "      gap: 12px;\n",
              "    }\n",
              "\n",
              "    .colab-df-convert {\n",
              "      background-color: #E8F0FE;\n",
              "      border: none;\n",
              "      border-radius: 50%;\n",
              "      cursor: pointer;\n",
              "      display: none;\n",
              "      fill: #1967D2;\n",
              "      height: 32px;\n",
              "      padding: 0 0 0 0;\n",
              "      width: 32px;\n",
              "    }\n",
              "\n",
              "    .colab-df-convert:hover {\n",
              "      background-color: #E2EBFA;\n",
              "      box-shadow: 0px 1px 2px rgba(60, 64, 67, 0.3), 0px 1px 3px 1px rgba(60, 64, 67, 0.15);\n",
              "      fill: #174EA6;\n",
              "    }\n",
              "\n",
              "    [theme=dark] .colab-df-convert {\n",
              "      background-color: #3B4455;\n",
              "      fill: #D2E3FC;\n",
              "    }\n",
              "\n",
              "    [theme=dark] .colab-df-convert:hover {\n",
              "      background-color: #434B5C;\n",
              "      box-shadow: 0px 1px 3px 1px rgba(0, 0, 0, 0.15);\n",
              "      filter: drop-shadow(0px 1px 2px rgba(0, 0, 0, 0.3));\n",
              "      fill: #FFFFFF;\n",
              "    }\n",
              "  </style>\n",
              "\n",
              "      <script>\n",
              "        const buttonEl =\n",
              "          document.querySelector('#df-6a1defd1-bcd5-4217-9e7a-e8a10057d3a6 button.colab-df-convert');\n",
              "        buttonEl.style.display =\n",
              "          google.colab.kernel.accessAllowed ? 'block' : 'none';\n",
              "\n",
              "        async function convertToInteractive(key) {\n",
              "          const element = document.querySelector('#df-6a1defd1-bcd5-4217-9e7a-e8a10057d3a6');\n",
              "          const dataTable =\n",
              "            await google.colab.kernel.invokeFunction('convertToInteractive',\n",
              "                                                     [key], {});\n",
              "          if (!dataTable) return;\n",
              "\n",
              "          const docLinkHtml = 'Like what you see? Visit the ' +\n",
              "            '<a target=\"_blank\" href=https://colab.research.google.com/notebooks/data_table.ipynb>data table notebook</a>'\n",
              "            + ' to learn more about interactive tables.';\n",
              "          element.innerHTML = '';\n",
              "          dataTable['output_type'] = 'display_data';\n",
              "          await google.colab.output.renderOutput(dataTable, element);\n",
              "          const docLink = document.createElement('div');\n",
              "          docLink.innerHTML = docLinkHtml;\n",
              "          element.appendChild(docLink);\n",
              "        }\n",
              "      </script>\n",
              "    </div>\n",
              "  </div>\n",
              "  "
            ]
          },
          "metadata": {},
          "execution_count": 44
        }
      ]
    },
    {
      "cell_type": "code",
      "source": [
        "x=[]\n",
        "def yearCount(i):\n",
        "  print(df1['year'].value_counts()[i])\n",
        "  x.append(df1['year'].value_counts()[i])\n",
        "  print(x)\n",
        "\n",
        "for i in yearAndCount['year']:\n",
        "  print(i)\n",
        "  yearCount(i)\n",
        "\n",
        "yearAndCount = yearAndCount.assign(count = x)"
      ],
      "metadata": {
        "colab": {
          "base_uri": "https://localhost:8080/"
        },
        "id": "BRp63-eeH4pb",
        "outputId": "5d32ed78-76c4-49c2-df6f-8501759e5d24"
      },
      "execution_count": 45,
      "outputs": [
        {
          "output_type": "stream",
          "name": "stdout",
          "text": [
            "2015\n",
            "994\n",
            "[994]\n",
            "2016\n",
            "958\n",
            "[994, 958]\n",
            "2017\n",
            "981\n",
            "[994, 958, 981]\n",
            "2018\n",
            "993\n",
            "[994, 958, 981, 993]\n",
            "2019\n",
            "999\n",
            "[994, 958, 981, 993, 999]\n",
            "2020\n",
            "1020\n",
            "[994, 958, 981, 993, 999, 1020]\n",
            "2021\n",
            "1055\n",
            "[994, 958, 981, 993, 999, 1020, 1055]\n"
          ]
        }
      ]
    },
    {
      "cell_type": "code",
      "source": [
        "yearAndCount['count'].describe()"
      ],
      "metadata": {
        "colab": {
          "base_uri": "https://localhost:8080/"
        },
        "id": "Y8wfjyYyIxu3",
        "outputId": "e53be726-1790-4748-dfeb-7c4059b333af"
      },
      "execution_count": 46,
      "outputs": [
        {
          "output_type": "execute_result",
          "data": {
            "text/plain": [
              "count       7.000000\n",
              "mean     1000.000000\n",
              "std        30.648545\n",
              "min       958.000000\n",
              "25%       987.000000\n",
              "50%       994.000000\n",
              "75%      1009.500000\n",
              "max      1055.000000\n",
              "Name: count, dtype: float64"
            ]
          },
          "metadata": {},
          "execution_count": 46
        }
      ]
    },
    {
      "cell_type": "code",
      "source": [
        "import matplotlib.pyplot as plt\n",
        "#find line of best fit\n",
        "a, b = np.polyfit(yearAndCount['year'],yearAndCount['count'] , 1)\n",
        "\n",
        "#add points to plot\n",
        "plt.scatter(yearAndCount['year'],yearAndCount['count'])\n",
        "\n",
        "#add line of best fit to plot\n",
        "plt.plot(yearAndCount['year'], a*yearAndCount['year']+b)\n",
        "print(b+2022*a)  "
      ],
      "metadata": {
        "colab": {
          "base_uri": "https://localhost:8080/",
          "height": 282
        },
        "id": "Ky5ZdoGhI2AC",
        "outputId": "ef3450bc-0324-4782-fe4b-0702f2ebf138"
      },
      "execution_count": 47,
      "outputs": [
        {
          "output_type": "stream",
          "name": "stdout",
          "text": [
            "1046.428571428576\n"
          ]
        },
        {
          "output_type": "display_data",
          "data": {
            "text/plain": [
              "<Figure size 432x288 with 1 Axes>"
            ],
            "image/png": "[encoded data removed]"
          },
          "metadata": {
            "needs_background": "light"
          }
        }
      ]
    },
    {
      "cell_type": "code",
      "source": [
        "from statistics import mean\n",
        "def best_fit_slope_and_intercept(xs,ys):\n",
        "    m = (((mean(xs)*mean(ys)) - mean(xs*ys)) /\n",
        "         ((mean(xs)*mean(xs)) - mean(xs*xs)))\n",
        "    \n",
        "    b = mean(ys) - m*mean(xs)\n",
        "    \n",
        "    return m, b\n",
        "m, b = best_fit_slope_and_intercept(yearAndCount['year'],yearAndCount['count'])\n",
        "\n",
        "print(m,b)\n",
        "regression_line = [(m*x)+b for x in yearAndCount['year']]\n",
        "\n",
        "\n",
        "regression_line = []\n",
        "for x in yearAndCount['year']:\n",
        "    regression_line.append((m*x)+b)\n",
        "\n",
        "import matplotlib.pyplot as plt\n",
        "from matplotlib import style\n",
        "style.use('ggplot')\n",
        "\n",
        "\n",
        "plt.scatter(yearAndCount['year'],yearAndCount['count'],color='#003F72')\n",
        "plt.plot(yearAndCount['year'], regression_line)\n",
        "plt.show()"
      ],
      "metadata": {
        "colab": {
          "base_uri": "https://localhost:8080/",
          "height": 282
        },
        "id": "gdZaY5Ffelb1",
        "outputId": "6494cdfb-6bab-4571-d9fa-091b88f9c669"
      },
      "execution_count": 48,
      "outputs": [
        {
          "output_type": "stream",
          "name": "stdout",
          "text": [
            "11.607142857159488 -22423.214285747847\n"
          ]
        },
        {
          "output_type": "display_data",
          "data": {
            "text/plain": [
              "<Figure size 432x288 with 1 Axes>"
            ],
            "image/png": "[encoded data removed]"
          },
          "metadata": {}
        }
      ]
    },
    {
      "cell_type": "code",
      "source": [
        "predict_x = 2022\n",
        "predict_y = (m*predict_x)+b\n"
      ],
      "metadata": {
        "id": "JPNhOZKmftpK"
      },
      "execution_count": 49,
      "outputs": []
    },
    {
      "cell_type": "code",
      "source": [
        "row = {'year': 2022 , 'count':predict_y}\n",
        "print(row)\n",
        "yearAndCount = yearAndCount.append(row, ignore_index = True)\n",
        "regression_line = []\n",
        "for x in yearAndCount['year']:\n",
        "    regression_line.append((m*x)+b)\n",
        "plt.scatter(yearAndCount['year'],yearAndCount['count'],color='#003F72',label='data')\n",
        "plt.plot(yearAndCount['year'], regression_line, label='regression line')\n",
        "plt.legend(loc=4)\n",
        "plt.show()"
      ],
      "metadata": {
        "colab": {
          "base_uri": "https://localhost:8080/",
          "height": 282
        },
        "id": "KfhCwcxEkKGk",
        "outputId": "edf34dde-2471-4e1d-ac52-442380d1c0be"
      },
      "execution_count": 50,
      "outputs": [
        {
          "output_type": "stream",
          "name": "stdout",
          "text": [
            "{'year': 2022, 'count': 1046.428571428638}\n"
          ]
        },
        {
          "output_type": "display_data",
          "data": {
            "text/plain": [
              "<Figure size 432x288 with 1 Axes>"
            ],
            "image/png": "[encoded data removed]"
          },
          "metadata": {}
        }
      ]
    },
    {
      "cell_type": "markdown",
      "source": [
        "**As the year 2022 is yet be completed, the number of incidents in the year is less. So I droped the row for year 2022 and then performed 'Regression - to program the Best Fit Line' on the data. Thus found the estimated number of incidents.** As per the results that I got, the count is 1046."
      ],
      "metadata": {
        "id": "toxJ3lpZmGB8"
      }
    }
  ]
}